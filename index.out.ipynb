{
 "cells": [
  {
   "cell_type": "markdown",
   "metadata": {},
   "source": [
    "# Development and Validation of a Risk Prediction Model of\n",
    "\n",
    "linezolid-induced thrombocytopenia in Vietnamese patients\n",
    "\n",
    "Nhi Nguyen Ha (The National DI&ADR Centre, Hanoi University of Pharmacy)  \n",
    "An Tang Quoc (The National DI&ADR Centre, Hanoi University of Pharmacy)  \n",
    "Saturday, March 23, 2024\n",
    "\n",
    "Write abstract here, note the indentation\n",
    "\n",
    "# 1. Checklist\n",
    "\n",
    "| **Section/topic**                   | **Item No** | **Description**                                                                                                                                                                                                                        | **Draft date** |\n",
    "|------------------|:----------------:|-------------------|:----------------:|\n",
    "| **Title and abstract**              |             |                                                                                                                                                                                                                                        |                |\n",
    "| Title                               |      1      | Identify the study as developing and/or validating a multivariable prediction model, the target population, and the outcome to be predicted                                                                                            |                |\n",
    "| Abstract                            |      2      | Provide a summary of research objectives, setting, participants, data source, sample size, predictors, outcome, statistical analysis, results, and conclusions\\*                                                                       |                |\n",
    "| **Introduction**                    |             |                                                                                                                                                                                                                                        |                |\n",
    "| Background and objectives           |     3a      | Explain the medical context (including whether diagnostic or prognostic) and rationale for developing or validating the prediction model, including references to existing models, and the advantages of the study design\\*            |                |\n",
    "|                                     |     3b      | Specify the objectives, including whether the study describes the development or validation of the model\\*                                                                                                                             |                |\n",
    "| **Methods**                         |             |                                                                                                                                                                                                                                        |                |\n",
    "| Participants and data               |     4a      | Describe eligibility criteria for participants and datasets\\*                                                                                                                                                                          |                |\n",
    "|                                     |     4b      | Describe the origin of the data, and how the data were identified, requested, and collected                                                                                                                                            |                |\n",
    "| Sample size                         |      5      | Explain how the sample size was arrived at\\*                                                                                                                                                                                           |     Mar 21     |\n",
    "| Outcomes and predictors             |     6a      | Define the outcome that is predicted by the model, including how and when assessed\\*                                                                                                                                                   |     Mar 21     |\n",
    "|                                     |     6b      | Define all predictors used in developing or validating the model, including how and when measured\\*                                                                                                                                    |                |\n",
    "| Data preparation                    |     7a      | Describe how the data were prepared for analysis, including any cleaning, harmonisation, linkage, and quality checks                                                                                                                   |                |\n",
    "|                                     |     7b      | Describe the method for assessing risk of bias and applicability in the individual clusters (eg, using PROBAST)                                                                                                                        |                |\n",
    "|                                     |     7c      | For validation, identify any differences in definition and measurement from the development data (eg, setting, eligibility criteria, outcome, predictors)\\*                                                                            |                |\n",
    "|                                     |     7d      | Describe how missing data were handled\\*                                                                                                                                                                                               |                |\n",
    "| Data analysis                       |     8a      | Describe how predictors were handled in the analyses                                                                                                                                                                                   |                |\n",
    "|                                     |     8b      | Specify the type of model, all model building procedures (eg, any predictor selection and penalisation), and method for validation\\*                                                                                                   |                |\n",
    "|                                     |     8c      | Describe how any heterogeneity across clusters (eg, studies or settings) in model parameter values was handled                                                                                                                         |                |\n",
    "|                                     |     8d      | For validation, describe how the predictions were calculated                                                                                                                                                                           |                |\n",
    "|                                     |     8e      | Specify all measures used to assess model performance (eg, calibration, discrimination, and decision curve analysis) and, if relevant, to compare multiple models                                                                      |                |\n",
    "|                                     |     8f      | Describe how any heterogeneity across clusters (eg, studies or settings) in model performance was handled and quantified                                                                                                               |                |\n",
    "|                                     |     8g      | Describe any model updating (eg, recalibration) arising from the validation, either overall or for particular populations or settings\\*                                                                                                |                |\n",
    "| Sensitivity analysis                |      9      | Describe any planned subgroup or sensitivity analysis—eg, assessing performance according to sources of bias, participant characteristics, setting                                                                                     |                |\n",
    "| **Results**                         |             |                                                                                                                                                                                                                                        |                |\n",
    "| Participants and datasets           |     10a     | Describe the number of clusters and participants from data identified through to data analysed; a flowchart might be helpful\\*                                                                                                         |                |\n",
    "|                                     |     10b     | Report the characteristics overall and where applicable for each data source or setting, including the key dates, predictors, treatments received, sample size, number of outcome events, follow-up time, and amount of missing data\\* |                |\n",
    "|                                     |     10c     | For validation, show a comparison with the development data of the distribution of important variables (demographics, predictors, and outcome)                                                                                         |                |\n",
    "| Risk of bias                        |     11      | Report the results of the risk-of-bias assessment in the individual clusters                                                                                                                                                           |                |\n",
    "| Model development and specification |     12a     | Report the results of any assessments of heterogeneity across clusters that led to subsequent actions during the model’s development (eg, inclusion or exclusion of particular predictors or clusters)                                 |                |\n",
    "|                                     |     12b     | Present the final prediction model (ie, all regression coefficients, and model intercept or baseline estimate of the outcome at a given time point) and explain how to use it for predictions in new individuals\\*                     |                |\n",
    "| Model performance                   |     13a     | Report performance measures (with uncertainty intervals) for the prediction model, overall and for each cluster                                                                                                                        |                |\n",
    "|                                     |     13b     | Report results of any heterogeneity across clusters in model performance                                                                                                                                                               |                |\n",
    "| Model updating                      |     14      | Report the results from any model updating (including the updated model equation and subsequent performance), overall and for each cluster\\*                                                                                           |                |\n",
    "| Sensitivity analysis                |     15      | Report results from any subgroup or sensitivity analysis                                                                                                                                                                               |                |\n",
    "| **Discussion**                      |             |                                                                                                                                                                                                                                        |                |\n",
    "| Interpretation                      |     16a     | Give an overall interpretation of the main results, including heterogeneity across clusters in model performance, in the context of the objectives and previous studies\\*                                                              |                |\n",
    "|                                     |     16b     | For validation, discuss the results with reference to the model performance in the development data, and in any previous validations                                                                                                   |                |\n",
    "|                                     |     16c     | Discuss the strengths of the study and any limitations (eg, missing or incomplete data, non-representativeness, data harmonisation problems)                                                                                           |                |\n",
    "| Implications                        |     17      | Discuss the potential use of the model and implications for future research, with specific view to generalisability and applicability of the model across different settings or (sub)populations                                       |                |\n",
    "| **Other information**               |             |                                                                                                                                                                                                                                        |                |\n",
    "| Supplementary information           |     18      | Provide information about the availability of supplementary resources (eg, study protocol, analysis code, datasets)\\*                                                                                                                  |                |\n",
    "| Funding                             |     19      | Give the source of funding and the role of the funders for the present study                                                                                                                                                           |                |\n",
    "\n",
    "TRIPOD-Cluster checklist of items to include when reporting a study developing or validating a multivariable prediction model using clustered data\n",
    "\n",
    "# 2. Introduction\n",
    "\n",
    "## 2.1 Background and objectives\n",
    "\n",
    "Linezolid is an oxazolidinones antibiotics \\[[1](#ref-cazavet_risk_2020)\\].\n",
    "\n",
    "# 3. Methods\n",
    "\n",
    "## 3.1 Participants and data\n",
    "\n",
    "### 3.1.1 4a: Describe eligibility criteria for participants and datasets\n",
    "\n",
    "### 3.1.2 4b: Describe the origin of the data, and how the data were identified, requested, and collected\n",
    "\n",
    "Note: 2 periods, convenience sampling (1st), extract from the electronic medical record (except BM1 from physical MR). Infomation was filled out in a paper form and stored in Excel.\n",
    "\n",
    "Include 2 publications for BM1 and TN1.\n",
    "\n",
    "## 3.2 Sample size\n",
    "\n",
    "Previous studies developing logistic regression models for LI-TP risk predictions have included 4-6 predictors in their final models \\[[2](#ref-liu_analysis_2021)–[5](#ref-xu_establishment_2023)\\]. We expect to include about as many candidate predictors, based on results from the expert opinion survey and the Bayesian Model Selection algorithm <a href=\"#sec-outcomes-and-predictors\" class=\"quarto-xref\">see 3.3</a>. Some of the candidate predictors might be continuous, which may potentially require non-linear modelling and therefore slightly increase the number of variables.\n",
    "\n",
    "A general rule of thumb is for at least 10 events be available for each candidate predictor considered in a prediction model \\[[6](#ref-peduzzi1995)\\]. We have a total of 816 eligible patients and 264 of those have experienced the outcome. If the number of candidate predictors is 7, we would have 37 events per candidate predictor, which is considerably greater than the minimum number required. Even if the number of parameters screened is 20, we would still have 13 events per candidate predictor.\n",
    "\n",
    "However, the aforementioned rule of thumb have generated some debate in the literature, with recent results suggesting that event per variable criterion is too simplistic and has no strong relation to the predictive performance of a model. Riley et al \\[[7](#ref-riley2019)\\] proposed a different set of criteria to estimate minimum sample size for models developed using logistic regression, which are the following:\n",
    "\n",
    "1.  Small optimism in predictor effect estimates, defined as a global shrinkage factor of \\>= 0.9.\n",
    "2.  Small absolute difference of \\<= 0.05 in the model’s apparent and adjusted Nagelkerke’s R-squared.\n",
    "3.  Precise estimation of the overall risk in the population.\n",
    "\n",
    "Criteria 1 and 2 aims to reduce the potential of overfitting. Criteria 3 aims to ensure the overall risk is estimated precisely.\n",
    "\n",
    "### 3.2.1 Step 1: Choose the number of candidate predictors of interest for inclusion in the model, and calculate the corresponding number of predictor parameters (p)\n",
    "\n",
    "Note that one predictor may require two or more parameters. For example, a k-category predictor requires k-1 parameters and a continuous predictor model with a non-linear trend requires more than one parameter to be estimated. Also include any potential interaction terms towards the total p.\n",
    "\n",
    "When using a predictor selection method, p should be defined as the total number of parameters screened, and not just the subset that are included in the final model.\n",
    "\n",
    "Assuming maximum total p to be 20.\n",
    "\n",
    "> **Note**\n",
    ">\n",
    "> The value of p is assumed to be no larger than 20 because univariate regression shows there are 20 variables that are significantly correlated with the outcome."
   ],
   "id": "c33f7b7b-eed7-410b-8234-24f6c42d510b"
  },
  {
   "cell_type": "code",
   "execution_count": null,
   "metadata": {},
   "outputs": [],
   "source": [
    "parameter_number <- 20"
   ],
   "id": "29465aff-160f-4182-a7e4-b85dab5fff68"
  },
  {
   "cell_type": "markdown",
   "metadata": {},
   "source": [
    "### 3.2.2 Step 2: Choose sensible values for R<sup>2</sup><sub>CS_adj</sub> and max(R<sup>2</sup><sub>CS_app</sub>) based on previous studies where R<sup>2</sup><sub>CS</sub> is the Cox-Snell R<sup>2</sup> statistic.\n",
    "\n",
    "The value of max(R<sup>2</sup><sub>CS_app</sub>) is based on the overall prevalence or overall rate of the outcome in the population of interest. The incidence of LI-TP in patients treated with linezolid was estimated to be 37% in a meta-analysis by Zhao et al \\[[8](#ref-zhao_prediction_2024)\\].\n",
    "\n",
    "The value of R<sup>2</sup><sub>CS_adj</sub> could be based on that for a previously published model in the same setting and population (with similar outcome definition). However, as previous studies does not provide any information to identify a sensible value of the minimum expected Cox-Snell R<sup>2</sup>, the value R<sup>2</sup><sub>CS_adj</sub> will be assumed to correspond to a R<sup>2</sup><sub>Nagelkerke</sub> of 0.15."
   ],
   "id": "a2464cbb-166c-4cc7-92ea-9f669f900d5f"
  },
  {
   "cell_type": "code",
   "execution_count": null,
   "metadata": {},
   "outputs": [
    {
     "output_type": "stream",
     "name": "stdout",
     "text": [
      "[1] 0.2048324"
     ]
    }
   ],
   "source": [
    "calculate_R2_CS_adj <- function(n = 100, E, R2_N = 0.15) {\n",
    "  ln_L_null <- E * log(E / n) + (n - E) * log(1 - E / n)\n",
    "  max_R2_CS_app <- 1 - exp(2 * ln_L_null / n)\n",
    "  R2_CS_adj <- R2_N / max_R2_CS_app\n",
    "  return(list(R2_CS_adj = R2_CS_adj, max_R2_CS_app = max_R2_CS_app))\n",
    "}\n",
    "\n",
    "(cox_snell_r2 <- calculate_R2_CS_adj(E = 37)$R2_CS_adj)"
   ],
   "id": "d9071123-be85-42f2-8415-4b84e6f3ca30"
  },
  {
   "cell_type": "markdown",
   "metadata": {},
   "source": [
    "### 3.2.3 Step 3: Criterion 1\n",
    "\n",
    "Calculate the sample size required to ensure Van Houwelingen’s global shrinkage factor (S<sub>VH</sub>) is close to 1. A value of S<sub>VH</sub> \\>= 0.90 is generally recommended, which reflects a small amount of overfitting during model development."
   ],
   "id": "1be6ac40-516c-4fa4-88ef-930246f186ad"
  },
  {
   "cell_type": "code",
   "execution_count": null,
   "metadata": {},
   "outputs": [
    {
     "output_type": "stream",
     "name": "stdout",
     "text": [
      "[1] 775"
     ]
    }
   ],
   "source": [
    "calculate_sample_size_1 <- function(p, R2_CS_adj, S_VH = 0.90) {\n",
    "  n <- p / ((S_VH - 1) * log(1 - R2_CS_adj / S_VH))\n",
    "  return(n)\n",
    "}\n",
    "\n",
    "(\n",
    "  sample_size_criterion_1 <-\n",
    "    calculate_sample_size_1(\n",
    "      p = parameter_number,\n",
    "      R2_CS_adj = cox_snell_r2\n",
    "    ) |> ceiling()\n",
    ")"
   ],
   "id": "33e3e99d-87da-4a3d-8cca-f507409e443a"
  },
  {
   "cell_type": "markdown",
   "metadata": {},
   "source": [
    "We see that 775 participants are required to meet criterion 1.\n",
    "\n",
    "### 3.2.4 Step 4: Criterion 2\n",
    "\n",
    "Calculate the shrinkage factor (S<sub>VH</sub>) required to ensure a small absolute difference of \\<= 0.05 in the developed model’s apparent and adjusted Nagelkerke’s R<sup>2</sup>. Then derive the required sample size conditional on this value of S<sub>VH</sub>."
   ],
   "id": "0de7d227-8722-43a9-8914-ca87326c2dd7"
  },
  {
   "cell_type": "code",
   "execution_count": null,
   "metadata": {},
   "outputs": [
    {
     "output_type": "stream",
     "name": "stdout",
     "text": [
      "[1] 478"
     ]
    }
   ],
   "source": [
    "calculate_sample_size_2 <- function(p, R2_CS_adj, max_R2_CS_app, delta = 0.05) {\n",
    "  S_VH <- R2_CS_adj / (R2_CS_adj + delta * max_R2_CS_app)\n",
    "  n <- p / ((S_VH - 1) * log(1 - R2_CS_adj / S_VH))\n",
    "  return(n)\n",
    "}\n",
    "\n",
    "(\n",
    "  sample_size_criterion_2 <-\n",
    "    calculate_sample_size_2(\n",
    "      p = parameter_number,\n",
    "      R2_CS_adj = cox_snell_r2,\n",
    "      max_R2_CS_app = max_apparent_cox_snell_r2\n",
    "    ) |> ceiling()\n",
    ")"
   ],
   "id": "9c183acb-27d6-4d46-a8db-34ec0224516f"
  },
  {
   "cell_type": "markdown",
   "metadata": {},
   "source": [
    "We see that 478 participants are required to meet criterion 2.\n",
    "\n",
    "### 3.2.5 Step 5: Criterion 3\n",
    "\n",
    "Calculate the sample size required to ensure a precise estimate of the overall risk in the population. The suggested absolute margin of error is \\<= 0.05."
   ],
   "id": "b8faf6d7-5544-408a-8747-062e4dad6948"
  },
  {
   "cell_type": "code",
   "execution_count": null,
   "metadata": {},
   "outputs": [
    {
     "output_type": "stream",
     "name": "stdout",
     "text": [
      "[1] 359"
     ]
    }
   ],
   "source": [
    "calculate_sample_size_3 <- function(phi_hat, delta = 0.05) {\n",
    "  n <- (1.96 / delta)^2 * phi_hat * (1 - phi_hat)\n",
    "  return(n)\n",
    "}\n",
    "\n",
    "(\n",
    "  sample_size_criterion_3 <-\n",
    "    calculate_sample_size_3(phi_hat = 0.37) |> ceiling()\n",
    ")"
   ],
   "id": "64d0c33e-ec91-4557-9c2c-7efb2b83fe25"
  },
  {
   "cell_type": "markdown",
   "metadata": {},
   "source": [
    "We see that 359 participants are required to meet criterion 3.\n",
    "\n",
    "### 3.2.6 Step 6: Final sample size\n",
    "\n",
    "The required minimum sample size is the maximum value from steps 3 to 5, to ensure that each of criteria 1 to 3 are met."
   ],
   "id": "1d929d2b-c608-401a-aa7d-b4cdf289c04b"
  },
  {
   "cell_type": "code",
   "execution_count": null,
   "metadata": {},
   "outputs": [
    {
     "output_type": "stream",
     "name": "stdout",
     "text": [
      "[1] 775"
     ]
    }
   ],
   "source": [
    "(minimum_sample_size <- max(sample_size_criterion_1, sample_size_criterion_2, sample_size_criterion_3))"
   ],
   "id": "0ae7491d-edd8-4745-81a3-2cd9a7dedb8c"
  },
  {
   "cell_type": "markdown",
   "metadata": {},
   "source": [
    "The final estimate of minimum sample size is 775, therefore our data is sufficient for model development with at most 20 parameters.\n",
    "\n",
    "## 3.3 Outcomes and predictors\n",
    "\n",
    "### 3.3.1 6a. Define the outcome that is predicted by the model, including how and when assessed\n",
    "\n",
    "The outcome of interest is linezolid-induced thrombocytopenia, defined as (i) a platelet count of \\< 112.5 x 10<sup>9</sup> cells/L (75% of the lower limit of normal) for patients with a baseline platelet count in the normal range; (ii) A reduction in platelet count of ≥ 25% from the baseline value for patients with a baseline platelet count of \\< 150 x 10<sup>9</sup> cells/L \\[[5](#ref-xu_establishment_2023),[9](#ref-zyvoxpr),[10](#ref-kawasuji_proposal_2021)\\].\n",
    "\n",
    "Normal platelet count is defined as 150-450 x 10<sup>9</sup> cells/L. Baseline platelet count is defined as the last recorded PLT value before the start of linezolid therapy. Participants are considered to have met the outcome if they have a platelet count that meets the above criteria at any time during linezolid therapy or within 5 days after the end of therapy.\n",
    "\n",
    "> **Warning**\n",
    ">\n",
    "> Thrombocytopenia may occur within a few days after stopping LZD, when the drug hasn’t been completely eliminated. However, it is unknown exactly how long after stopping LZD can a TP event still be attributed to LZD use. The value of 5 days has been chosen *almost* arbitrarily.\n",
    ">\n",
    "> Our rationale is that after 5 days (120 hrs), LZD is guaranteed to be completely eliminated in all patients, as the longest t<sub>1/2</sub> is 8.3 ± 2.4 hrs in end-stage renal disease patients, +3 SD would be ~16 hrs, so 120 hrs is \\>7 half-lives, therefore in patients with the worst clearance, 99% of them would have 99% of the drug eliminated from their systems. Furthermore, trough LZD concentration (C<sub>min</sub>) has previously been identified as a predictor of LI-TP development, and LI-TP itself is mostly reversible after discontinuation, so we would argue that any TP events that occur after LZD has been eliminated from the system would not be related to LZD use.\n",
    "\n",
    "### 3.3.2 6b. Define all predictors used in developing or validating the model, including how and when measured\n",
    "\n",
    "## 3.4 Data preparation\n",
    "\n",
    "### 3.4.1 7a. Describe how the data were prepared for analysis, including any cleaning, harmonisation, linkage, and quality checks\n",
    "\n",
    "Infection diagnosis was recoded into binary variable….\n",
    "\n",
    "look up by ID number. Điền thông tin về bệnh mắc kèm, bệnh nhiễm khuẩn và thuốc dùng kèm từ\n",
    "\n",
    "1 BN có 2 đợt điều trị -\\> 2 entry have identical ID number -\\> manually sort and exclude the 2nd course Cepha, peni và carbapenem.\n",
    "\n",
    "## 3.5 Data analysis\n",
    "\n",
    "## 3.6 Sensitivity analysis\n",
    "\n",
    "# 4. Results\n",
    "\n",
    "## 4.1 Participants and datasets\n",
    "\n",
    "## 4.2 Risk of bias\n",
    "\n",
    "## 4.3 Model development and specification\n",
    "\n",
    "## 4.4 Model performance\n",
    "\n",
    "## 4.5 Model updating\n",
    "\n",
    "## 4.6 Sensitivity analysis\n",
    "\n",
    "# 5. Discussion\n",
    "\n",
    "## 5.1 Interpretation\n",
    "\n",
    "## 5.2 Implications\n",
    "\n",
    "# 6. Other information\n",
    "\n",
    "## 6.1 Supplementary information\n",
    "\n",
    "## 6.2 Funding\n",
    "\n",
    "## 6.3 References\n",
    "\n",
    "1\\. Cazavet J, Bounes FV, Ruiz S, Seguin T, Crognier L, Rouget A, et al. Risk factor analysis for linezolid-associated thrombocytopenia in critically ill patients. Eur J Clin Microbiol Infect Dis \\[Internet\\]. 2020;39:527–38. Available from: <https://www.ncbi.nlm.nih.gov/pubmed/31853741>\n",
    "\n",
    "2\\. Liu Y, Liu T, Wei G, Yan P, Fang X, Xie L. Analysis of risk factors and establishment of risk prediction model for linezolid-associated thrombocytopenia. Medical Journal of Chinese People’s Liberation Army \\[Internet\\]. 2021;46. Available from: <https://d.wanfangdata.com.cn/periodical/jfjyxzz202108006>\n",
    "\n",
    "3\\. Duan L, Zhou Q, Feng Z, Zhu C, Cai Y, Wang S, et al. A Regression Model to Predict Linezolid Induced Thrombocytopenia in Neonatal Sepsis Patients: A Ten-Year Retrospective Cohort Study. Front Pharmacol \\[Internet\\]. 2022;13:710099. Available from: <https://www.ncbi.nlm.nih.gov/pubmed/35185555>\n",
    "\n",
    "4\\. Qin Y, Chen Z, Gao S, Pan MK, Li YX, Lv ZQ, et al. Development and Validation of a Risk Prediction Model of Linezolid-induced Thrombocytopenia in Elderly Patients \\[Internet\\]. In Review; 2021 Jun. Available from: <https://www.researchsquare.com/article/rs-582799/v1>\n",
    "\n",
    "5\\. Xu J, Lu J, Yuan Y, Duan L, Shi L, Chen F, et al. [Establishment and validation of a risk prediction model incorporating concentrations of linezolid and its metabolite PNU142300 for linezolid-induced thrombocytopenia](https://doi.org/10.1093/jac/dkad191). The Journal of Antimicrobial Chemotherapy. 2023;78:1974–81.\n",
    "\n",
    "6\\. Peduzzi P, Concato J, Feinstein AR, Holford TR. Importance of events per independent variable in proportional hazards regression analysis II. Accuracy and precision of regression estimates. Journal of Clinical Epidemiology \\[Internet\\]. 1995;48:1503–10. Available from: <https://www.jclinepi.com/article/0895-4356(95)00048-8/abstract>\n",
    "\n",
    "7\\. Riley RD, Snell KI, Ensor J, Burke DL, Harrell Jr FE, Moons KG, et al. Minimum sample size for developing a multivariable prediction model: PART II - binary and time-to-event outcomes. Statistics in Medicine \\[Internet\\]. 2019;38:1276–96. Available from: <https://onlinelibrary.wiley.com/doi/abs/10.1002/sim.7992>\n",
    "\n",
    "8\\. Zhao X, Peng Q, Hu D, Li W, Ji Q, Dong Q, et al. Prediction of risk factors for linezolid-induced thrombocytopenia based on neural network model. Frontiers in Pharmacology \\[Internet\\]. 2024 \\[cited 2024 Feb 27\\];15. Available from: <https://www.frontiersin.org/journals/pharmacology/articles/10.3389/fphar.2024.1292828>\n",
    "\n",
    "9\\. Zyvox prescribing information \\[Internet\\]. Available from: <https://labeling.pfizer.com/showlabeling.aspx?id=649>\n",
    "\n",
    "10\\. Kawasuji H, Tsuji Y, Ogami C, Kimoto K, Ueno A, Miyajima Y, et al. Proposal of initial and maintenance dosing regimens with linezolid for renal impairment patients. BMC Pharmacology and Toxicology \\[Internet\\]. 2021 \\[cited 2024 Feb 26\\];22:13. Available from: <https://doi.org/10.1186/s40360-021-00479-w>"
   ],
   "id": "a3bf9124-de3d-4f06-b302-887257df16b3"
  }
 ],
 "nbformat": 4,
 "nbformat_minor": 5,
 "metadata": {}
}
