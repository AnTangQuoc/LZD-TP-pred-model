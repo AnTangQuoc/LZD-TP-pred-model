{
 "cells": [
  {
   "cell_type": "markdown",
   "metadata": {},
   "source": [
    "# Development and Validation of a Risk Prediction Model of\n",
    "\n",
    "linezolid-induced thrombocytopenia in Vietnamese patients\n",
    "\n",
    "Nhi Nguyen Ha (The National DI&ADR Centre, Hanoi University of Pharmacy)  \n",
    "An Tang Quoc (The National DI&ADR Centre, Hanoi University of Pharmacy)  \n",
    "Friday, March 22, 2024\n",
    "\n",
    "Write abstract here, note the indentation\n",
    "\n",
    "# Checklist\n",
    "\n",
    "| **Section/topic**                   | **Item No** | **Description**                                                                                                                                                                                                                        | **Draft date** |\n",
    "|------------------|:----------------:|-------------------|:----------------:|\n",
    "| **Title and abstract**              |             |                                                                                                                                                                                                                                        |                |\n",
    "| Title                               |      1      | Identify the study as developing and/or validating a multivariable prediction model, the target population, and the outcome to be predicted                                                                                            |                |\n",
    "| Abstract                            |      2      | Provide a summary of research objectives, setting, participants, data source, sample size, predictors, outcome, statistical analysis, results, and conclusions\\*                                                                       |                |\n",
    "| **Introduction**                    |             |                                                                                                                                                                                                                                        |                |\n",
    "| Background and objectives           |     3a      | Explain the medical context (including whether diagnostic or prognostic) and rationale for developing or validating the prediction model, including references to existing models, and the advantages of the study design\\*            |                |\n",
    "|                                     |     3b      | Specify the objectives, including whether the study describes the development or validation of the model\\*                                                                                                                             |                |\n",
    "| **Methods**                         |             |                                                                                                                                                                                                                                        |                |\n",
    "| Participants and data               |     4a      | Describe eligibility criteria for participants and datasets\\*                                                                                                                                                                          |                |\n",
    "|                                     |     4b      | Describe the origin of the data, and how the data were identified, requested, and collected                                                                                                                                            |                |\n",
    "| Sample size                         |      5      | Explain how the sample size was arrived at\\*                                                                                                                                                                                           |     Mar 21     |\n",
    "| Outcomes and predictors             |     6a      | Define the outcome that is predicted by the model, including how and when assessed\\*                                                                                                                                                   |     Mar 21     |\n",
    "|                                     |     6b      | Define all predictors used in developing or validating the model, including how and when measured\\*                                                                                                                                    |                |\n",
    "| Data preparation                    |     7a      | Describe how the data were prepared for analysis, including any cleaning, harmonisation, linkage, and quality checks                                                                                                                   |                |\n",
    "|                                     |     7b      | Describe the method for assessing risk of bias and applicability in the individual clusters (eg, using PROBAST)                                                                                                                        |                |\n",
    "|                                     |     7c      | For validation, identify any differences in definition and measurement from the development data (eg, setting, eligibility criteria, outcome, predictors)\\*                                                                            |                |\n",
    "|                                     |     7d      | Describe how missing data were handled\\*                                                                                                                                                                                               |                |\n",
    "| Data analysis                       |     8a      | Describe how predictors were handled in the analyses                                                                                                                                                                                   |                |\n",
    "|                                     |     8b      | Specify the type of model, all model building procedures (eg, any predictor selection and penalisation), and method for validation\\*                                                                                                   |                |\n",
    "|                                     |     8c      | Describe how any heterogeneity across clusters (eg, studies or settings) in model parameter values was handled                                                                                                                         |                |\n",
    "|                                     |     8d      | For validation, describe how the predictions were calculated                                                                                                                                                                           |                |\n",
    "|                                     |     8e      | Specify all measures used to assess model performance (eg, calibration, discrimination, and decision curve analysis) and, if relevant, to compare multiple models                                                                      |                |\n",
    "|                                     |     8f      | Describe how any heterogeneity across clusters (eg, studies or settings) in model performance was handled and quantified                                                                                                               |                |\n",
    "|                                     |     8g      | Describe any model updating (eg, recalibration) arising from the validation, either overall or for particular populations or settings\\*                                                                                                |                |\n",
    "| Sensitivity analysis                |      9      | Describe any planned subgroup or sensitivity analysis—eg, assessing performance according to sources of bias, participant characteristics, setting                                                                                     |                |\n",
    "| **Results**                         |             |                                                                                                                                                                                                                                        |                |\n",
    "| Participants and datasets           |     10a     | Describe the number of clusters and participants from data identified through to data analysed; a flowchart might be helpful\\*                                                                                                         |                |\n",
    "|                                     |     10b     | Report the characteristics overall and where applicable for each data source or setting, including the key dates, predictors, treatments received, sample size, number of outcome events, follow-up time, and amount of missing data\\* |                |\n",
    "|                                     |     10c     | For validation, show a comparison with the development data of the distribution of important variables (demographics, predictors, and outcome)                                                                                         |                |\n",
    "| Risk of bias                        |     11      | Report the results of the risk-of-bias assessment in the individual clusters                                                                                                                                                           |                |\n",
    "| Model development and specification |     12a     | Report the results of any assessments of heterogeneity across clusters that led to subsequent actions during the model’s development (eg, inclusion or exclusion of particular predictors or clusters)                                 |                |\n",
    "|                                     |     12b     | Present the final prediction model (ie, all regression coefficients, and model intercept or baseline estimate of the outcome at a given time point) and explain how to use it for predictions in new individuals\\*                     |                |\n",
    "| Model performance                   |     13a     | Report performance measures (with uncertainty intervals) for the prediction model, overall and for each cluster                                                                                                                        |                |\n",
    "|                                     |     13b     | Report results of any heterogeneity across clusters in model performance                                                                                                                                                               |                |\n",
    "| Model updating                      |     14      | Report the results from any model updating (including the updated model equation and subsequent performance), overall and for each cluster\\*                                                                                           |                |\n",
    "| Sensitivity analysis                |     15      | Report results from any subgroup or sensitivity analysis                                                                                                                                                                               |                |\n",
    "| **Discussion**                      |             |                                                                                                                                                                                                                                        |                |\n",
    "| Interpretation                      |     16a     | Give an overall interpretation of the main results, including heterogeneity across clusters in model performance, in the context of the objectives and previous studies\\*                                                              |                |\n",
    "|                                     |     16b     | For validation, discuss the results with reference to the model performance in the development data, and in any previous validations                                                                                                   |                |\n",
    "|                                     |     16c     | Discuss the strengths of the study and any limitations (eg, missing or incomplete data, non-representativeness, data harmonisation problems)                                                                                           |                |\n",
    "| Implications                        |     17      | Discuss the potential use of the model and implications for future research, with specific view to generalisability and applicability of the model across different settings or (sub)populations                                       |                |\n",
    "| **Other information**               |             |                                                                                                                                                                                                                                        |                |\n",
    "| Supplementary information           |     18      | Provide information about the availability of supplementary resources (eg, study protocol, analysis code, datasets)\\*                                                                                                                  |                |\n",
    "| Funding                             |     19      | Give the source of funding and the role of the funders for the present study                                                                                                                                                           |                |\n",
    "\n",
    "TRIPOD-Cluster checklist of items to include when reporting a study developing or validating a multivariable prediction model using clustered data\n",
    "\n",
    "# Introduction\n",
    "\n",
    "## Background and objectives\n",
    "\n",
    "Linezolid is an oxazolidinones antibiotics @cazavet_risk_2020.\n",
    "\n",
    "# Methods\n",
    "\n",
    "## Participants and data\n",
    "\n",
    "## Sample size\n",
    "\n",
    "Previous studies developing logistic regression models for LI-TP risk predictions have included 4-6 predictors in their final models @liu_analysis_2021; @duan_regression_2022; @qin_development_2021; @xu_establishment_2023. We expect to include about as many candidate predictors, based on results from the expert opinion survey and the Bayesian Model Selection algorithm \\[see @sec-outcomes-and-predictors\\]. Some of the candidate predictors might be continuous, which may potentially require non-linear modelling and therefore slightly increase the number of variables.\n",
    "\n",
    "A general rule of thumb is for at least 10 events be available for each candidate predictor considered in a prediction model @peduzzi1995. We have a total of 816 eligible patients and 264 of those have experienced the outcome. If the number of candidate predictors is 7, we would have 37 events per candidate predictor, which is considerably greater than the minimum number required. Even if the number of parameters screened is 20, we would still have 13 events per candidate predictor.\n",
    "\n",
    "However, the aforementioned rule of thumb have generated some debate in the literature, with recent results suggesting that event per variable criterion is too simplistic and has no strong relation to the predictive performance of a model. Riley et al @riley2019 proposed a different set of criteria to estimate minimum sample size for models developed using logistic regression, which are the following:\n",
    "\n",
    "1.  Small optimism in predictor effect estimates, defined as a global shrinkage factor of \\>= 0.9.\n",
    "2.  Small absolute difference of \\<= 0.05 in the model’s apparent and adjusted Nagelkerke’s R-squared.\n",
    "3.  Precise estimation of the overall risk in the population.\n",
    "\n",
    "Criteria 1 and 2 aims to reduce the potential of overfitting. Criteria 3 aims to ensure the overall risk is estimated precisely.\n",
    "\n",
    "### Step 1: Choose the number of candidate predictors of interest for inclusion in the model, and calculate the corresponding number of predictor parameters (p)\n",
    "\n",
    "Note that one predictor may require two or more parameters. For example, a k-category predictor requires k-1 parameters and a continuous predictor model with a non-linear trend requires more than one parameter to be estimated. Also include any potential interaction terms towards the total p.\n",
    "\n",
    "When using a predictor selection method, p should be defined as the total number of parameters screened, and not just the subset that are included in the final model.\n",
    "\n",
    "Assuming maximum total p to be 20.\n",
    "\n",
    "> **Note**\n",
    ">\n",
    "> The value of p is assumed to be no larger than 20 because univariate regression shows there are 20 variables that are significantly correlated with the outcome."
   ],
   "id": "9198aae9-157a-4554-aab6-f7abdef256ef"
  },
  {
   "cell_type": "code",
   "execution_count": null,
   "metadata": {},
   "outputs": [],
   "source": [
    "parameter_number <- 20"
   ],
   "id": "1677ad1a-79e9-4022-8f4f-d49033040094"
  },
  {
   "cell_type": "markdown",
   "metadata": {},
   "source": [
    "### Step 2: Choose sensible values for R<sup>2</sup><sub>CS_adj</sub> and max(R<sup>2</sup><sub>CS_app</sub>) based on previous studies where R<sup>2</sup><sub>CS</sub> is the Cox-Snell R<sup>2</sup> statistic.\n",
    "\n",
    "The value of max(R<sup>2</sup><sub>CS_app</sub>) is based on the overall prevalence or overall rate of the outcome in the population of interest. The incidence of LI-TP in patients treated with linezolid was estimated to be 37% in a meta-analysis by Zhao et al @zhao_prediction_2024.\n",
    "\n",
    "The value of R<sup>2</sup><sub>CS_adj</sub> could be based on that for a previously published model in the same setting and population (with similar outcome definition). However, as previous studies does not provide any information to identify a sensible value of the minimum expected Cox-Snell R<sup>2</sup>, the value R<sup>2</sup><sub>CS_adj</sub> will be assumed to correspond to a R<sup>2</sup><sub>Nagelkerke</sub> of 0.15."
   ],
   "id": "0a684040-12e7-4d3a-a8fc-dd8e49e1bf4b"
  },
  {
   "cell_type": "code",
   "execution_count": null,
   "metadata": {},
   "outputs": [
    {
     "output_type": "stream",
     "name": "stdout",
     "text": [
      "[1] 0.2048324"
     ]
    }
   ],
   "source": [
    "calculate_R2_CS_adj <- function(n = 100, E, R2_N = 0.15) {\n",
    "  ln_L_null <- E * log(E / n) + (n - E) * log(1 - E / n)\n",
    "  max_R2_CS_app <- 1 - exp(2 * ln_L_null / n)\n",
    "  R2_CS_adj <- R2_N / max_R2_CS_app\n",
    "  return(list(R2_CS_adj = R2_CS_adj, max_R2_CS_app = max_R2_CS_app))\n",
    "}\n",
    "\n",
    "(cox_snell_r2 <- calculate_R2_CS_adj(E = 37)$R2_CS_adj)"
   ],
   "id": "746cbd89-a421-423e-bf4d-fffbd2eb746f"
  },
  {
   "cell_type": "markdown",
   "metadata": {},
   "source": [
    "### Step 3: Criterion 1\n",
    "\n",
    "Calculate the sample size required to ensure Van Houwelingen’s global shrinkage factor (S<sub>VH</sub>) is close to 1. A value of S<sub>VH</sub> \\>= 0.90 is generally recommended, which reflects a small amount of overfitting during model development."
   ],
   "id": "16dbd226-11f2-4dde-9bc4-6678108784c9"
  },
  {
   "cell_type": "code",
   "execution_count": null,
   "metadata": {},
   "outputs": [
    {
     "output_type": "stream",
     "name": "stdout",
     "text": [
      "[1] 775"
     ]
    }
   ],
   "source": [
    "calculate_sample_size_1 <- function(p, R2_CS_adj, S_VH = 0.90) {\n",
    "  n <- p / ((S_VH - 1) * log(1 - R2_CS_adj / S_VH))\n",
    "  return(n)\n",
    "}\n",
    "\n",
    "(\n",
    "  sample_size_criterion_1 <-\n",
    "    calculate_sample_size_1(\n",
    "      p = parameter_number,\n",
    "      R2_CS_adj = cox_snell_r2\n",
    "    ) |> ceiling()\n",
    ")"
   ],
   "id": "0060aeb7-538e-413e-a114-0aa1f3accbd3"
  },
  {
   "cell_type": "markdown",
   "metadata": {},
   "source": [
    "We see that 775 participants are required to meet criterion 1.\n",
    "\n",
    "### Step 4: Criterion 2\n",
    "\n",
    "Calculate the shrinkage factor (S<sub>VH</sub>) required to ensure a small absolute difference of \\<= 0.05 in the developed model’s apparent and adjusted Nagelkerke’s R<sup>2</sup>. Then derive the required sample size conditional on this value of S<sub>VH</sub>."
   ],
   "id": "93ee45f1-85e9-4f8b-a872-d4356a033ad2"
  },
  {
   "cell_type": "code",
   "execution_count": null,
   "metadata": {},
   "outputs": [
    {
     "output_type": "stream",
     "name": "stdout",
     "text": [
      "[1] 478"
     ]
    }
   ],
   "source": [
    "calculate_sample_size_2 <- function(p, R2_CS_adj, max_R2_CS_app, delta = 0.05) {\n",
    "  S_VH <- R2_CS_adj / (R2_CS_adj + delta * max_R2_CS_app)\n",
    "  n <- p / ((S_VH - 1) * log(1 - R2_CS_adj / S_VH))\n",
    "  return(n)\n",
    "}\n",
    "\n",
    "(\n",
    "  sample_size_criterion_2 <-\n",
    "    calculate_sample_size_2(\n",
    "      p = parameter_number,\n",
    "      R2_CS_adj = cox_snell_r2,\n",
    "      max_R2_CS_app = max_apparent_cox_snell_r2\n",
    "    ) |> ceiling()\n",
    ")"
   ],
   "id": "93232205-ef96-48c8-986b-586535fb238e"
  },
  {
   "cell_type": "markdown",
   "metadata": {},
   "source": [
    "We see that 478 participants are required to meet criterion 2.\n",
    "\n",
    "### Step 5: Criterion 3\n",
    "\n",
    "Calculate the sample size required to ensure a precise estimate of the overall risk in the population. The suggested absolute margin of error is \\<= 0.05."
   ],
   "id": "17557ab2-9baf-4125-861f-3a284a62f7a4"
  },
  {
   "cell_type": "code",
   "execution_count": null,
   "metadata": {},
   "outputs": [
    {
     "output_type": "stream",
     "name": "stdout",
     "text": [
      "[1] 359"
     ]
    }
   ],
   "source": [
    "calculate_sample_size_3 <- function(phi_hat, delta = 0.05) {\n",
    "  n <- (1.96 / delta)^2 * phi_hat * (1 - phi_hat)\n",
    "  return(n)\n",
    "}\n",
    "\n",
    "(\n",
    "  sample_size_criterion_3 <-\n",
    "    calculate_sample_size_3(phi_hat = 0.37) |> ceiling()\n",
    ")"
   ],
   "id": "9309e008-b924-4a48-b7c7-7bd6bac59f1e"
  },
  {
   "cell_type": "markdown",
   "metadata": {},
   "source": [
    "We see that 359 participants are required to meet criterion 3.\n",
    "\n",
    "### Step 6: Final sample size\n",
    "\n",
    "The required minimum sample size is the maximum value from steps 3 to 5, to ensure that each of criteria 1 to 3 are met."
   ],
   "id": "dbfc7ebb-738c-4916-8564-a6ac2cf69ca3"
  },
  {
   "cell_type": "code",
   "execution_count": null,
   "metadata": {},
   "outputs": [
    {
     "output_type": "stream",
     "name": "stdout",
     "text": [
      "[1] 775"
     ]
    }
   ],
   "source": [
    "(minimum_sample_size <- max(sample_size_criterion_1, sample_size_criterion_2, sample_size_criterion_3))"
   ],
   "id": "386afa08-97d3-4005-b554-fbf00fc15d17"
  },
  {
   "cell_type": "markdown",
   "metadata": {},
   "source": [
    "The final estimate of minimum sample size is 775, therefore our data is sufficient for model development with at most 20 parameters.\n",
    "\n",
    "## Outcomes and predictors\n",
    "\n",
    "### 6a. Define the outcome that is predicted by the model, including how and when assessed\n",
    "\n",
    "The outcome of interest is linezolid-induced thrombocytopenia, defined as (i) a platelet count of \\< 112.5 x 10<sup>9</sup> cells/L (75% of the lower limit of normal) for patients with a baseline platelet count in the normal range; (ii) A reduction in platelet count of ≥ 25% from the baseline value for patients with a baseline platelet count of \\< 150 x 10<sup>9</sup> cells/L @zyvoxpr; @xu_establishment_2023; @kawasuji_proposal_2021.\n",
    "\n",
    "Normal platelet count is defined as 150-450 x 10<sup>9</sup> cells/L. Baseline platelet count is defined as the last recorded PLT value before the start of linezolid therapy. Participants are considered to have met the outcome if they have a platelet count that meets the above criteria at any time during linezolid therapy or within 5 days after the end of therapy.\n",
    "\n",
    "> **Warning**\n",
    ">\n",
    "> Thrombocytopenia may occur within a few days after stopping LZD, when the drug hasn’t been completely eliminated. However, it is unknown exactly how long after stopping LZD can a TP event still be attributed to LZD use. The value of 5 days has been chosen *almost* arbitrarily.\n",
    ">\n",
    "> Our rationale is that after 5 days (120 hrs), LZD is guaranteed to be completely eliminated in all patients, as the longest t<sub>1/2</sub> is 8.3 ± 2.4 hrs in end-stage renal disease patients, +3 SD would be ~16 hrs, so 120 hrs is \\>7 half-lives, therefore in patients with the worst clearance, 99% of them would have 99% of the drug eliminated from their systems. Furthermore, trough LZD concentration (C<sub>min</sub>) has previously been identified as a predictor of LI-TP development, and LI-TP itself is mostly reversible after discontinuation, so we would argue that any TP events that occur after LZD has been eliminated from the system would not be related to LZD use.\n",
    "\n",
    "### 6b. Define all predictors used in developing or validating the model, including how and when measured\n",
    "\n",
    "## Data preparation\n",
    "\n",
    "### 7a. Describe how the data were prepared for analysis, including any cleaning, harmonisation, linkage, and quality checks\n",
    "\n",
    "## Data analysis\n",
    "\n",
    "## Sensitivity analysis\n",
    "\n",
    "# Results\n",
    "\n",
    "## Participants and datasets\n",
    "\n",
    "## Risk of bias\n",
    "\n",
    "## Model development and specification\n",
    "\n",
    "## Model performance\n",
    "\n",
    "## Model updating\n",
    "\n",
    "## Sensitivity analysis\n",
    "\n",
    "# Discussion\n",
    "\n",
    "## Interpretation\n",
    "\n",
    "## Implications\n",
    "\n",
    "# Other information\n",
    "\n",
    "## Supplementary information\n",
    "\n",
    "## Funding\n",
    "\n",
    "## References"
   ],
   "id": "88032c7f-99a8-468a-94e9-bfd35cfea3a4"
  }
 ],
 "nbformat": 4,
 "nbformat_minor": 5,
 "metadata": {}
}
