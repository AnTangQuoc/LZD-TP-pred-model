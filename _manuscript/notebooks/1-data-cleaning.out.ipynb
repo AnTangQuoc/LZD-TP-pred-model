{
 "cells": [
  {
   "cell_type": "markdown",
   "metadata": {},
   "source": [
    "# Data Cleaning\n",
    "\n",
    "## Inputs"
   ],
   "id": "70238144-035e-4a90-b438-5c2fc1a71c75"
  },
  {
   "cell_type": "code",
   "execution_count": null,
   "metadata": {},
   "outputs": [
    {
     "output_type": "stream",
     "name": "stderr",
     "text": [
      "── Attaching core tidyverse packages ──────────────────────── tidyverse 2.0.0 ──\n",
      "✔ dplyr     1.1.4     ✔ readr     2.1.4\n",
      "✔ forcats   1.0.0     ✔ stringr   1.5.1\n",
      "✔ ggplot2   3.4.4     ✔ tibble    3.2.1\n",
      "✔ lubridate 1.9.3     ✔ tidyr     1.3.0\n",
      "✔ purrr     1.0.2     \n",
      "── Conflicts ────────────────────────────────────────── tidyverse_conflicts() ──\n",
      "✖ dplyr::filter() masks stats::filter()\n",
      "✖ dplyr::lag()    masks stats::lag()\n",
      "ℹ Use the conflicted package (<http://conflicted.r-lib.org/>) to force all conflicts to become errors"
     ]
    },
    {
     "output_type": "stream",
     "name": "stderr",
     "text": [
      "Rows: 1207 Columns: 93\n",
      "── Column specification ────────────────────────────────────────────────────────\n",
      "Delimiter: \",\"\n",
      "chr   (4): patient_ID, site, dept, LZD_route\n",
      "dbl   (9): patient_age, patient_weight, charlson, baseline_CLCR, baseline_WB...\n",
      "lgl  (77): patient_sex, dept_ICU, dept_ER, dept_other, invasive_ETI, invasiv...\n",
      "date  (3): baseline_date, LZD_start, LZD_end\n",
      "\n",
      "ℹ Use `spec()` to retrieve the full column specification for this data.\n",
      "ℹ Specify the column types or set `show_col_types = FALSE` to quiet this message."
     ]
    },
    {
     "output_type": "stream",
     "name": "stderr",
     "text": [
      "Rows: 7370 Columns: 11\n",
      "── Column specification ────────────────────────────────────────────────────────\n",
      "Delimiter: \",\"\n",
      "chr  (1): patient_ID\n",
      "dbl  (7): test_HGB, test_PLT, test_ADR_TP, test_CTCAE, test_onset, test_WBC,...\n",
      "date (3): LZD_start, LZD_end, test_date\n",
      "\n",
      "ℹ Use `spec()` to retrieve the full column specification for this data.\n",
      "ℹ Specify the column types or set `show_col_types = FALSE` to quiet this message."
     ]
    }
   ],
   "source": [
    "library(tidyverse)\n"
   ],
   "id": "cd0c68fc-cee3-4b15-b41b-6b805e7bc07e"
  },
  {
   "cell_type": "code",
   "execution_count": null,
   "metadata": {},
   "outputs": [],
   "source": [
    "# This code block cleans and filters the 'inputs_general' data.\n",
    "# 1. Replaces 'TrTM' with 'IV' in the 'LZD_route' column.\n",
    "# 2. Replaces any occurrence of 'IV' followed by 'PO'\n",
    "#    or 'PO' followed by 'IV' in the 'LZD_route' column with 'IV&PO'.\n",
    "# 3. Removes rows where 'LZD_route' is '0'.\n",
    "# 4. Removes rows where 'patient_age' is less than 18.\n",
    "# 5. Removes rows where 'LZD_duration' is less than 3.\n",
    "# 6. Removes rows where 'LZD_start' or 'LZD_end' is not within the study period.\n",
    "# 7. Removes rows where any variable that starts with \"comed\" is NA.\n",
    "inputs_cleaned <- inputs_general |>\n",
    "  mutate(\n",
    "    LZD_route = str_replace(LZD_route, \"TrTM\", \"IV\"),\n",
    "    LZD_route = str_replace(LZD_route, \"IV.*PO|PO.*IV\", \"IV&PO\")\n",
    "  ) |>\n",
    "  filter(!LZD_route == \"0\") |>\n",
    "  filter(patient_age >= 18) |>\n",
    "  filter(LZD_duration >= 3) |>\n",
    "  filter(complete.cases(across(starts_with(\"comed\")))) |>\n",
    "  filter(\n",
    "    site == \"ND1\" &\n",
    "      (between(LZD_start, as_date(\"2021-07-01\"), as_date(\"2021-12-31\")) |\n",
    "        between(LZD_end, as_date(\"2021-07-01\"), as_date(\"2021-12-31\"))) |\n",
    "      site == \"ND2\" &\n",
    "        (between(LZD_start, as_date(\"2022-04-01\"), as_date(\"2022-09-30\")) |\n",
    "          between(LZD_end, as_date(\"2022-04-01\"), as_date(\"2022-09-30\"))) |\n",
    "      site == \"BM1\" &\n",
    "        (between(LZD_start, as_date(\"2019-11-01\"), as_date(\"2019-12-31\")) |\n",
    "          between(LZD_end, as_date(\"2019-11-01\"), as_date(\"2019-12-31\"))) |\n",
    "      site == \"BM2\" &\n",
    "        (between(LZD_start, as_date(\"2022-12-01\"), as_date(\"2023-03-31\")) |\n",
    "          between(LZD_end, as_date(\"2022-12-01\"), as_date(\"2023-03-31\"))) |\n",
    "      site == \"TN1\" &\n",
    "        (between(LZD_start, as_date(\"2020-01-01\"), as_date(\"2020-06-30\")) |\n",
    "          between(LZD_end, as_date(\"2020-01-01\"), as_date(\"2020-06-30\"))) |\n",
    "      site == \"TN2\" &\n",
    "        (between(LZD_start, as_date(\"2022-09-01\"), as_date(\"2023-02-28\")) |\n",
    "          between(LZD_end, as_date(\"2022-09-01\"), as_date(\"2023-02-28\")))\n",
    "  )\n"
   ],
   "id": "eb74a946-d289-4103-939e-078e1e8a31f6"
  },
  {
   "cell_type": "code",
   "execution_count": null,
   "metadata": {},
   "outputs": [],
   "source": [
    "# This code filters the 'inputs_labs_general' data frame.\n",
    "# 1. Remove rows with LZD use duration less than 3 days.\n",
    "inputs_labs_pipe_1 <- inputs_labs_general |>\n",
    "  filter(LZD_end - LZD_start >= 2)\n"
   ],
   "id": "360980ce-33a8-4ace-b715-1404d500c944"
  },
  {
   "cell_type": "code",
   "execution_count": null,
   "metadata": {},
   "outputs": [
    {
     "output_type": "stream",
     "name": "stderr",
     "text": [
      "Joining with `by = join_by(patient_ID, LZD_start, LZD_end)`"
     ]
    }
   ],
   "source": [
    "# Helper function to add new rows to each group in a data frame.\n",
    "# reframe() generate new rows where its arguments are variables in the data frame.\n",
    "# bind_rows() bind the new rows to the original data frame.\n",
    "# group_modify() apply the previous functions to each group in a data frame.\n",
    "add_reframe_rows <- function(.data, ...) {\n",
    "  group_modify(.data, function(x, y) {\n",
    "    bind_rows(x, reframe(x, ...))\n",
    "  })\n",
    "}\n",
    "\n",
    "# This code remove 'patient_ID' that has no valid 'test_PLT'\n",
    "# either in 7 days prior to 'LZD_start' or during LZD use.\n",
    "# 1. Two rows are added to each 'patient_ID' to ensure there is at least one row\n",
    "#    in both time periods of each patient that can be used for flagging.\n",
    "# 2. 'flag_post_start' is used to separate two time periods for each 'patient_ID'.\n",
    "#    The first period is 7 days prior to 'LZD_start' and the second period is during LZD use.\n",
    "# 3. 'flag_remove_check' is used to check if all 'test_PLT' values are NAs\n",
    "#    in each time periods of each 'patient_ID'.\n",
    "#    If any time period initially had no rows, the new row added in step 1 will be used.\n",
    "#    That group will have only one 'test_PLT' with the value NA and so the flag will be TRUE.\n",
    "# 4. For each 'patient_ID', if any 'flag_remove_check' is TRUE,\n",
    "#    all rows of that 'patient_ID' will be removed.\n",
    "# 5. Finally, rows with 'flag_temp' as TRUE are removed.\n",
    "#    These rows were added in step 1 and are no longer needed.\n",
    "inputs_labs_cleaned <- inputs_labs_pipe_1 |>\n",
    "  group_by(patient_ID) |>\n",
    "  arrange(test_date, .by_group = TRUE) |>\n",
    "  add_reframe_rows(test_date = min(test_date) - 100, LZD_start = min(LZD_start), flag_temp = TRUE) |>\n",
    "  add_reframe_rows(test_date = max(test_date) + 100, LZD_start = max(LZD_start), flag_temp = TRUE) |>\n",
    "  mutate(\n",
    "    flag_too_early = test_date <= LZD_start - 8,\n",
    "    flag_post_start = test_date >= LZD_start + 1,\n",
    "    flag_post_end = test_date >= LZD_end + 1\n",
    "  ) |>\n",
    "  group_by(patient_ID, flag_post_start) |>\n",
    "  mutate(flag_remove_check = all(is.na(test_PLT[which((!flag_too_early & !flag_post_end) | flag_temp)]))) |>\n",
    "  group_by(patient_ID) |>\n",
    "  filter(!any(flag_remove_check)) |>\n",
    "  filter(is.na(flag_temp)) |>\n",
    "  select(-flag_temp)\n",
    "\n",
    "# inner_join() keeps only patients present in both data frames, essentially removing patients\n",
    "# without lab tests or other comorbidity/medication data.\n",
    "inputs_cleaned_joined <-\n",
    "  inner_join(inputs_cleaned, inputs_labs_cleaned)\n"
   ],
   "id": "0a53d4cc-8864-415c-800b-3193a9cf6838"
  },
  {
   "cell_type": "markdown",
   "metadata": {},
   "source": [
    "### Mutating"
   ],
   "id": "e5e13568-fd98-49cc-945a-869776080fb2"
  },
  {
   "cell_type": "code",
   "execution_count": null,
   "metadata": {},
   "outputs": [],
   "source": [
    "\n",
    "# This code flags 'patient_ID' that had at least one thrombocytopenia event during LZD use.\n",
    "# Thrombocytopenia is defined as follows:\n",
    "# a. If baseline PLT is normal (150-450), then thrombocytopenia is defined as PLT < 112.5.\n",
    "# b. If baseline PLT is low (< 150), then thrombocytopenia is defined as PLT <= 75% of baseline.\n",
    "# Baseline date is defined as the latest 'test_date' before 'LZD_start' that has a non-NA 'test_PLT.'\n",
    "# This 'test_date' must be within 7 days before 'LZD_start', which is already ensured by the cleaning code.\n",
    "#\n",
    "# The code performs the following operations:\n",
    "# 1. Groups the data by 'patient_ID'.\n",
    "# 2. Flags all 'test_date' after the baseline date. Baseline is defined above.\n",
    "# 3. Flags all 'test_date' that meet the thrombocytopenia definition. This is an ADR event.\n",
    "# 4. Flags all 'patient_ID' that have at least one thrombocytopenia ADR event during LZD use.\n",
    "#\n",
    "# Notes: max(which()) finds the index of the last TRUE value in a logical vector.\n",
    "# while  which.max() finds the index of the first TRUE value in a logical vector.\n",
    "inputs_analyze_1 <- inputs_cleaned_joined |>\n",
    "  group_by(patient_ID) |>\n",
    "  mutate(\n",
    "    flag_too_late = test_date >= LZD_end + 6,\n",
    "    flag_post_baseline = test_date >= test_date[max(which(test_date <= LZD_start & !is.na(test_PLT)))],\n",
    "    test_ADR_TP = flag_post_baseline & !flag_too_late & (\n",
    "      (test_PLT[which.max(flag_post_baseline)] >= 150 & test_PLT <= 112.5) |\n",
    "        (test_PLT[which.max(flag_post_baseline)] < 150 & test_PLT <= 0.75 * test_PLT[which.max(flag_post_baseline)])\n",
    "    ),\n",
    "    flag_ADR_TP_ID = any(test_ADR_TP, na.rm = TRUE)\n",
    "  )\n"
   ],
   "id": "4f917f4a-4f0d-4e59-b8fd-0a7e0f995ff4"
  },
  {
   "cell_type": "code",
   "execution_count": null,
   "metadata": {},
   "outputs": [
    {
     "output_type": "stream",
     "name": "stderr",
     "text": [
      "Warning: There were 615 warnings in `mutate()`.\n",
      "The first warning was:\n",
      "ℹ In argument: `ADR_CTCAE_max = max(test_CTCAE, na.rm = TRUE)`.\n",
      "ℹ In group 1: `patient_ID = \"000847\"`.\n",
      "Caused by warning in `max()`:\n",
      "! no non-missing arguments to max; returning -Inf\n",
      "ℹ Run `dplyr::last_dplyr_warnings()` to see the 614 remaining warnings."
     ]
    }
   ],
   "source": [
    "# This code adds a new column 'test_CTCAE' based on\n",
    "# the Common Terminology Criteria for Adverse Events (CTCAE) for decreased platelet count.\n",
    "# If 'test_ADR_TP' is TRUE, it assigns a value to 'test_CTCAE' based on the 'test_PLT' column.\n",
    "# a. If 'test_PLT' is less than 25, 'test_CTCAE' is assigned a value of 4.\n",
    "# b. If 'test_PLT' is between 25 and 50, 'test_CTCAE' is assigned a value of 3.\n",
    "# c. If 'test_PLT' is between 50 and 75, 'test_CTCAE' is assigned a value of 2.\n",
    "# d. If 'test_PLT' is between 75 and 150, 'test_CTCAE' is assigned a value of 1.\n",
    "# If 'test_ADR_TP' is FALSE, 'test_CTCAE' is assigned NA.\n",
    "# Finally, 'test_CTCAE_max' is assigned the maximum value of 'test_CTCAE' for each 'patient_ID'.\n",
    "inputs_analyze_2 <- inputs_analyze_1 |>\n",
    "  mutate(\n",
    "    test_CTCAE =\n",
    "      if_else(\n",
    "        test_ADR_TP,\n",
    "        case_when(\n",
    "          test_PLT < 25 ~ 4,\n",
    "          test_PLT < 50 ~ 3,\n",
    "          test_PLT < 75 ~ 2,\n",
    "          test_PLT < 150 ~ 1\n",
    "        ),\n",
    "        NA_real_\n",
    "      ),\n",
    "    ADR_CTCAE_max = max(test_CTCAE, na.rm = TRUE),\n",
    "    ADR_CTCAE_max = na_if(ADR_CTCAE_max, -Inf)\n",
    "  )\n"
   ],
   "id": "30e12d47-a118-49f3-a3dd-6bf21ef76c73"
  },
  {
   "cell_type": "code",
   "execution_count": null,
   "metadata": {},
   "outputs": [],
   "source": [
    "# This code adds a new column 'test_onset',\n",
    "# which is the number of days from 'LZD_start' to the thrombocytopenia event.\n",
    "# If 'test_ADR_TP' is TRUE, 'test_onset' is assigned the value of 'test_date' minus 'LZD_start'.\n",
    "# If 'test_ADR_TP' is FALSE, 'test_onset' is assigned NA.\n",
    "# Finally, 'test_onset_first' is assigned the first non-NA value of 'test_onset' for each 'patient_ID'.\n",
    "inputs_analyze_3 <- inputs_analyze_2 |>\n",
    "  mutate(\n",
    "    ADR_onset =\n",
    "      if_else(\n",
    "        test_ADR_TP,\n",
    "        as.double(test_date - LZD_start),\n",
    "        NA_real_\n",
    "      ),\n",
    "    ADR_onset_first = first(na.omit(ADR_onset))\n",
    "  )\n"
   ],
   "id": "d380b83b-1a59-4f7d-8319-17a035dfc323"
  },
  {
   "cell_type": "code",
   "execution_count": null,
   "metadata": {},
   "outputs": [],
   "source": [
    "# This code adds a new column 'test_PLT_ratio',\n",
    "# which is the ratio of the minimum 'test_PLT' to the baseline 'test_PLT'.\n",
    "# If 'flag_ADR_TP_ID' is TRUE, 'test_PLT_ratio' is assigned the value of the ratio.\n",
    "# If 'flag_ADR_TP_ID' is FALSE, 'test_PLT_ratio' is assigned NA.\n",
    "inputs_analyze_4 <- inputs_analyze_3 |>\n",
    "  mutate(\n",
    "    ADR_PLT_ratio =\n",
    "      if_else(\n",
    "        flag_ADR_TP_ID,\n",
    "        test_PLT[which.min(test_PLT)] / test_PLT[which.max(flag_post_baseline)],\n",
    "        NA_real_\n",
    "      )\n",
    "  )\n"
   ],
   "id": "ccbeb762-439d-46d4-af93-9abc853a6679"
  },
  {
   "cell_type": "code",
   "execution_count": null,
   "metadata": {},
   "outputs": [],
   "source": [
    "# This code changes existing data to get values from data_lab_test instead of relying on data_patient\n",
    "inputs_analyze_5 <- inputs_analyze_4 |>\n",
    "  mutate(\n",
    "    LZD_duration = as.numeric(LZD_end - LZD_start) + 1,\n",
    "    baseline_date = test_date[which.max(flag_post_baseline)],\n",
    "    baseline_PLT = test_PLT[which.max(flag_post_baseline)],\n",
    "    baseline_HGB = test_HGB[which.max(flag_post_baseline)],\n",
    "    baseline_WBC = test_WBC[which.max(flag_post_baseline)],\n",
    "    ADR_PLT_min = min(test_PLT[which.max(flag_post_baseline) + 1:max(which(flag_post_baseline))], na.rm = TRUE),\n",
    "  )\n"
   ],
   "id": "bd3a3efb-a880-4d1d-9965-c39e1c52be36"
  },
  {
   "cell_type": "code",
   "execution_count": null,
   "metadata": {},
   "outputs": [],
   "source": [
    "data_patient_complete <- inputs_analyze_5 |>\n",
    "  slice_head(n = 1) |>\n",
    "  select(-starts_with(\"test\")) |>\n",
    "  filter(complete.cases(across(-starts_with(\"ADR\")))) |>\n",
    "  filter(baseline_PLT <= 450)\n",
    "\n",
    "data_complete <- inputs_analyze_5 |>\n",
    "  filter(patient_ID %in% data_patient_complete$patient_ID)\n",
    "\n",
    "write_csv(data_complete, \"data/data-cleaned/data-complete.csv\")\n",
    "write_csv(data_patient_complete, \"data/data-cleaned/data-patient-complete.csv\")\n"
   ],
   "id": "49df3c81-71b7-4491-9f3e-7fb0da9b6caf"
  }
 ],
 "nbformat": 4,
 "nbformat_minor": 5,
 "metadata": {}
}
