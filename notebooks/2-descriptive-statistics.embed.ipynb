{
 "cells": [
  {
   "cell_type": "markdown",
   "metadata": {},
   "source": [
    "# Descriptive Statistics"
   ],
   "id": "e5a15b02-fc4a-4d39-8412-4ec238afa6a4"
  },
  {
   "cell_type": "code",
   "execution_count": null,
   "metadata": {},
   "outputs": [
    {
     "output_type": "stream",
     "name": "stderr",
     "text": [
      "── Attaching core tidyverse packages ──────────────────────── tidyverse 2.0.0 ──\n",
      "✔ dplyr     1.1.4     ✔ readr     2.1.4\n",
      "✔ forcats   1.0.0     ✔ stringr   1.5.1\n",
      "✔ ggplot2   3.4.4     ✔ tibble    3.2.1\n",
      "✔ lubridate 1.9.3     ✔ tidyr     1.3.0\n",
      "✔ purrr     1.0.2     \n",
      "── Conflicts ────────────────────────────────────────── tidyverse_conflicts() ──\n",
      "✖ dplyr::filter() masks stats::filter()\n",
      "✖ dplyr::lag()    masks stats::lag()\n",
      "ℹ Use the conflicted package (<http://conflicted.r-lib.org/>) to force all conflicts to become errors\n",
      "Rows: 5669 Columns: 113\n",
      "── Column specification ────────────────────────────────────────────────────────\n",
      "Delimiter: \",\"\n",
      "chr   (4): patient_ID, site, dept, LZD_route\n",
      "dbl  (20): patient_age, patient_weight, charlson, baseline_CLCR, baseline_WB...\n",
      "lgl  (85): patient_sex, dept_ICU, dept_ER, dept_other, invasive_ETI, invasiv...\n",
      "date  (4): baseline_date, LZD_start, LZD_end, test_date\n",
      "\n",
      "ℹ Use `spec()` to retrieve the full column specification for this data.\n",
      "ℹ Specify the column types or set `show_col_types = FALSE` to quiet this message.\n",
      "Rows: 780 Columns: 105\n",
      "── Column specification ────────────────────────────────────────────────────────\n",
      "Delimiter: \",\"\n",
      "chr   (4): patient_ID, site, dept, LZD_route\n",
      "dbl  (13): patient_age, patient_weight, charlson, baseline_CLCR, baseline_WB...\n",
      "lgl  (85): patient_sex, dept_ICU, dept_ER, dept_other, invasive_ETI, invasiv...\n",
      "date  (3): baseline_date, LZD_start, LZD_end\n",
      "\n",
      "ℹ Use `spec()` to retrieve the full column specification for this data.\n",
      "ℹ Specify the column types or set `show_col_types = FALSE` to quiet this message."
     ]
    }
   ],
   "source": [
    "source(\"notebooks/initialize-data-analysis.r\")"
   ],
   "id": "7c8bdb5e-c8ea-46be-ab9d-5dfd6469dcf4"
  },
  {
   "cell_type": "code",
   "execution_count": null,
   "metadata": {},
   "outputs": [],
   "source": [
    "library(gtsummary)\n",
    "\n",
    "table_stats <- data_patient_complete |>\n",
    "  select(\n",
    "    all_of(predictor_list), starts_with(\"comed\"), flag_ADR_TP_ID\n",
    "  ) |>\n",
    "  tbl_summary(\n",
    "    by = flag_ADR_TP_ID,\n",
    "    statistic = list(all_continuous() ~ \"{median} ({p25} - {p75})\"),\n",
    "    missing = \"no\"\n",
    "  ) |>\n",
    "  # modify_table_body(\n",
    "  #   ~ .x |>\n",
    "  #     mutate(stat_1 = if_else(str_detect(stat_1, \"NA\"), NA, stat_1))\n",
    "  # ) |>\n",
    "  add_overall() |>\n",
    "  bold_labels()"
   ],
   "id": "fd45c447-8630-49d2-8b2f-42f57c325376"
  },
  {
   "cell_type": "code",
   "execution_count": null,
   "metadata": {},
   "outputs": [
    {
     "output_type": "stream",
     "name": "stderr",
     "text": [
      "── Attaching packages ────────────────────────────────────── tidymodels 1.1.1 ──"
     ]
    },
    {
     "output_type": "stream",
     "name": "stderr",
     "text": [
      "✔ broom        1.0.5     ✔ rsample      1.2.0\n",
      "✔ dials        1.2.0     ✔ tune         1.1.2\n",
      "✔ infer        1.0.5     ✔ workflows    1.1.3\n",
      "✔ modeldata    1.3.0     ✔ workflowsets 1.0.1\n",
      "✔ parsnip      1.1.1     ✔ yardstick    1.3.0\n",
      "✔ recipes      1.0.9     "
     ]
    },
    {
     "output_type": "stream",
     "name": "stderr",
     "text": [
      "── Conflicts ───────────────────────────────────────── tidymodels_conflicts() ──\n",
      "✖ recipes::all_double()  masks gtsummary::all_double()\n",
      "✖ recipes::all_factor()  masks gtsummary::all_factor()\n",
      "✖ recipes::all_integer() masks gtsummary::all_integer()\n",
      "✖ recipes::all_logical() masks gtsummary::all_logical()\n",
      "✖ recipes::all_numeric() masks gtsummary::all_numeric()\n",
      "✖ scales::discard()      masks purrr::discard()\n",
      "✖ dplyr::filter()        masks stats::filter()\n",
      "✖ recipes::fixed()       masks stringr::fixed()\n",
      "✖ dplyr::lag()           masks stats::lag()\n",
      "✖ yardstick::spec()      masks readr::spec()\n",
      "✖ recipes::step()        masks stats::step()\n",
      "• Use tidymodels_prefer() to resolve common conflicts."
     ]
    },
    {
     "output_type": "stream",
     "name": "stderr",
     "text": [
      "Loading required package: future"
     ]
    },
    {
     "output_type": "stream",
     "name": "stderr",
     "text": [
      "Extracting {parsnip} model fit with `tbl_regression(x = x$fit, ...)`"
     ]
    },
    {
     "output_type": "stream",
     "name": "stderr",
     "text": [
      "Extracting {parsnip} model fit with `tbl_regression(x = x$fit, ...)`\n",
      "Extracting {parsnip} model fit with `tbl_regression(x = x$fit, ...)`\n",
      "Extracting {parsnip} model fit with `tbl_regression(x = x$fit, ...)`\n",
      "Extracting {parsnip} model fit with `tbl_regression(x = x$fit, ...)`\n",
      "Extracting {parsnip} model fit with `tbl_regression(x = x$fit, ...)`\n",
      "Extracting {parsnip} model fit with `tbl_regression(x = x$fit, ...)`\n",
      "Extracting {parsnip} model fit with `tbl_regression(x = x$fit, ...)`\n",
      "Extracting {parsnip} model fit with `tbl_regression(x = x$fit, ...)`\n",
      "Extracting {parsnip} model fit with `tbl_regression(x = x$fit, ...)`\n",
      "Extracting {parsnip} model fit with `tbl_regression(x = x$fit, ...)`\n",
      "Extracting {parsnip} model fit with `tbl_regression(x = x$fit, ...)`\n",
      "Extracting {parsnip} model fit with `tbl_regression(x = x$fit, ...)`\n",
      "Extracting {parsnip} model fit with `tbl_regression(x = x$fit, ...)`\n",
      "Extracting {parsnip} model fit with `tbl_regression(x = x$fit, ...)`\n",
      "Extracting {parsnip} model fit with `tbl_regression(x = x$fit, ...)`\n",
      "Extracting {parsnip} model fit with `tbl_regression(x = x$fit, ...)`\n",
      "Extracting {parsnip} model fit with `tbl_regression(x = x$fit, ...)`\n",
      "Extracting {parsnip} model fit with `tbl_regression(x = x$fit, ...)`\n",
      "Extracting {parsnip} model fit with `tbl_regression(x = x$fit, ...)`\n",
      "Extracting {parsnip} model fit with `tbl_regression(x = x$fit, ...)`\n",
      "Extracting {parsnip} model fit with `tbl_regression(x = x$fit, ...)`\n",
      "Extracting {parsnip} model fit with `tbl_regression(x = x$fit, ...)`\n",
      "Extracting {parsnip} model fit with `tbl_regression(x = x$fit, ...)`\n",
      "Extracting {parsnip} model fit with `tbl_regression(x = x$fit, ...)`\n",
      "Extracting {parsnip} model fit with `tbl_regression(x = x$fit, ...)`\n",
      "Extracting {parsnip} model fit with `tbl_regression(x = x$fit, ...)`\n",
      "Extracting {parsnip} model fit with `tbl_regression(x = x$fit, ...)`\n",
      "Extracting {parsnip} model fit with `tbl_regression(x = x$fit, ...)`\n",
      "Extracting {parsnip} model fit with `tbl_regression(x = x$fit, ...)`\n",
      "Extracting {parsnip} model fit with `tbl_regression(x = x$fit, ...)`\n",
      "Extracting {parsnip} model fit with `tbl_regression(x = x$fit, ...)`\n",
      "Extracting {parsnip} model fit with `tbl_regression(x = x$fit, ...)`\n",
      "Extracting {parsnip} model fit with `tbl_regression(x = x$fit, ...)`\n",
      "Extracting {parsnip} model fit with `tbl_regression(x = x$fit, ...)`\n",
      "Extracting {parsnip} model fit with `tbl_regression(x = x$fit, ...)`\n",
      "Extracting {parsnip} model fit with `tbl_regression(x = x$fit, ...)`\n",
      "Extracting {parsnip} model fit with `tbl_regression(x = x$fit, ...)`\n",
      "Extracting {parsnip} model fit with `tbl_regression(x = x$fit, ...)`\n",
      "Extracting {parsnip} model fit with `tbl_regression(x = x$fit, ...)`\n",
      "Extracting {parsnip} model fit with `tbl_regression(x = x$fit, ...)`\n",
      "Extracting {parsnip} model fit with `tbl_regression(x = x$fit, ...)`\n",
      "Extracting {parsnip} model fit with `tbl_regression(x = x$fit, ...)`\n",
      "Extracting {parsnip} model fit with `tbl_regression(x = x$fit, ...)`\n",
      "Extracting {parsnip} model fit with `tbl_regression(x = x$fit, ...)`\n",
      "Extracting {parsnip} model fit with `tbl_regression(x = x$fit, ...)`\n",
      "Extracting {parsnip} model fit with `tbl_regression(x = x$fit, ...)`\n",
      "Extracting {parsnip} model fit with `tbl_regression(x = x$fit, ...)`\n",
      "Extracting {parsnip} model fit with `tbl_regression(x = x$fit, ...)`\n",
      "Extracting {parsnip} model fit with `tbl_regression(x = x$fit, ...)`\n",
      "Extracting {parsnip} model fit with `tbl_regression(x = x$fit, ...)`\n",
      "Extracting {parsnip} model fit with `tbl_regression(x = x$fit, ...)`\n",
      "Extracting {parsnip} model fit with `tbl_regression(x = x$fit, ...)`\n",
      "Extracting {parsnip} model fit with `tbl_regression(x = x$fit, ...)`\n",
      "Extracting {parsnip} model fit with `tbl_regression(x = x$fit, ...)`\n",
      "Extracting {parsnip} model fit with `tbl_regression(x = x$fit, ...)`"
     ]
    }
   ],
   "source": [
    "library(tidymodels)"
   ],
   "id": "3bd26475-bcfa-401d-9280-b95b0ec5b396"
  },
  {
   "cell_type": "code",
   "execution_count": null,
   "metadata": {},
   "outputs": [],
   "source": [
    "table_descriptive <- tbl_merge(\n",
    "  list(table_stats, table_uni),\n",
    "  tab_spanner = c(\n",
    "    \"**Thrombocytopenia Status**\",\n",
    "    \"**Univariate Regression**\"\n",
    "  )\n",
    ")\n",
    "save(table_descriptive, file = \"data/results/table-descriptive.rda\")"
   ],
   "id": "0da912ea-6ac5-42d2-a378-5b43ea2eff71"
  },
  {
   "cell_type": "code",
   "execution_count": null,
   "metadata": {},
   "outputs": [],
   "source": [
    "table_descriptive_site <- data_patient_complete |>\n",
    "  select(\n",
    "    all_of(predictor_list), starts_with(\"comed\"), flag_ADR_TP_ID, site\n",
    "  ) |>\n",
    "  tbl_summary(\n",
    "    by = site,\n",
    "    statistic = list(all_continuous() ~ \"{median} ({p25} - {p75})\"),\n",
    "    missing = \"no\"\n",
    "  ) |>\n",
    "  add_overall() |>\n",
    "  bold_labels()\n",
    "\n",
    "save(table_descriptive_site, file = \"data/results/table-descriptive-site.rda\")"
   ],
   "id": "bb1f44b9-cf3a-4f26-b525-7a3547ecc090"
  }
 ],
 "nbformat": 4,
 "nbformat_minor": 5,
 "metadata": {}
}
