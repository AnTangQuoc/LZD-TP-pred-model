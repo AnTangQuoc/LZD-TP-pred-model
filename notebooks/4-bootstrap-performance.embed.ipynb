{
 "cells": [
  {
   "cell_type": "markdown",
   "metadata": {},
   "source": [
    "# Bootstrap Development and Validation"
   ],
   "id": "579d00b3-a339-4961-8bfb-975e89146a95"
  },
  {
   "cell_type": "code",
   "execution_count": null,
   "metadata": {},
   "outputs": [
    {
     "output_type": "stream",
     "name": "stderr",
     "text": [
      "── Attaching core tidyverse packages ──────────────────────── tidyverse 2.0.0 ──\n",
      "✔ dplyr     1.1.4     ✔ readr     2.1.4\n",
      "✔ forcats   1.0.0     ✔ stringr   1.5.1\n",
      "✔ ggplot2   3.4.4     ✔ tibble    3.2.1\n",
      "✔ lubridate 1.9.3     ✔ tidyr     1.3.0\n",
      "✔ purrr     1.0.2     \n",
      "── Conflicts ────────────────────────────────────────── tidyverse_conflicts() ──\n",
      "✖ dplyr::filter() masks stats::filter()\n",
      "✖ dplyr::lag()    masks stats::lag()\n",
      "ℹ Use the conflicted package (<http://conflicted.r-lib.org/>) to force all conflicts to become errors\n",
      "Rows: 5669 Columns: 113\n",
      "── Column specification ────────────────────────────────────────────────────────\n",
      "Delimiter: \",\"\n",
      "chr   (4): patient_ID, site, dept, LZD_route\n",
      "dbl  (20): patient_age, patient_weight, charlson, baseline_CLCR, baseline_WB...\n",
      "lgl  (85): patient_sex, dept_ICU, dept_ER, dept_other, invasive_ETI, invasiv...\n",
      "date  (4): baseline_date, LZD_start, LZD_end, test_date\n",
      "\n",
      "ℹ Use `spec()` to retrieve the full column specification for this data.\n",
      "ℹ Specify the column types or set `show_col_types = FALSE` to quiet this message.\n",
      "Rows: 780 Columns: 105\n",
      "── Column specification ────────────────────────────────────────────────────────\n",
      "Delimiter: \",\"\n",
      "chr   (4): patient_ID, site, dept, LZD_route\n",
      "dbl  (13): patient_age, patient_weight, charlson, baseline_CLCR, baseline_WB...\n",
      "lgl  (85): patient_sex, dept_ICU, dept_ER, dept_other, invasive_ETI, invasiv...\n",
      "date  (3): baseline_date, LZD_start, LZD_end\n",
      "\n",
      "ℹ Use `spec()` to retrieve the full column specification for this data.\n",
      "ℹ Specify the column types or set `show_col_types = FALSE` to quiet this message."
     ]
    }
   ],
   "source": [
    "source(\"notebooks/initialize-data-analysis.r\", local = TRUE)"
   ],
   "id": "d9ce629a-5a1e-4430-a4de-c7ef31e4c594"
  },
  {
   "cell_type": "code",
   "execution_count": null,
   "metadata": {},
   "outputs": [
    {
     "output_type": "stream",
     "name": "stderr",
     "text": [
      "Loading required package: future"
     ]
    },
    {
     "output_type": "stream",
     "name": "stderr",
     "text": [
      "── Attaching packages ────────────────────────────────────── tidymodels 1.1.1 ──"
     ]
    },
    {
     "output_type": "stream",
     "name": "stderr",
     "text": [
      "✔ broom        1.0.5     ✔ recipes      1.0.9\n",
      "✔ dials        1.2.0     ✔ tune         1.1.2\n",
      "✔ infer        1.0.5     ✔ workflows    1.1.3\n",
      "✔ modeldata    1.3.0     ✔ workflowsets 1.0.1\n",
      "✔ parsnip      1.1.1     ✔ yardstick    1.3.0"
     ]
    },
    {
     "output_type": "stream",
     "name": "stderr",
     "text": [
      "── Conflicts ───────────────────────────────────────── tidymodels_conflicts() ──\n",
      "✖ scales::discard() masks purrr::discard()\n",
      "✖ dplyr::filter()   masks stats::filter()\n",
      "✖ recipes::fixed()  masks stringr::fixed()\n",
      "✖ dplyr::lag()      masks stats::lag()\n",
      "✖ yardstick::spec() masks readr::spec()\n",
      "✖ recipes::step()   masks stats::step()\n",
      "• Use suppressPackageStartupMessages() to eliminate package startup messages"
     ]
    },
    {
     "output_type": "stream",
     "name": "stderr",
     "text": [
      "Loading required package: rms"
     ]
    },
    {
     "output_type": "stream",
     "name": "stderr",
     "text": [
      "Loading required package: Hmisc"
     ]
    },
    {
     "output_type": "stream",
     "name": "stderr",
     "text": [
      "\n",
      "Attaching package: 'Hmisc'"
     ]
    },
    {
     "output_type": "stream",
     "name": "stderr",
     "text": [
      "The following object is masked from 'package:parsnip':\n",
      "\n",
      "    translate"
     ]
    },
    {
     "output_type": "stream",
     "name": "stderr",
     "text": [
      "The following objects are masked from 'package:dplyr':\n",
      "\n",
      "    src, summarize"
     ]
    },
    {
     "output_type": "stream",
     "name": "stderr",
     "text": [
      "The following objects are masked from 'package:base':\n",
      "\n",
      "    format.pval, units"
     ]
    }
   ],
   "source": [
    "library(BAS)\n",
    "library(rsample) # for bootstraps()\n",
    "library(furrr) # for future_map()"
   ],
   "id": "eeb02a01-e0db-430d-81c1-0633a14683ff"
  },
  {
   "cell_type": "code",
   "execution_count": null,
   "metadata": {},
   "outputs": [],
   "source": [
    "load(\"data/model-performance/model_full.rda\")\n",
    "\n",
    "pHat <- predict(model_full$fit, data_patient_complete, type = \"response\")\n",
    "yTest <- data_patient_complete$flag_ADR_TP_ID\n",
    "calperf <- valProbggplot(pHat, yTest)\n",
    "\n",
    "apparent_performance_metrics <- tibble(\n",
    "  apparent_C_index = calperf$Cindex[[1]],\n",
    "  apparent_calibration_intercept = calperf$Calibration$Intercept[[1]],\n",
    "  apparent_calibration_slope = calperf$Calibration$Slope[[1]]\n",
    ")\n",
    "\n",
    "corrected_performance_metrics <- bind_cols(apparent_performance_metrics, optimism_estimates) |>\n",
    "  mutate(\n",
    "    corrected_C_index = apparent_C_index - mean_optimism_C_index,\n",
    "    corrected_calibration_intercept = apparent_calibration_intercept - mean_optimism_calibration_intercept,\n",
    "    corrected_calibration_slope = apparent_calibration_slope - mean_optimism_calibration_slope\n",
    "  ) |>\n",
    "  select(starts_with(\"corrected\"))"
   ],
   "id": "5e44c889-7d2a-4055-a954-182662fe1686"
  },
  {
   "cell_type": "code",
   "execution_count": null,
   "metadata": {},
   "outputs": [],
   "source": [
    "save(corrected_performance_metrics, file = \"data/model-performance/corrected_performance_metrics.rda\")"
   ],
   "id": "2b48c376-12bb-4f29-b14d-c85ff9ad66fe"
  }
 ],
 "nbformat": 4,
 "nbformat_minor": 5,
 "metadata": {}
}
