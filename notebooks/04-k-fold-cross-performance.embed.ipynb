{
 "cells": [
  {
   "cell_type": "markdown",
   "metadata": {},
   "source": [
    "# 10-fold Development and Cross-Validation"
   ],
   "id": "6c5b8683-27f4-4dad-bfcb-d11881c130b7"
  },
  {
   "cell_type": "code",
   "execution_count": null,
   "metadata": {},
   "outputs": [
    {
     "output_type": "stream",
     "name": "stderr",
     "text": [
      "── Attaching core tidyverse packages ──────────────────────── tidyverse 2.0.0 ──\n",
      "✔ dplyr     1.1.4     ✔ readr     2.1.5\n",
      "✔ forcats   1.0.0     ✔ stringr   1.5.1\n",
      "✔ ggplot2   3.5.0     ✔ tibble    3.2.1\n",
      "✔ lubridate 1.9.3     ✔ tidyr     1.3.1\n",
      "✔ purrr     1.0.2     \n",
      "── Conflicts ────────────────────────────────────────── tidyverse_conflicts() ──\n",
      "✖ dplyr::filter() masks stats::filter()\n",
      "✖ dplyr::lag()    masks stats::lag()\n",
      "ℹ Use the conflicted package (<http://conflicted.r-lib.org/>) to force all conflicts to become errors"
     ]
    }
   ],
   "source": [
    "source(\"notebooks/initialize-data-analysis.r\")"
   ],
   "id": "79969f70-22cb-4c11-9853-88882ead0db4"
  },
  {
   "cell_type": "code",
   "execution_count": null,
   "metadata": {},
   "outputs": [
    {
     "output_type": "stream",
     "name": "stderr",
     "text": [
      "Loading required package: future"
     ]
    },
    {
     "output_type": "stream",
     "name": "stderr",
     "text": [
      "── Attaching packages ────────────────────────────────────── tidymodels 1.1.1 ──"
     ]
    },
    {
     "output_type": "stream",
     "name": "stderr",
     "text": [
      "✔ broom        1.0.5      ✔ recipes      1.0.10\n",
      "✔ dials        1.2.1      ✔ tune         1.1.2 \n",
      "✔ infer        1.0.6      ✔ workflows    1.1.4 \n",
      "✔ modeldata    1.3.0      ✔ workflowsets 1.0.1 \n",
      "✔ parsnip      1.2.0      ✔ yardstick    1.3.0 "
     ]
    },
    {
     "output_type": "stream",
     "name": "stderr",
     "text": [
      "── Conflicts ───────────────────────────────────────── tidymodels_conflicts() ──\n",
      "✖ scales::discard() masks purrr::discard()\n",
      "✖ dplyr::filter()   masks stats::filter()\n",
      "✖ recipes::fixed()  masks stringr::fixed()\n",
      "✖ dplyr::lag()      masks stats::lag()\n",
      "✖ yardstick::spec() masks readr::spec()\n",
      "✖ recipes::step()   masks stats::step()\n",
      "• Search for functions across packages at https://www.tidymodels.org/find/"
     ]
    },
    {
     "output_type": "stream",
     "name": "stderr",
     "text": [
      "Loading required package: rms"
     ]
    },
    {
     "output_type": "stream",
     "name": "stderr",
     "text": [
      "Loading required package: Hmisc"
     ]
    },
    {
     "output_type": "stream",
     "name": "stderr",
     "text": [
      "\n",
      "Attaching package: 'Hmisc'"
     ]
    },
    {
     "output_type": "stream",
     "name": "stderr",
     "text": [
      "The following object is masked from 'package:parsnip':\n",
      "\n",
      "    translate"
     ]
    },
    {
     "output_type": "stream",
     "name": "stderr",
     "text": [
      "The following objects are masked from 'package:dplyr':\n",
      "\n",
      "    src, summarize"
     ]
    },
    {
     "output_type": "stream",
     "name": "stderr",
     "text": [
      "The following objects are masked from 'package:base':\n",
      "\n",
      "    format.pval, units"
     ]
    }
   ],
   "source": [
    "library(rsample) # for vfold_cv()\n",
    "library(furrr) # for future_map()"
   ],
   "id": "408ce190-2711-49ce-b108-51020fcc9c3e"
  },
  {
   "cell_type": "code",
   "execution_count": null,
   "metadata": {},
   "outputs": [],
   "source": [
    "fold_performance_metrics <- fold_estimates |>\n",
    "  summarise(\n",
    "    mean_fold_C_index = mean(fold_C_index),\n",
    "    mean_fold_calibration_intercept = mean(fold_calibration_intercept),\n",
    "    mean_fold_calibration_slope = mean(fold_calibration_slope)\n",
    "  )"
   ],
   "id": "89778cb2-f41a-42b1-b69f-db19e8d70692"
  },
  {
   "cell_type": "code",
   "execution_count": null,
   "metadata": {},
   "outputs": [],
   "source": [
    "save(fold_performance_metrics, file = \"data/model-performance/fold-performance-metrics.rda\")"
   ],
   "id": "3ad9e721-004b-4c35-adc2-69aedcd445af"
  }
 ],
 "nbformat": 4,
 "nbformat_minor": 5,
 "metadata": {}
}
