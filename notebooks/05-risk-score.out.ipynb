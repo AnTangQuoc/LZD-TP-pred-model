{
 "cells": [
  {
   "cell_type": "markdown",
   "metadata": {},
   "source": [
    "# Risk Score System and Algorithm"
   ],
   "id": "f316efa3-f1f0-4877-a608-5d9d5049facd"
  },
  {
   "cell_type": "code",
   "execution_count": null,
   "metadata": {},
   "outputs": [
    {
     "output_type": "stream",
     "name": "stderr",
     "text": [
      "── Attaching core tidyverse packages ──────────────────────── tidyverse 2.0.0 ──\n",
      "✔ dplyr     1.1.4     ✔ readr     2.1.5\n",
      "✔ forcats   1.0.0     ✔ stringr   1.5.1\n",
      "✔ ggplot2   3.5.0     ✔ tibble    3.2.1\n",
      "✔ lubridate 1.9.3     ✔ tidyr     1.3.1\n",
      "✔ purrr     1.0.2     \n",
      "── Conflicts ────────────────────────────────────────── tidyverse_conflicts() ──\n",
      "✖ dplyr::filter() masks stats::filter()\n",
      "✖ dplyr::lag()    masks stats::lag()\n",
      "ℹ Use the conflicted package (<http://conflicted.r-lib.org/>) to force all conflicts to become errors"
     ]
    }
   ],
   "source": [
    "source(\"notebooks/initialize-data-analysis.r\")\n"
   ],
   "id": "1929e6b0-6f09-4eec-9268-28cedc85246c"
  },
  {
   "cell_type": "code",
   "execution_count": null,
   "metadata": {},
   "outputs": [
    {
     "output_type": "stream",
     "name": "stderr",
     "text": [
      "── Attaching packages ────────────────────────────────────── tidymodels 1.1.1 ──"
     ]
    },
    {
     "output_type": "stream",
     "name": "stderr",
     "text": [
      "✔ broom        1.0.5      ✔ rsample      1.2.0 \n",
      "✔ dials        1.2.1      ✔ tune         1.2.0 \n",
      "✔ infer        1.0.6      ✔ workflows    1.1.4 \n",
      "✔ modeldata    1.3.0      ✔ workflowsets 1.1.0 \n",
      "✔ parsnip      1.2.0      ✔ yardstick    1.3.0 \n",
      "✔ recipes      1.0.10     "
     ]
    },
    {
     "output_type": "stream",
     "name": "stderr",
     "text": [
      "── Conflicts ───────────────────────────────────────── tidymodels_conflicts() ──\n",
      "✖ scales::discard() masks purrr::discard()\n",
      "✖ dplyr::filter()   masks stats::filter()\n",
      "✖ recipes::fixed()  masks stringr::fixed()\n",
      "✖ dplyr::lag()      masks stats::lag()\n",
      "✖ yardstick::spec() masks readr::spec()\n",
      "✖ recipes::step()   masks stats::step()\n",
      "• Dig deeper into tidy modeling with R at https://www.tmwr.org"
     ]
    }
   ],
   "source": [
    "library(tidyverse)\n",
    "library(tidymodels)\n"
   ],
   "id": "d545c73b-090c-4f9e-9bb1-103a8c1172fc"
  },
  {
   "cell_type": "markdown",
   "metadata": {},
   "source": [
    "## Risk Score System\n",
    "\n",
    "All code below is not automatic. Variables and ranges are manually defined."
   ],
   "id": "674c897a-a7ce-43f2-b7a5-14962308cd65"
  },
  {
   "cell_type": "code",
   "execution_count": null,
   "metadata": {},
   "outputs": [],
   "source": [
    "risk_profile_1 <- tibble(\n",
    "  risk_factor = \"patient_age\",\n",
    "  min_range = c(18, 30, 40, 50, 60, 70, 80, 90), # minimum age is 18\n",
    "  max_range = lead(min_range, default = 101), # maximum age is 101, interval is 10\n",
    "  reference = (min_range + max_range) / 2,\n",
    "  flag_base_risk = FALSE\n",
    ") |>\n",
    "  mutate(\n",
    "    flag_base_risk = replace(flag_base_risk, 1, TRUE)\n",
    "  )\n",
    "\n",
    "risk_profile_2 <- tibble(\n",
    "  risk_factor = \"baseline_CLCR_30\",\n",
    "  min_range = c(0, 1), # 0 or 1\n",
    "  max_range = c(0, 1), # 0 or 1\n",
    "  reference = c(0, 1),\n",
    "  flag_base_risk = FALSE\n",
    ") |>\n",
    "  mutate(\n",
    "    flag_base_risk = replace(flag_base_risk, 1, TRUE)\n",
    "  )\n",
    "\n",
    "risk_profile_3 <- tibble(\n",
    "  risk_factor = \"baseline_PLT\",\n",
    "  min_range = c(150, 75, 50, 25, 18), # 1% percentile is 18\n",
    "  max_range = lag(min_range, default = 434), # 99% percentile is 434\n",
    "  reference = (min_range + max_range) / 2,\n",
    "  flag_base_risk = FALSE\n",
    ") |>\n",
    "  mutate(\n",
    "    min_range = replace(min_range, n(), -Inf),\n",
    "    max_range = replace(max_range, 1, Inf),\n",
    "    flag_base_risk = replace(flag_base_risk, 1, TRUE)\n",
    "  )\n",
    "\n",
    "risk_profile_4 <- tibble(\n",
    "  risk_factor = \"LZD_duration_14\",\n",
    "  min_range = c(0, 1), # 0 or 1\n",
    "  max_range = c(0, 1), # 0 or 1\n",
    "  reference = c(0, 1),\n",
    "  flag_base_risk = FALSE\n",
    ") |>\n",
    "  mutate(\n",
    "    flag_base_risk = replace(flag_base_risk, 1, TRUE)\n",
    "  )\n",
    "\n",
    "risk_profile_5 <- tibble(\n",
    "  risk_factor = \"invasive_CRRT\",\n",
    "  min_range = c(0, 1), # 0 or 1\n",
    "  max_range = c(0, 1), # 0 or 1\n",
    "  reference = c(0, 1),\n",
    "  flag_base_risk = FALSE\n",
    ") |>\n",
    "  mutate(\n",
    "    flag_base_risk = replace(flag_base_risk, 1, TRUE)\n",
    "  )\n",
    "\n",
    "risk_profile_6 <- tibble(\n",
    "  risk_factor = \"comed_heparin\",\n",
    "  min_range = c(0, 1), # 0 or 1\n",
    "  max_range = c(0, 1), # 0 or 1\n",
    "  reference = c(0, 1),\n",
    "  flag_base_risk = FALSE\n",
    ") |>\n",
    "  mutate(\n",
    "    flag_base_risk = replace(flag_base_risk, 1, TRUE)\n",
    "  )\n",
    "\n",
    "risk_profile <- bind_rows(risk_profile_1, risk_profile_2, risk_profile_3, risk_profile_4, risk_profile_5, risk_profile_6)\n"
   ],
   "id": "c53f107d-2961-49c0-baa4-1ac17529b724"
  },
  {
   "cell_type": "code",
   "execution_count": null,
   "metadata": {},
   "outputs": [
    {
     "output_type": "display_data",
     "metadata": {},
     "data": {
      "text/markdown": [
       "  risk_factor          min_range   max_range   points\n",
       "  ------------------ ----------- ----------- --------\n",
       "  patient_age                 18          30        0\n",
       "  patient_age                 30          40        1\n",
       "  patient_age                 40          50        2\n",
       "  patient_age                 50          60        3\n",
       "  patient_age                 60          70        4\n",
       "  patient_age                 70          80        5\n",
       "  patient_age                 80          90        6\n",
       "  patient_age                 90         101        7\n",
       "  baseline_CLCR_30             0           0        0\n",
       "  baseline_CLCR_30             1           1        4\n",
       "  baseline_PLT               150         Inf        0\n",
       "  baseline_PLT                75         150        9\n",
       "  baseline_PLT                50          75       12\n",
       "  baseline_PLT                25          50       13\n",
       "  baseline_PLT              -Inf          25       14\n",
       "  LZD_duration_14              0           0        0\n",
       "  LZD_duration_14              1           1        5\n",
       "  invasive_CRRT                0           0        0\n",
       "  invasive_CRRT                1           1        5\n",
       "  comed_heparin                0           0        0\n",
       "  comed_heparin                1           1        2\n"
      ]
     }
    },
    {
     "output_type": "display_data",
     "metadata": {},
     "data": {
      "text/markdown": [
       "    points_total   risk_estimate\n",
       "  -------------- ---------------\n",
       "               0       0.0554817\n",
       "               1       0.0650599\n",
       "               2       0.0761583\n",
       "               3       0.0889699\n",
       "               4       0.1036947\n",
       "               5       0.1205340\n",
       "               6       0.1396819\n",
       "               7       0.1613135\n",
       "               8       0.1855726\n",
       "               9       0.2125552\n",
       "              10       0.2422940\n",
       "              11       0.2747418\n",
       "              12       0.3097586\n",
       "              13       0.3471024\n",
       "              14       0.3864279\n",
       "              15       0.4272929\n",
       "              16       0.4691749\n",
       "              17       0.5114957\n",
       "              18       0.5536523\n",
       "              19       0.5950511\n",
       "              20       0.6351406\n",
       "              21       0.6734393\n",
       "              22       0.7095562\n",
       "              23       0.7432019\n",
       "              24       0.7741903\n",
       "              25       0.8024334\n",
       "              26       0.8279291\n",
       "              27       0.8507466\n",
       "              28       0.8710098\n",
       "              29       0.8888813\n",
       "              30       0.9045480\n",
       "              31       0.9182092\n",
       "              32       0.9300663\n",
       "              33       0.9403162\n",
       "              34       0.9491460\n",
       "              35       0.9567296\n",
       "              36       0.9632261\n",
       "              37       0.9687790\n"
      ]
     }
    }
   ],
   "source": [
    "B_constant <- parameter_estimates |>\n",
    "  filter(risk_factor == \"patient_age\") |>\n",
    "  pull(beta) * 10 # constant equivalent to 10-year increase in age\n",
    "\n",
    "points_system_full <- parameter_estimates |>\n",
    "  select(risk_factor, beta) |>\n",
    "  right_join(risk_profile, by = \"risk_factor\") |>\n",
    "  group_by(risk_factor) |>\n",
    "  mutate(\n",
    "    beta_sum = beta * (reference - reference[which.max(flag_base_risk)]),\n",
    "    points = round(beta_sum / B_constant, 0)\n",
    "  )\n",
    "\n",
    "points_system_factors <- points_system_full |>\n",
    "  select(risk_factor, min_range, max_range, points)\n",
    "\n",
    "min_points <- points_system_full |>\n",
    "  group_by(risk_factor) |>\n",
    "  summarise(min_points = min(points)) |>\n",
    "  summarise(total_min_points = sum(min_points)) |>\n",
    "  pull(total_min_points)\n",
    "\n",
    "max_points <- points_system_full |>\n",
    "  group_by(risk_factor) |>\n",
    "  summarise(max_points = max(points)) |>\n",
    "  summarise(total_max_points = sum(max_points)) |>\n",
    "  pull(total_max_points)\n",
    "\n",
    "risk_function <- function(points) {\n",
    "  intercept <- parameter_estimates |>\n",
    "    filter(risk_factor == \"Intercept\") |>\n",
    "    pull(beta)\n",
    "\n",
    "  beta_base <- points_system_full |>\n",
    "    filter(flag_base_risk == TRUE) |>\n",
    "    ungroup() |>\n",
    "    summarise(\n",
    "      beta_base = sum(beta * reference)\n",
    "    ) |>\n",
    "    pull(beta_base)\n",
    "\n",
    "  1 / (1 + exp(-(intercept + beta_base + B_constant * points)))\n",
    "}\n",
    "\n",
    "points_system_risks <- tibble(\n",
    "  points_total = seq(min_points, max_points),\n",
    "  risk_estimate = risk_function(points_total)\n",
    ")\n",
    "\n",
    "points_system_factors |> knitr::kable()\n"
   ],
   "id": "c5d1e783-cd98-4bcb-945f-b7d0e172cf55"
  }
 ],
 "nbformat": 4,
 "nbformat_minor": 5,
 "metadata": {}
}
