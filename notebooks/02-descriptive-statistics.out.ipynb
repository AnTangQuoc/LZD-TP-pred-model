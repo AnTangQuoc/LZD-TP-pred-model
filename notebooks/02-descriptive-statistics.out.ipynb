{
 "cells": [
  {
   "cell_type": "markdown",
   "metadata": {},
   "source": [
    "# Descriptive Statistics\n",
    "\n",
    "Initialize data to analyze."
   ],
   "id": "4a247af3-521b-4234-927b-5ececa2ef341"
  },
  {
   "cell_type": "code",
   "execution_count": null,
   "metadata": {},
   "outputs": [
    {
     "output_type": "stream",
     "name": "stderr",
     "text": [
      "── Attaching core tidyverse packages ──────────────────────── tidyverse 2.0.0 ──\n",
      "✔ dplyr     1.1.4     ✔ readr     2.1.5\n",
      "✔ forcats   1.0.0     ✔ stringr   1.5.1\n",
      "✔ ggplot2   3.5.1     ✔ tibble    3.2.1\n",
      "✔ lubridate 1.9.3     ✔ tidyr     1.3.1\n",
      "✔ purrr     1.0.2     \n",
      "── Conflicts ────────────────────────────────────────── tidyverse_conflicts() ──\n",
      "✖ dplyr::filter() masks stats::filter()\n",
      "✖ dplyr::lag()    masks stats::lag()\n",
      "ℹ Use the conflicted package (<http://conflicted.r-lib.org/>) to force all conflicts to become errors"
     ]
    }
   ],
   "source": [
    "source(\"notebooks/initialize-data-analysis.r\")\n"
   ],
   "id": "a0ddbabd-06c6-4771-8497-c5f30f49cd62"
  },
  {
   "cell_type": "markdown",
   "metadata": {},
   "source": [
    "Summary statistics, by thrombocytopenia status."
   ],
   "id": "648b46f0-0027-45ef-ad95-ae3f3f878e8f"
  },
  {
   "cell_type": "code",
   "execution_count": null,
   "metadata": {},
   "outputs": [
    {
     "output_type": "stream",
     "name": "stderr",
     "text": [
      "#BlackLivesMatter"
     ]
    }
   ],
   "source": [
    "library(gtsummary)\n"
   ],
   "id": "35751a81-2460-48d8-805b-11b660e2fcd4"
  },
  {
   "cell_type": "markdown",
   "metadata": {},
   "source": [
    "Univariate logistic regression, by thrombocytopenia status."
   ],
   "id": "47f2b740-59c6-4cb5-8d24-dd5d1d1b1aa1"
  },
  {
   "cell_type": "code",
   "execution_count": null,
   "metadata": {},
   "outputs": [
    {
     "output_type": "stream",
     "name": "stderr",
     "text": [
      "── Attaching packages ────────────────────────────────────── tidymodels 1.2.0 ──"
     ]
    },
    {
     "output_type": "stream",
     "name": "stderr",
     "text": [
      "✔ broom        1.0.5      ✔ rsample      1.2.1 \n",
      "✔ dials        1.2.1      ✔ tune         1.2.1 \n",
      "✔ infer        1.0.7      ✔ workflows    1.1.4 \n",
      "✔ modeldata    1.3.0      ✔ workflowsets 1.1.0 \n",
      "✔ parsnip      1.2.1      ✔ yardstick    1.3.1 \n",
      "✔ recipes      1.0.10     "
     ]
    },
    {
     "output_type": "stream",
     "name": "stderr",
     "text": [
      "── Conflicts ───────────────────────────────────────── tidymodels_conflicts() ──\n",
      "✖ recipes::all_double()  masks gtsummary::all_double()\n",
      "✖ recipes::all_factor()  masks gtsummary::all_factor()\n",
      "✖ recipes::all_integer() masks gtsummary::all_integer()\n",
      "✖ recipes::all_logical() masks gtsummary::all_logical()\n",
      "✖ recipes::all_numeric() masks gtsummary::all_numeric()\n",
      "✖ scales::discard()      masks purrr::discard()\n",
      "✖ dplyr::filter()        masks stats::filter()\n",
      "✖ recipes::fixed()       masks stringr::fixed()\n",
      "✖ dplyr::lag()           masks stats::lag()\n",
      "✖ yardstick::spec()      masks readr::spec()\n",
      "✖ recipes::step()        masks stats::step()\n",
      "• Learn how to get started at https://www.tidymodels.org/start/"
     ]
    },
    {
     "output_type": "stream",
     "name": "stderr",
     "text": [
      "Loading required package: future"
     ]
    },
    {
     "output_type": "stream",
     "name": "stderr",
     "text": [
      "Extracting {parsnip} model fit with `tbl_regression(x = x$fit, ...)`"
     ]
    },
    {
     "output_type": "stream",
     "name": "stderr",
     "text": [
      "Extracting {parsnip} model fit with `tbl_regression(x = x$fit, ...)`\n",
      "Extracting {parsnip} model fit with `tbl_regression(x = x$fit, ...)`\n",
      "Extracting {parsnip} model fit with `tbl_regression(x = x$fit, ...)`\n",
      "Extracting {parsnip} model fit with `tbl_regression(x = x$fit, ...)`\n",
      "Extracting {parsnip} model fit with `tbl_regression(x = x$fit, ...)`\n",
      "Extracting {parsnip} model fit with `tbl_regression(x = x$fit, ...)`\n",
      "Extracting {parsnip} model fit with `tbl_regression(x = x$fit, ...)`\n",
      "Extracting {parsnip} model fit with `tbl_regression(x = x$fit, ...)`\n",
      "Extracting {parsnip} model fit with `tbl_regression(x = x$fit, ...)`\n",
      "Extracting {parsnip} model fit with `tbl_regression(x = x$fit, ...)`\n",
      "Extracting {parsnip} model fit with `tbl_regression(x = x$fit, ...)`\n",
      "Extracting {parsnip} model fit with `tbl_regression(x = x$fit, ...)`\n",
      "Extracting {parsnip} model fit with `tbl_regression(x = x$fit, ...)`\n",
      "Extracting {parsnip} model fit with `tbl_regression(x = x$fit, ...)`\n",
      "Extracting {parsnip} model fit with `tbl_regression(x = x$fit, ...)`\n",
      "Extracting {parsnip} model fit with `tbl_regression(x = x$fit, ...)`\n",
      "Extracting {parsnip} model fit with `tbl_regression(x = x$fit, ...)`"
     ]
    },
    {
     "output_type": "stream",
     "name": "stderr",
     "text": [
      "Extracting {parsnip} model fit with `tbl_regression(x = x$fit, ...)`\n",
      "Extracting {parsnip} model fit with `tbl_regression(x = x$fit, ...)`\n",
      "Extracting {parsnip} model fit with `tbl_regression(x = x$fit, ...)`\n",
      "Extracting {parsnip} model fit with `tbl_regression(x = x$fit, ...)`\n",
      "Extracting {parsnip} model fit with `tbl_regression(x = x$fit, ...)`\n",
      "Extracting {parsnip} model fit with `tbl_regression(x = x$fit, ...)`\n",
      "Extracting {parsnip} model fit with `tbl_regression(x = x$fit, ...)`\n",
      "Extracting {parsnip} model fit with `tbl_regression(x = x$fit, ...)`\n",
      "Extracting {parsnip} model fit with `tbl_regression(x = x$fit, ...)`\n",
      "Extracting {parsnip} model fit with `tbl_regression(x = x$fit, ...)`\n",
      "Extracting {parsnip} model fit with `tbl_regression(x = x$fit, ...)`\n",
      "Extracting {parsnip} model fit with `tbl_regression(x = x$fit, ...)`\n",
      "Extracting {parsnip} model fit with `tbl_regression(x = x$fit, ...)`\n",
      "Extracting {parsnip} model fit with `tbl_regression(x = x$fit, ...)`\n",
      "Extracting {parsnip} model fit with `tbl_regression(x = x$fit, ...)`\n",
      "Extracting {parsnip} model fit with `tbl_regression(x = x$fit, ...)`\n",
      "Extracting {parsnip} model fit with `tbl_regression(x = x$fit, ...)`\n",
      "Extracting {parsnip} model fit with `tbl_regression(x = x$fit, ...)`"
     ]
    },
    {
     "output_type": "stream",
     "name": "stderr",
     "text": [
      "Extracting {parsnip} model fit with `tbl_regression(x = x$fit, ...)`\n",
      "Extracting {parsnip} model fit with `tbl_regression(x = x$fit, ...)`\n",
      "Extracting {parsnip} model fit with `tbl_regression(x = x$fit, ...)`\n",
      "Extracting {parsnip} model fit with `tbl_regression(x = x$fit, ...)`\n",
      "Extracting {parsnip} model fit with `tbl_regression(x = x$fit, ...)`\n",
      "Extracting {parsnip} model fit with `tbl_regression(x = x$fit, ...)`\n",
      "Extracting {parsnip} model fit with `tbl_regression(x = x$fit, ...)`\n",
      "Extracting {parsnip} model fit with `tbl_regression(x = x$fit, ...)`\n",
      "Extracting {parsnip} model fit with `tbl_regression(x = x$fit, ...)`\n",
      "Extracting {parsnip} model fit with `tbl_regression(x = x$fit, ...)`\n",
      "Extracting {parsnip} model fit with `tbl_regression(x = x$fit, ...)`\n",
      "Extracting {parsnip} model fit with `tbl_regression(x = x$fit, ...)`\n",
      "Extracting {parsnip} model fit with `tbl_regression(x = x$fit, ...)`\n",
      "Extracting {parsnip} model fit with `tbl_regression(x = x$fit, ...)`\n",
      "Extracting {parsnip} model fit with `tbl_regression(x = x$fit, ...)`\n",
      "Extracting {parsnip} model fit with `tbl_regression(x = x$fit, ...)`\n",
      "Extracting {parsnip} model fit with `tbl_regression(x = x$fit, ...)`\n",
      "Extracting {parsnip} model fit with `tbl_regression(x = x$fit, ...)`"
     ]
    }
   ],
   "source": [
    "library(tidymodels)\n"
   ],
   "id": "eb59bc28-0942-4460-ab27-b80df34b1501"
  },
  {
   "cell_type": "markdown",
   "metadata": {},
   "source": [
    "Print and save results."
   ],
   "id": "9fc7543a-425c-428a-91fc-187414ec7f40"
  },
  {
   "cell_type": "code",
   "execution_count": null,
   "metadata": {},
   "outputs": [
    {
     "output_type": "display_data",
     "metadata": {},
     "data": {
      "text/html": [
       "\n",
       "</div>"
      ],
      "text/markdown": [
       "  -------------------------------------------------------------------------------------------------------------------------------------------------------------------------------------------------------------------------------------------------------------------------------------------------------------------------------------------------------------------------------------------------------------------------------------\n",
       "  **Characteristic**                                                  [**Thrombocytopenia Status**]{.gt_column_spanner}                                                                                                                                                           [**Univariate Regression**]{.gt_column_spanner}                                                                                         \n",
       "  ------------------------------------------------------------------- ------------------------------------------------------------------- ------------------------------------------------------------------- ------------------------------------------------------------------- ------------------------------------------------------------------- ------------------------------------------------------------------- -------------\n",
       "                                                                      **Overall**, N = 776[^1^]{.gt_footnote_marks                        **FALSE**, N = 529[^1^]{.gt_footnote_marks                          **TRUE**, N = 247[^1^]{.gt_footnote_marks                           **OR**[^2^]{.gt_footnote_marks                                      **95% CI**[^2^]{.gt_footnote_marks                                  **p-value**\n",
       "                                                                      style=\"white-space:nowrap;font-style:italic;font-weight:normal;\"}   style=\"white-space:nowrap;font-style:italic;font-weight:normal;\"}   style=\"white-space:nowrap;font-style:italic;font-weight:normal;\"}   style=\"white-space:nowrap;font-style:italic;font-weight:normal;\"}   style=\"white-space:nowrap;font-style:italic;font-weight:normal;\"}   \n",
       "\n",
       "  patient_age_per_10                                                  6.20 (5.00 - 7.30)                                                  6.10 (4.80 - 7.20)                                                  6.40 (5.50 - 7.40)                                                  1.18                                                                1.08, 1.30                                                          \\<0.001\n",
       "\n",
       "  patient_age_60                                                      455 (59%)                                                           290 (55%)                                                           165 (67%)                                                           1.66                                                                1.21, 2.28                                                          0.002\n",
       "\n",
       "  patient_age_65                                                      351 (45%)                                                           228 (43%)                                                           123 (50%)                                                           1.31                                                                0.97, 1.77                                                          0.081\n",
       "\n",
       "  patient_sex                                                         288 (37%)                                                           195 (37%)                                                           93 (38%)                                                            1.03                                                                0.76, 1.41                                                          0.8\n",
       "\n",
       "  patient_weight_per_10                                               5.50 (5.00 - 6.00)                                                  5.50 (5.00 - 6.00)                                                  5.50 (4.85 - 6.20)                                                  1.02                                                                0.87, 1.20                                                          0.8\n",
       "\n",
       "  patient_weight_50                                                   181 (23%)                                                           117 (22%)                                                           64 (26%)                                                            1.23                                                                0.86, 1.74                                                          0.2\n",
       "\n",
       "  baseline_CLCR_per_10                                                4.9 (2.1 - 8.3)                                                     5.5 (2.6 - 8.8)                                                     3.3 (1.6 - 6.4)                                                     0.90                                                                0.86, 0.93                                                          \\<0.001\n",
       "\n",
       "  baseline_CLCR_60                                                    462 (60%)                                                           280 (53%)                                                           182 (74%)                                                           2.49                                                                1.80, 3.48                                                          \\<0.001\n",
       "\n",
       "  baseline_CLCR_30                                                    272 (35%)                                                           153 (29%)                                                           119 (48%)                                                           2.28                                                                1.67, 3.13                                                          \\<0.001\n",
       "\n",
       "  dept_ER                                                             136 (18%)                                                           93 (18%)                                                            43 (17%)                                                            0.99                                                                0.66, 1.46                                                          \\>0.9\n",
       "\n",
       "  dept_ICU                                                            377 (49%)                                                           233 (44%)                                                           144 (58%)                                                           1.78                                                                1.31, 2.41                                                          \\<0.001\n",
       "\n",
       "  baseline_HGB_per_10                                                 10.30 (9.00 - 12.10)                                                10.50 (9.20 - 12.20)                                                9.80 (8.60 - 11.80)                                                 0.89                                                                0.83, 0.95                                                          \\<0.001\n",
       "\n",
       "  baseline_WBC_per_10                                                 1.22 (0.82 - 1.69)                                                  1.21 (0.83 - 1.67)                                                  1.25 (0.78 - 1.77)                                                  1.09                                                                0.90, 1.31                                                          0.4\n",
       "\n",
       "  baseline_PLT_per_10                                                 21 (15 - 29)                                                        24 (17 - 31)                                                        16 (11 - 21)                                                        0.92                                                                0.90, 0.94                                                          \\<0.001\n",
       "\n",
       "  baseline_PLT_200                                                    349 (45%)                                                           183 (35%)                                                           166 (67%)                                                           3.87                                                                2.82, 5.36                                                          \\<0.001\n",
       "\n",
       "  baseline_PLT_150                                                    203 (26%)                                                           90 (17%)                                                            113 (46%)                                                           4.11                                                                2.94, 5.78                                                          \\<0.001\n",
       "\n",
       "  LZD_duration                                                        9.0 (6.0 - 14.0)                                                    9.0 (6.0 - 13.0)                                                    10.0 (6.0 - 14.0)                                                   1.03                                                                1.00, 1.06                                                          0.020\n",
       "\n",
       "  LZD_duration_7                                                      566 (73%)                                                           386 (73%)                                                           180 (73%)                                                           1.00                                                                0.71, 1.40                                                          \\>0.9\n",
       "\n",
       "  LZD_duration_10                                                     383 (49%)                                                           248 (47%)                                                           135 (55%)                                                           1.37                                                                1.01, 1.85                                                          0.044\n",
       "\n",
       "  LZD_duration_14                                                     201 (26%)                                                           120 (23%)                                                           81 (33%)                                                            1.66                                                                1.19, 2.32                                                          0.003\n",
       "\n",
       "  LZD_route                                                           \\                                                                   \\                                                                   \\                                                                   \\                                                                   \\                                                                   \\\n",
       "\n",
       "      IV                                                              756 (97%)                                                           513 (97%)                                                           243 (98%)                                                           ---                                                                 ---                                                                 \\\n",
       "\n",
       "      IV&PO                                                           9 (1.2%)                                                            7 (1.3%)                                                            2 (0.8%)                                                            0.60                                                                0.09, 2.52                                                          0.5\n",
       "\n",
       "      PO                                                              11 (1.4%)                                                           9 (1.7%)                                                            2 (0.8%)                                                            0.47                                                                0.07, 1.84                                                          0.3\n",
       "\n",
       "  invasive_ETI                                                        366 (47%)                                                           218 (41%)                                                           148 (60%)                                                           2.13                                                                1.57, 2.91                                                          \\<0.001\n",
       "\n",
       "  invasive_CVC                                                        390 (50%)                                                           225 (43%)                                                           165 (67%)                                                           2.72                                                                1.99, 3.74                                                          \\<0.001\n",
       "\n",
       "  invasive_IHD                                                        97 (13%)                                                            57 (11%)                                                            40 (16%)                                                            1.60                                                                1.03, 2.47                                                          0.035\n",
       "\n",
       "  invasive_CRRT                                                       130 (17%)                                                           60 (11%)                                                            70 (28%)                                                            3.09                                                                2.10, 4.56                                                          \\<0.001\n",
       "\n",
       "  comorb_HTN                                                          330 (43%)                                                           219 (41%)                                                           111 (45%)                                                           1.16                                                                0.85, 1.57                                                          0.4\n",
       "\n",
       "  comorb_DM                                                           212 (27%)                                                           145 (27%)                                                           67 (27%)                                                            0.99                                                                0.70, 1.38                                                          \\>0.9\n",
       "\n",
       "  comorb_HF                                                           219 (28%)                                                           126 (24%)                                                           93 (38%)                                                            1.93                                                                1.39, 2.68                                                          \\<0.001\n",
       "\n",
       "  comorb_angina                                                       35 (4.5%)                                                           20 (3.8%)                                                           15 (6.1%)                                                           1.65                                                                0.81, 3.26                                                          0.2\n",
       "\n",
       "  comorb_cirr                                                         47 (6.1%)                                                           19 (3.6%)                                                           28 (11%)                                                            3.43                                                                1.89, 6.37                                                          \\<0.001\n",
       "\n",
       "  comorb_COPD                                                         39 (5.0%)                                                           25 (4.7%)                                                           14 (5.7%)                                                           1.21                                                                0.60, 2.34                                                          0.6\n",
       "\n",
       "  comorb_CVA                                                          88 (11%)                                                            63 (12%)                                                            25 (10%)                                                            0.83                                                                0.50, 1.34                                                          0.5\n",
       "\n",
       "  comorb_MI                                                           20 (2.6%)                                                           15 (2.8%)                                                           5 (2.0%)                                                            0.71                                                                0.23, 1.85                                                          0.5\n",
       "\n",
       "  comorb_K                                                            58 (7.5%)                                                           36 (6.8%)                                                           22 (8.9%)                                                           1.34                                                                0.76, 2.31                                                          0.3\n",
       "\n",
       "  infect_sepsis                                                       121 (16%)                                                           53 (10%)                                                            68 (28%)                                                            3.41                                                                2.30, 5.10                                                          \\<0.001\n",
       "\n",
       "  infect_CAP                                                          116 (15%)                                                           68 (13%)                                                            48 (19%)                                                            1.64                                                                1.09, 2.45                                                          0.017\n",
       "\n",
       "  infect_HAP                                                          353 (45%)                                                           243 (46%)                                                           110 (45%)                                                           0.95                                                                0.70, 1.28                                                          0.7\n",
       "\n",
       "  infect_SSTI                                                         139 (18%)                                                           101 (19%)                                                           38 (15%)                                                            0.77                                                                0.51, 1.15                                                          0.2\n",
       "\n",
       "  infect_CNS                                                          62 (8.0%)                                                           44 (8.3%)                                                           18 (7.3%)                                                           0.87                                                                0.48, 1.51                                                          0.6\n",
       "\n",
       "  infect_IAI                                                          47 (6.1%)                                                           33 (6.2%)                                                           14 (5.7%)                                                           0.90                                                                0.46, 1.69                                                          0.8\n",
       "\n",
       "  infect_UTI                                                          48 (6.2%)                                                           32 (6.0%)                                                           16 (6.5%)                                                           1.08                                                                0.57, 1.97                                                          0.8\n",
       "\n",
       "  infect_BJI                                                          12 (1.5%)                                                           11 (2.1%)                                                           1 (0.4%)                                                            0.19                                                                0.01, 0.99                                                          0.11\n",
       "\n",
       "  infect_septicemia                                                   240 (31%)                                                           161 (30%)                                                           79 (32%)                                                            1.07                                                                0.77, 1.49                                                          0.7\n",
       "\n",
       "  comed_ibuprofen                                                     19 (2.4%)                                                           14 (2.6%)                                                           5 (2.0%)                                                            0.76                                                                0.24, 2.01                                                          0.6\n",
       "\n",
       "  comed_carbapenem                                                    565 (73%)                                                           371 (70%)                                                           194 (79%)                                                           1.56                                                                1.10, 2.24                                                          0.015\n",
       "\n",
       "  comed_vancomycin                                                    67 (8.6%)                                                           41 (7.8%)                                                           26 (11%)                                                            1.40                                                                0.83, 2.33                                                          0.2\n",
       "\n",
       "  comed_levofloxacin                                                  240 (31%)                                                           156 (29%)                                                           84 (34%)                                                            1.23                                                                0.89, 1.70                                                          0.2\n",
       "\n",
       "  comed_teicoplanin                                                   38 (4.9%)                                                           23 (4.3%)                                                           15 (6.1%)                                                           1.42                                                                0.71, 2.75                                                          0.3\n",
       "\n",
       "  comed_pyrazinamid                                                   13 (1.7%)                                                           5 (0.9%)                                                            8 (3.2%)                                                            3.51                                                                1.16, 11.7                                                          0.029\n",
       "\n",
       "  comed_rifampin                                                      15 (1.9%)                                                           7 (1.3%)                                                            8 (3.2%)                                                            2.50                                                                0.89, 7.20                                                          0.081\n",
       "\n",
       "  comed_heparin                                                       215 (28%)                                                           106 (20%)                                                           109 (44%)                                                           3.15                                                                2.27, 4.39                                                          \\<0.001\n",
       "\n",
       "  comed_clopidogrel                                                   40 (5.2%)                                                           30 (5.7%)                                                           10 (4.0%)                                                           0.70                                                                0.32, 1.41                                                          0.3\n",
       "\n",
       "  comed_enoxaparin                                                    358 (46%)                                                           235 (44%)                                                           123 (50%)                                                           1.24                                                                0.92, 1.68                                                          0.2\n",
       "\n",
       "  comed_valproic                                                      32 (4.1%)                                                           22 (4.2%)                                                           10 (4.0%)                                                           0.97                                                                0.43, 2.03                                                          \\>0.9\n",
       "\n",
       "  comed_aspirin                                                       42 (5.4%)                                                           28 (5.3%)                                                           14 (5.7%)                                                           \\                                                                   \\                                                                   \\\n",
       "\n",
       "  comed_aceclofenac                                                   0 (0%)                                                              0 (0%)                                                              0 (0%)                                                              \\                                                                   \\                                                                   \\\n",
       "\n",
       "  comed_diclofenac                                                    27 (3.5%)                                                           20 (3.8%)                                                           7 (2.8%)                                                            \\                                                                   \\                                                                   \\\n",
       "\n",
       "  comed_naproxen                                                      0 (0%)                                                              0 (0%)                                                              0 (0%)                                                              \\                                                                   \\                                                                   \\\n",
       "\n",
       "  comed_paracetamol                                                   351 (45%)                                                           242 (46%)                                                           109 (44%)                                                           \\                                                                   \\                                                                   \\\n",
       "\n",
       "  comed_penicillin                                                    168 (22%)                                                           106 (20%)                                                           62 (25%)                                                            \\                                                                   \\                                                                   \\\n",
       "\n",
       "  comed_cepha                                                         196 (25%)                                                           142 (27%)                                                           54 (22%)                                                            \\                                                                   \\                                                                   \\\n",
       "\n",
       "  comed_cotrimoxazol                                                  71 (9.1%)                                                           44 (8.3%)                                                           27 (11%)                                                            \\                                                                   \\                                                                   \\\n",
       "\n",
       "  comed_daptomycin                                                    1 (0.1%)                                                            1 (0.2%)                                                            0 (0%)                                                              \\                                                                   \\                                                                   \\\n",
       "\n",
       "  comed_ethambutol                                                    8 (1.0%)                                                            4 (0.8%)                                                            4 (1.6%)                                                            \\                                                                   \\                                                                   \\\n",
       "\n",
       "  comed_cetirizin                                                     6 (0.8%)                                                            5 (0.9%)                                                            1 (0.4%)                                                            \\                                                                   \\                                                                   \\\n",
       "\n",
       "  comed_dexamethason                                                  109 (14%)                                                           76 (14%)                                                            33 (13%)                                                            \\                                                                   \\                                                                   \\\n",
       "\n",
       "  comed_amiodaron                                                     35 (4.5%)                                                           17 (3.2%)                                                           18 (7.3%)                                                           \\                                                                   \\                                                                   \\\n",
       "\n",
       "  comed_furosemid                                                     422 (54%)                                                           242 (46%)                                                           180 (73%)                                                           \\                                                                   \\                                                                   \\\n",
       "\n",
       "  comed_simvas                                                        0 (0%)                                                              0 (0%)                                                              0 (0%)                                                              \\                                                                   \\                                                                   \\\n",
       "\n",
       "  comed_bisoprolol                                                    5 (0.6%)                                                            4 (0.8%)                                                            1 (0.4%)                                                            \\                                                                   \\                                                                   \\\n",
       "\n",
       "  comed_diltiazem                                                     0 (0%)                                                              0 (0%)                                                              0 (0%)                                                              \\                                                                   \\                                                                   \\\n",
       "\n",
       "  comed_eptifibatid                                                   0 (0%)                                                              0 (0%)                                                              0 (0%)                                                              \\                                                                   \\                                                                   \\\n",
       "\n",
       "  comed_quinidin                                                      0 (0%)                                                              0 (0%)                                                              0 (0%)                                                              \\                                                                   \\                                                                   \\\n",
       "\n",
       "  comed_haloperidol                                                   51 (6.6%)                                                           35 (6.6%)                                                           16 (6.5%)                                                           \\                                                                   \\                                                                   \\\n",
       "\n",
       "  comed_carbamazepin                                                  8 (1.0%)                                                            8 (1.5%)                                                            0 (0%)                                                              \\                                                                   \\                                                                   \\\n",
       "\n",
       "  comed_phenytoin                                                     0 (0%)                                                              0 (0%)                                                              0 (0%)                                                              \\                                                                   \\                                                                   \\\n",
       "\n",
       "  comed_mirtazapin                                                    0 (0%)                                                              0 (0%)                                                              0 (0%)                                                              \\                                                                   \\                                                                   \\\n",
       "\n",
       "  comed_quetiapin                                                     4 (0.5%)                                                            4 (0.8%)                                                            0 (0%)                                                              \\                                                                   \\                                                                   \\\n",
       "\n",
       "  comed_ondansetron                                                   5 (0.6%)                                                            2 (0.4%)                                                            3 (1.2%)                                                            \\                                                                   \\                                                                   \\\n",
       "\n",
       "  comed_palonosetron                                                  0 (0%)                                                              0 (0%)                                                              0 (0%)                                                              \\                                                                   \\                                                                   \\\n",
       "\n",
       "  comed_oseltamivir                                                   2 (0.3%)                                                            1 (0.2%)                                                            1 (0.4%)                                                            \\                                                                   \\                                                                   \\\n",
       "\n",
       "  comed_quinin                                                        0 (0%)                                                              0 (0%)                                                              0 (0%)                                                              \\                                                                   \\                                                                   \\\n",
       "\n",
       "  comed_pembrolizumab                                                 0 (0%)                                                              0 (0%)                                                              0 (0%)                                                              \\                                                                   \\                                                                   \\\n",
       "\n",
       "  comed_trastuzumab                                                   0 (0%)                                                              0 (0%)                                                              0 (0%)                                                              \\                                                                   \\                                                                   \\\n",
       "\n",
       "  comed_atezolizumab                                                  0 (0%)                                                              0 (0%)                                                              0 (0%)                                                              \\                                                                   \\                                                                   \\\n",
       "\n",
       "  comed_durvalumab                                                    0 (0%)                                                              0 (0%)                                                              0 (0%)                                                              \\                                                                   \\                                                                   \\\n",
       "\n",
       "  comed_IVIG                                                          0 (0%)                                                              0 (0%)                                                              0 (0%)                                                              \\                                                                   \\                                                                   \\\n",
       "\n",
       "  comed_tacrolimus                                                    1 (0.1%)                                                            0 (0%)                                                              1 (0.4%)                                                            \\                                                                   \\                                                                   \\\n",
       "\n",
       "  comed_fluorouracil                                                  0 (0%)                                                              0 (0%)                                                              0 (0%)                                                              \\                                                                   \\                                                                   \\\n",
       "\n",
       "  comed_irinotecan                                                    0 (0%)                                                              0 (0%)                                                              0 (0%)                                                              \\                                                                   \\                                                                   \\\n",
       "\n",
       "  comed_leucovorin                                                    0 (0%)                                                              0 (0%)                                                              0 (0%)                                                              \\                                                                   \\                                                                   \\\n",
       "\n",
       "  comed_oxaliplatin                                                   0 (0%)                                                              0 (0%)                                                              0 (0%)                                                              \\                                                                   \\                                                                   \\\n",
       "\n",
       "  [^1^]{.gt_footnote_marks                                                                                                                                                                                                                                                                                                                                                                                                \n",
       "  style=\"white-space:nowrap;font-style:italic;font-weight:normal;\"}                                                                                                                                                                                                                                                                                                                                                       \n",
       "  Median (IQR); n (%)                                                                                                                                                                                                                                                                                                                                                                                                     \n",
       "\n",
       "  [^2^]{.gt_footnote_marks                                                                                                                                                                                                                                                                                                                                                                                                \n",
       "  style=\"white-space:nowrap;font-style:italic;font-weight:normal;\"}                                                                                                                                                                                                                                                                                                                                                       \n",
       "  OR = Odds Ratio, CI = Confidence Interval                                                                                                                                                                                                                                                                                                                                                                               \n",
       "  -------------------------------------------------------------------------------------------------------------------------------------------------------------------------------------------------------------------------------------------------------------------------------------------------------------------------------------------------------------------------------------------------------------------------------------\n"
      ]
     }
    }
   ],
   "source": [
    "table_descriptive <- tbl_merge(\n",
    "  list(table_stats, table_uni),\n",
    "  tab_spanner = c(\n",
    "    \"**Thrombocytopenia Status**\",\n",
    "    \"**Univariate Regression**\"\n",
    "  )\n",
    ")\n",
    "\n",
    "table_descriptive\n"
   ],
   "id": "e85b46a6-2c6f-426a-b462-7c9e526a48b6"
  },
  {
   "cell_type": "markdown",
   "metadata": {},
   "source": [
    "Summary statistics, by site."
   ],
   "id": "bc910a20-8ce1-4066-abe6-510c264b7f83"
  },
  {
   "cell_type": "code",
   "execution_count": null,
   "metadata": {},
   "outputs": [
    {
     "output_type": "stream",
     "name": "stderr",
     "text": [
      "There was an error in 'add_p()/add_difference()' for variable 'comed_aceclofenac', p-value omitted:\n",
      "Error in stats::chisq.test(x = c(FALSE, FALSE, FALSE, FALSE, FALSE, FALSE, : 'x' and 'y' must have at least 2 levels"
     ]
    },
    {
     "output_type": "stream",
     "name": "stderr",
     "text": [
      "There was an error in 'add_p()/add_difference()' for variable 'comed_naproxen', p-value omitted:\n",
      "Error in stats::chisq.test(x = c(FALSE, FALSE, FALSE, FALSE, FALSE, FALSE, : 'x' and 'y' must have at least 2 levels"
     ]
    },
    {
     "output_type": "stream",
     "name": "stderr",
     "text": [
      "There was an error in 'add_p()/add_difference()' for variable 'comed_simvas', p-value omitted:\n",
      "Error in stats::chisq.test(x = c(FALSE, FALSE, FALSE, FALSE, FALSE, FALSE, : 'x' and 'y' must have at least 2 levels"
     ]
    },
    {
     "output_type": "stream",
     "name": "stderr",
     "text": [
      "There was an error in 'add_p()/add_difference()' for variable 'comed_diltiazem', p-value omitted:\n",
      "Error in stats::chisq.test(x = c(FALSE, FALSE, FALSE, FALSE, FALSE, FALSE, : 'x' and 'y' must have at least 2 levels"
     ]
    },
    {
     "output_type": "stream",
     "name": "stderr",
     "text": [
      "There was an error in 'add_p()/add_difference()' for variable 'comed_eptifibatid', p-value omitted:\n",
      "Error in stats::chisq.test(x = c(FALSE, FALSE, FALSE, FALSE, FALSE, FALSE, : 'x' and 'y' must have at least 2 levels"
     ]
    },
    {
     "output_type": "stream",
     "name": "stderr",
     "text": [
      "There was an error in 'add_p()/add_difference()' for variable 'comed_quinidin', p-value omitted:\n",
      "Error in stats::chisq.test(x = c(FALSE, FALSE, FALSE, FALSE, FALSE, FALSE, : 'x' and 'y' must have at least 2 levels"
     ]
    },
    {
     "output_type": "stream",
     "name": "stderr",
     "text": [
      "There was an error in 'add_p()/add_difference()' for variable 'comed_phenytoin', p-value omitted:\n",
      "Error in stats::chisq.test(x = c(FALSE, FALSE, FALSE, FALSE, FALSE, FALSE, : 'x' and 'y' must have at least 2 levels"
     ]
    },
    {
     "output_type": "stream",
     "name": "stderr",
     "text": [
      "There was an error in 'add_p()/add_difference()' for variable 'comed_mirtazapin', p-value omitted:\n",
      "Error in stats::chisq.test(x = c(FALSE, FALSE, FALSE, FALSE, FALSE, FALSE, : 'x' and 'y' must have at least 2 levels"
     ]
    },
    {
     "output_type": "stream",
     "name": "stderr",
     "text": [
      "There was an error in 'add_p()/add_difference()' for variable 'comed_palonosetron', p-value omitted:\n",
      "Error in stats::chisq.test(x = c(FALSE, FALSE, FALSE, FALSE, FALSE, FALSE, : 'x' and 'y' must have at least 2 levels"
     ]
    },
    {
     "output_type": "stream",
     "name": "stderr",
     "text": [
      "There was an error in 'add_p()/add_difference()' for variable 'comed_quinin', p-value omitted:\n",
      "Error in stats::chisq.test(x = c(FALSE, FALSE, FALSE, FALSE, FALSE, FALSE, : 'x' and 'y' must have at least 2 levels"
     ]
    },
    {
     "output_type": "stream",
     "name": "stderr",
     "text": [
      "There was an error in 'add_p()/add_difference()' for variable 'comed_pembrolizumab', p-value omitted:\n",
      "Error in stats::chisq.test(x = c(FALSE, FALSE, FALSE, FALSE, FALSE, FALSE, : 'x' and 'y' must have at least 2 levels"
     ]
    },
    {
     "output_type": "stream",
     "name": "stderr",
     "text": [
      "There was an error in 'add_p()/add_difference()' for variable 'comed_trastuzumab', p-value omitted:\n",
      "Error in stats::chisq.test(x = c(FALSE, FALSE, FALSE, FALSE, FALSE, FALSE, : 'x' and 'y' must have at least 2 levels"
     ]
    },
    {
     "output_type": "stream",
     "name": "stderr",
     "text": [
      "There was an error in 'add_p()/add_difference()' for variable 'comed_atezolizumab', p-value omitted:\n",
      "Error in stats::chisq.test(x = c(FALSE, FALSE, FALSE, FALSE, FALSE, FALSE, : 'x' and 'y' must have at least 2 levels"
     ]
    },
    {
     "output_type": "stream",
     "name": "stderr",
     "text": [
      "There was an error in 'add_p()/add_difference()' for variable 'comed_durvalumab', p-value omitted:\n",
      "Error in stats::chisq.test(x = c(FALSE, FALSE, FALSE, FALSE, FALSE, FALSE, : 'x' and 'y' must have at least 2 levels"
     ]
    },
    {
     "output_type": "stream",
     "name": "stderr",
     "text": [
      "There was an error in 'add_p()/add_difference()' for variable 'comed_IVIG', p-value omitted:\n",
      "Error in stats::chisq.test(x = c(FALSE, FALSE, FALSE, FALSE, FALSE, FALSE, : 'x' and 'y' must have at least 2 levels"
     ]
    },
    {
     "output_type": "stream",
     "name": "stderr",
     "text": [
      "There was an error in 'add_p()/add_difference()' for variable 'comed_fluorouracil', p-value omitted:\n",
      "Error in stats::chisq.test(x = c(FALSE, FALSE, FALSE, FALSE, FALSE, FALSE, : 'x' and 'y' must have at least 2 levels"
     ]
    },
    {
     "output_type": "stream",
     "name": "stderr",
     "text": [
      "There was an error in 'add_p()/add_difference()' for variable 'comed_irinotecan', p-value omitted:\n",
      "Error in stats::chisq.test(x = c(FALSE, FALSE, FALSE, FALSE, FALSE, FALSE, : 'x' and 'y' must have at least 2 levels"
     ]
    },
    {
     "output_type": "stream",
     "name": "stderr",
     "text": [
      "There was an error in 'add_p()/add_difference()' for variable 'comed_leucovorin', p-value omitted:\n",
      "Error in stats::chisq.test(x = c(FALSE, FALSE, FALSE, FALSE, FALSE, FALSE, : 'x' and 'y' must have at least 2 levels"
     ]
    },
    {
     "output_type": "stream",
     "name": "stderr",
     "text": [
      "There was an error in 'add_p()/add_difference()' for variable 'comed_oxaliplatin', p-value omitted:\n",
      "Error in stats::chisq.test(x = c(FALSE, FALSE, FALSE, FALSE, FALSE, FALSE, : 'x' and 'y' must have at least 2 levels"
     ]
    },
    {
     "output_type": "display_data",
     "metadata": {},
     "data": {
      "text/html": [
       "\n",
       "</div>"
      ],
      "text/markdown": [
       "  -----------------------------------------------------------------------------------------------------------------------------------------------------------------------------------------------------------------------------------------------------------------------------------------------------------------------------------------------------------------------------------------------------------------------------------------------------------------------------------------------------------------------------------------------------------------------------------------------------------------------------------\n",
       "  **Characteristic**                                                  **Overall**, N = 776[^1^]{.gt_footnote_marks                        **BM1**, N = 117[^1^]{.gt_footnote_marks                            **BM2**, N = 69[^1^]{.gt_footnote_marks                             **ND1**, N = 170[^1^]{.gt_footnote_marks                            **ND2**, N = 111[^1^]{.gt_footnote_marks                            **TN1**, N = 98[^1^]{.gt_footnote_marks                             **TN2**, N = 211[^1^]{.gt_footnote_marks                            **p-value**[^2^]{.gt_footnote_marks\n",
       "                                                                      style=\"white-space:nowrap;font-style:italic;font-weight:normal;\"}   style=\"white-space:nowrap;font-style:italic;font-weight:normal;\"}   style=\"white-space:nowrap;font-style:italic;font-weight:normal;\"}   style=\"white-space:nowrap;font-style:italic;font-weight:normal;\"}   style=\"white-space:nowrap;font-style:italic;font-weight:normal;\"}   style=\"white-space:nowrap;font-style:italic;font-weight:normal;\"}   style=\"white-space:nowrap;font-style:italic;font-weight:normal;\"}   style=\"white-space:nowrap;font-style:italic;font-weight:normal;\"}\n",
       "  ------------------------------------------------------------------- ------------------------------------------------------------------- ------------------------------------------------------------------- ------------------------------------------------------------------- ------------------------------------------------------------------- ------------------------------------------------------------------- ------------------------------------------------------------------- ------------------------------------------------------------------- -------------------------------------------------------------------\n",
       "  patient_age_per_10                                                  6.20 (5.00 - 7.30)                                                  5.80 (4.80 - 6.90)                                                  6.00 (4.50 - 7.20)                                                  6.00 (4.43 - 6.88)                                                  5.90 (4.65 - 6.95)                                                  6.85 (6.00 - 7.80)                                                  6.60 (5.80 - 7.80)                                                  \\<0.001\n",
       "\n",
       "  patient_age_60                                                      455 (59%)                                                           54 (46%)                                                            36 (52%)                                                            86 (51%)                                                            53 (48%)                                                            75 (77%)                                                            151 (72%)                                                           \\<0.001\n",
       "\n",
       "  patient_age_65                                                      351 (45%)                                                           41 (35%)                                                            26 (38%)                                                            64 (38%)                                                            41 (37%)                                                            59 (60%)                                                            120 (57%)                                                           \\<0.001\n",
       "\n",
       "  patient_sex                                                         288 (37%)                                                           49 (42%)                                                            22 (32%)                                                            69 (41%)                                                            28 (25%)                                                            46 (47%)                                                            74 (35%)                                                            0.016\n",
       "\n",
       "  patient_weight_per_10                                               5.50 (5.00 - 6.00)                                                  5.30 (4.70 - 6.00)                                                  5.60 (5.10 - 6.50)                                                  5.80 (5.00 - 6.20)                                                  5.50 (5.00 - 6.00)                                                  5.00 (4.83 - 6.00)                                                  5.50 (5.00 - 6.00)                                                  0.008\n",
       "\n",
       "  patient_weight_50                                                   181 (23%)                                                           37 (32%)                                                            11 (16%)                                                            33 (19%)                                                            25 (23%)                                                            26 (27%)                                                            49 (23%)                                                            0.12\n",
       "\n",
       "  baseline_CLCR_per_10                                                4.9 (2.1 - 8.3)                                                     5.0 (2.4 - 8.0)                                                     4.0 (1.9 - 9.3)                                                     7.0 (4.1 - 10.8)                                                    6.0 (2.8 - 9.3)                                                     2.8 (1.4 - 5.3)                                                     3.5 (1.7 - 6.7)                                                     \\<0.001\n",
       "\n",
       "  baseline_CLCR_60                                                    462 (60%)                                                           68 (58%)                                                            42 (61%)                                                            71 (42%)                                                            53 (48%)                                                            81 (83%)                                                            147 (70%)                                                           \\<0.001\n",
       "\n",
       "  baseline_CLCR_30                                                    272 (35%)                                                           33 (28%)                                                            30 (43%)                                                            33 (19%)                                                            33 (30%)                                                            52 (53%)                                                            91 (43%)                                                            \\<0.001\n",
       "\n",
       "  dept_ER                                                             136 (18%)                                                           7 (6.0%)                                                            9 (13%)                                                             66 (39%)                                                            14 (13%)                                                            15 (15%)                                                            25 (12%)                                                            \\<0.001\n",
       "\n",
       "  dept_ICU                                                            377 (49%)                                                           9 (7.7%)                                                            21 (30%)                                                            73 (43%)                                                            40 (36%)                                                            76 (78%)                                                            158 (75%)                                                           \\<0.001\n",
       "\n",
       "  baseline_HGB_per_10                                                 10.30 (9.00 - 12.10)                                                10.70 (9.30 - 12.40)                                                10.10 (8.40 - 11.90)                                                10.55 (9.03 - 12.38)                                                10.00 (8.95 - 11.90)                                                9.90 (8.93 - 11.60)                                                 10.40 (9.05 - 12.00)                                                0.2\n",
       "\n",
       "  baseline_WBC_per_10                                                 1.22 (0.82 - 1.69)                                                  1.21 (0.79 - 1.62)                                                  1.12 (0.73 - 1.65)                                                  1.20 (0.77 - 1.77)                                                  1.10 (0.71 - 1.48)                                                  1.19 (0.80 - 1.80)                                                  1.32 (0.97 - 1.78)                                                  0.013\n",
       "\n",
       "  baseline_PLT_per_10                                                 21 (15 - 29)                                                        20 (14 - 25)                                                        23 (17 - 32)                                                        21 (13 - 29)                                                        23 (14 - 31)                                                        17 (12 - 25)                                                        23 (17 - 30)                                                        \\<0.001\n",
       "\n",
       "  baseline_PLT_200                                                    349 (45%)                                                           59 (50%)                                                            26 (38%)                                                            77 (45%)                                                            41 (37%)                                                            65 (66%)                                                            81 (38%)                                                            \\<0.001\n",
       "\n",
       "  baseline_PLT_150                                                    203 (26%)                                                           34 (29%)                                                            13 (19%)                                                            52 (31%)                                                            31 (28%)                                                            40 (41%)                                                            33 (16%)                                                            \\<0.001\n",
       "\n",
       "  LZD_duration                                                        9.0 (6.0 - 14.0)                                                    8.0 (6.0 - 13.0)                                                    10.0 (7.0 - 14.0)                                                   10.0 (6.0 - 14.0)                                                   9.0 (6.0 - 12.0)                                                    11.5 (6.0 - 15.0)                                                   9.0 (6.0 - 12.0)                                                    0.4\n",
       "\n",
       "  LZD_duration_7                                                      566 (73%)                                                           83 (71%)                                                            52 (75%)                                                            124 (73%)                                                           81 (73%)                                                            69 (70%)                                                            157 (74%)                                                           \\>0.9\n",
       "\n",
       "  LZD_duration_10                                                     383 (49%)                                                           52 (44%)                                                            35 (51%)                                                            87 (51%)                                                            54 (49%)                                                            54 (55%)                                                            101 (48%)                                                           0.7\n",
       "\n",
       "  LZD_duration_14                                                     201 (26%)                                                           29 (25%)                                                            20 (29%)                                                            56 (33%)                                                            19 (17%)                                                            36 (37%)                                                            41 (19%)                                                            0.001\n",
       "\n",
       "  LZD_route                                                           \\                                                                   \\                                                                   \\                                                                   \\                                                                   \\                                                                   \\                                                                   \\                                                                   \\<0.001\n",
       "\n",
       "      IV                                                              756 (97%)                                                           105 (90%)                                                           61 (88%)                                                            170 (100%)                                                          111 (100%)                                                          98 (100%)                                                           211 (100%)                                                          \\\n",
       "\n",
       "      IV&PO                                                           9 (1.2%)                                                            6 (5.1%)                                                            3 (4.3%)                                                            0 (0%)                                                              0 (0%)                                                              0 (0%)                                                              0 (0%)                                                              \\\n",
       "\n",
       "      PO                                                              11 (1.4%)                                                           6 (5.1%)                                                            5 (7.2%)                                                            0 (0%)                                                              0 (0%)                                                              0 (0%)                                                              0 (0%)                                                              \\\n",
       "\n",
       "  invasive_ETI                                                        366 (47%)                                                           62 (53%)                                                            28 (41%)                                                            111 (65%)                                                           43 (39%)                                                            47 (48%)                                                            75 (36%)                                                            \\<0.001\n",
       "\n",
       "  invasive_CVC                                                        390 (50%)                                                           71 (61%)                                                            27 (39%)                                                            99 (58%)                                                            42 (38%)                                                            49 (50%)                                                            102 (48%)                                                           0.001\n",
       "\n",
       "  invasive_IHD                                                        97 (13%)                                                            15 (13%)                                                            14 (20%)                                                            7 (4.1%)                                                            0 (0%)                                                              27 (28%)                                                            34 (16%)                                                            \\<0.001\n",
       "\n",
       "  invasive_CRRT                                                       130 (17%)                                                           17 (15%)                                                            7 (10%)                                                             51 (30%)                                                            5 (4.5%)                                                            20 (20%)                                                            30 (14%)                                                            \\<0.001\n",
       "\n",
       "  comorb_HTN                                                          330 (43%)                                                           41 (35%)                                                            28 (41%)                                                            48 (28%)                                                            38 (34%)                                                            57 (58%)                                                            118 (56%)                                                           \\<0.001\n",
       "\n",
       "  comorb_DM                                                           212 (27%)                                                           28 (24%)                                                            24 (35%)                                                            28 (16%)                                                            22 (20%)                                                            29 (30%)                                                            81 (38%)                                                            \\<0.001\n",
       "\n",
       "  comorb_HF                                                           219 (28%)                                                           54 (46%)                                                            11 (16%)                                                            14 (8.2%)                                                           5 (4.5%)                                                            68 (69%)                                                            67 (32%)                                                            \\<0.001\n",
       "\n",
       "  comorb_angina                                                       35 (4.5%)                                                           0 (0%)                                                              0 (0%)                                                              1 (0.6%)                                                            1 (0.9%)                                                            12 (12%)                                                            21 (10.0%)                                                          \\<0.001\n",
       "\n",
       "  comorb_cirr                                                         47 (6.1%)                                                           6 (5.1%)                                                            1 (1.4%)                                                            10 (5.9%)                                                           4 (3.6%)                                                            12 (12%)                                                            14 (6.6%)                                                           0.091\n",
       "\n",
       "  comorb_COPD                                                         39 (5.0%)                                                           3 (2.6%)                                                            0 (0%)                                                              2 (1.2%)                                                            2 (1.8%)                                                            9 (9.2%)                                                            23 (11%)                                                            \\<0.001\n",
       "\n",
       "  comorb_CVA                                                          88 (11%)                                                            19 (16%)                                                            9 (13%)                                                             5 (2.9%)                                                            4 (3.6%)                                                            16 (16%)                                                            35 (17%)                                                            \\<0.001\n",
       "\n",
       "  comorb_MI                                                           20 (2.6%)                                                           10 (8.5%)                                                           3 (4.3%)                                                            2 (1.2%)                                                            0 (0%)                                                              1 (1.0%)                                                            4 (1.9%)                                                            \\<0.001\n",
       "\n",
       "  comorb_K                                                            58 (7.5%)                                                           2 (1.7%)                                                            4 (5.8%)                                                            6 (3.5%)                                                            6 (5.4%)                                                            11 (11%)                                                            29 (14%)                                                            \\<0.001\n",
       "\n",
       "  infect_sepsis                                                       121 (16%)                                                           9 (7.7%)                                                            11 (16%)                                                            16 (9.4%)                                                           16 (14%)                                                            43 (44%)                                                            26 (12%)                                                            \\<0.001\n",
       "\n",
       "  infect_CAP                                                          116 (15%)                                                           7 (6.0%)                                                            5 (7.2%)                                                            11 (6.5%)                                                           2 (1.8%)                                                            26 (27%)                                                            65 (31%)                                                            \\<0.001\n",
       "\n",
       "  infect_HAP                                                          353 (45%)                                                           34 (29%)                                                            31 (45%)                                                            88 (52%)                                                            55 (50%)                                                            50 (51%)                                                            95 (45%)                                                            0.004\n",
       "\n",
       "  infect_SSTI                                                         139 (18%)                                                           31 (26%)                                                            30 (43%)                                                            4 (2.4%)                                                            15 (14%)                                                            23 (23%)                                                            36 (17%)                                                            \\<0.001\n",
       "\n",
       "  infect_CNS                                                          62 (8.0%)                                                           0 (0%)                                                              5 (7.2%)                                                            22 (13%)                                                            17 (15%)                                                            4 (4.1%)                                                            14 (6.6%)                                                           \\<0.001\n",
       "\n",
       "  infect_IAI                                                          47 (6.1%)                                                           8 (6.8%)                                                            7 (10%)                                                             1 (0.6%)                                                            1 (0.9%)                                                            12 (12%)                                                            18 (8.5%)                                                           \\<0.001\n",
       "\n",
       "  infect_UTI                                                          48 (6.2%)                                                           5 (4.3%)                                                            7 (10%)                                                             10 (5.9%)                                                           2 (1.8%)                                                            4 (4.1%)                                                            20 (9.5%)                                                           0.039\n",
       "\n",
       "  infect_BJI                                                          12 (1.5%)                                                           3 (2.6%)                                                            0 (0%)                                                              0 (0%)                                                              3 (2.7%)                                                            1 (1.0%)                                                            5 (2.4%)                                                            0.2\n",
       "\n",
       "  infect_septicemia                                                   240 (31%)                                                           31 (26%)                                                            22 (32%)                                                            49 (29%)                                                            59 (53%)                                                            7 (7.1%)                                                            72 (34%)                                                            \\<0.001\n",
       "\n",
       "  comed_ibuprofen                                                     19 (2.4%)                                                           0 (0%)                                                              0 (0%)                                                              0 (0%)                                                              1 (0.9%)                                                            0 (0%)                                                              18 (8.5%)                                                           \\<0.001\n",
       "\n",
       "  comed_carbapenem                                                    565 (73%)                                                           46 (39%)                                                            40 (58%)                                                            151 (89%)                                                           80 (72%)                                                            78 (80%)                                                            170 (81%)                                                           \\<0.001\n",
       "\n",
       "  comed_vancomycin                                                    67 (8.6%)                                                           7 (6.0%)                                                            3 (4.3%)                                                            7 (4.1%)                                                            17 (15%)                                                            3 (3.1%)                                                            30 (14%)                                                            \\<0.001\n",
       "\n",
       "  comed_levofloxacin                                                  240 (31%)                                                           25 (21%)                                                            6 (8.7%)                                                            23 (14%)                                                            21 (19%)                                                            34 (35%)                                                            131 (62%)                                                           \\<0.001\n",
       "\n",
       "  comed_teicoplanin                                                   38 (4.9%)                                                           0 (0%)                                                              0 (0%)                                                              7 (4.1%)                                                            2 (1.8%)                                                            0 (0%)                                                              29 (14%)                                                            \\<0.001\n",
       "\n",
       "  comed_pyrazinamid                                                   13 (1.7%)                                                           0 (0%)                                                              0 (0%)                                                              4 (2.4%)                                                            9 (8.1%)                                                            0 (0%)                                                              0 (0%)                                                              \\<0.001\n",
       "\n",
       "  comed_rifampin                                                      15 (1.9%)                                                           0 (0%)                                                              0 (0%)                                                              4 (2.4%)                                                            10 (9.0%)                                                           1 (1.0%)                                                            0 (0%)                                                              \\<0.001\n",
       "\n",
       "  comed_heparin                                                       215 (28%)                                                           12 (10%)                                                            2 (2.9%)                                                            72 (42%)                                                            28 (25%)                                                            33 (34%)                                                            68 (32%)                                                            \\<0.001\n",
       "\n",
       "  comed_clopidogrel                                                   40 (5.2%)                                                           7 (6.0%)                                                            4 (5.8%)                                                            1 (0.6%)                                                            0 (0%)                                                              8 (8.2%)                                                            20 (9.5%)                                                           \\<0.001\n",
       "\n",
       "  comed_enoxaparin                                                    358 (46%)                                                           32 (27%)                                                            12 (17%)                                                            118 (69%)                                                           52 (47%)                                                            39 (40%)                                                            105 (50%)                                                           \\<0.001\n",
       "\n",
       "  comed_valproic                                                      32 (4.1%)                                                           0 (0%)                                                              1 (1.4%)                                                            10 (5.9%)                                                           5 (4.5%)                                                            3 (3.1%)                                                            13 (6.2%)                                                           0.033\n",
       "\n",
       "  comed_aspirin                                                       42 (5.4%)                                                           8 (6.8%)                                                            8 (12%)                                                             3 (1.8%)                                                            0 (0%)                                                              5 (5.1%)                                                            18 (8.5%)                                                           \\<0.001\n",
       "\n",
       "  comed_aceclofenac                                                   0 (0%)                                                              0 (0%)                                                              0 (0%)                                                              0 (0%)                                                              0 (0%)                                                              0 (0%)                                                              0 (0%)                                                              \\\n",
       "\n",
       "  comed_diclofenac                                                    27 (3.5%)                                                           24 (21%)                                                            0 (0%)                                                              0 (0%)                                                              1 (0.9%)                                                            0 (0%)                                                              2 (0.9%)                                                            \\<0.001\n",
       "\n",
       "  comed_naproxen                                                      0 (0%)                                                              0 (0%)                                                              0 (0%)                                                              0 (0%)                                                              0 (0%)                                                              0 (0%)                                                              0 (0%)                                                              \\\n",
       "\n",
       "  comed_paracetamol                                                   351 (45%)                                                           63 (54%)                                                            0 (0%)                                                              84 (49%)                                                            70 (63%)                                                            47 (48%)                                                            87 (41%)                                                            \\<0.001\n",
       "\n",
       "  comed_penicillin                                                    168 (22%)                                                           0 (0%)                                                              5 (7.2%)                                                            32 (19%)                                                            15 (14%)                                                            17 (17%)                                                            99 (47%)                                                            \\<0.001\n",
       "\n",
       "  comed_cepha                                                         196 (25%)                                                           11 (9.4%)                                                           9 (13%)                                                             33 (19%)                                                            29 (26%)                                                            11 (11%)                                                            103 (49%)                                                           \\<0.001\n",
       "\n",
       "  comed_cotrimoxazol                                                  71 (9.1%)                                                           0 (0%)                                                              5 (7.2%)                                                            20 (12%)                                                            16 (14%)                                                            9 (9.2%)                                                            21 (10.0%)                                                          0.004\n",
       "\n",
       "  comed_daptomycin                                                    1 (0.1%)                                                            0 (0%)                                                              0 (0%)                                                              0 (0%)                                                              1 (0.9%)                                                            0 (0%)                                                              0 (0%)                                                              0.4\n",
       "\n",
       "  comed_ethambutol                                                    8 (1.0%)                                                            0 (0%)                                                              0 (0%)                                                              2 (1.2%)                                                            6 (5.4%)                                                            0 (0%)                                                              0 (0%)                                                              \\<0.001\n",
       "\n",
       "  comed_cetirizin                                                     6 (0.8%)                                                            0 (0%)                                                              0 (0%)                                                              0 (0%)                                                              0 (0%)                                                              0 (0%)                                                              6 (2.8%)                                                            0.021\n",
       "\n",
       "  comed_dexamethason                                                  109 (14%)                                                           0 (0%)                                                              0 (0%)                                                              74 (44%)                                                            25 (23%)                                                            2 (2.0%)                                                            8 (3.8%)                                                            \\<0.001\n",
       "\n",
       "  comed_amiodaron                                                     35 (4.5%)                                                           8 (6.8%)                                                            0 (0%)                                                              14 (8.2%)                                                           4 (3.6%)                                                            4 (4.1%)                                                            5 (2.4%)                                                            0.026\n",
       "\n",
       "  comed_furosemid                                                     422 (54%)                                                           68 (58%)                                                            14 (20%)                                                            78 (46%)                                                            47 (42%)                                                            70 (71%)                                                            145 (69%)                                                           \\<0.001\n",
       "\n",
       "  comed_simvas                                                        0 (0%)                                                              0 (0%)                                                              0 (0%)                                                              0 (0%)                                                              0 (0%)                                                              0 (0%)                                                              0 (0%)                                                              \\\n",
       "\n",
       "  comed_bisoprolol                                                    5 (0.6%)                                                            4 (3.4%)                                                            0 (0%)                                                              1 (0.6%)                                                            0 (0%)                                                              0 (0%)                                                              0 (0%)                                                              0.011\n",
       "\n",
       "  comed_diltiazem                                                     0 (0%)                                                              0 (0%)                                                              0 (0%)                                                              0 (0%)                                                              0 (0%)                                                              0 (0%)                                                              0 (0%)                                                              \\\n",
       "\n",
       "  comed_eptifibatid                                                   0 (0%)                                                              0 (0%)                                                              0 (0%)                                                              0 (0%)                                                              0 (0%)                                                              0 (0%)                                                              0 (0%)                                                              \\\n",
       "\n",
       "  comed_quinidin                                                      0 (0%)                                                              0 (0%)                                                              0 (0%)                                                              0 (0%)                                                              0 (0%)                                                              0 (0%)                                                              0 (0%)                                                              \\\n",
       "\n",
       "  comed_haloperidol                                                   51 (6.6%)                                                           3 (2.6%)                                                            4 (5.8%)                                                            21 (12%)                                                            4 (3.6%)                                                            5 (5.1%)                                                            14 (6.6%)                                                           0.017\n",
       "\n",
       "  comed_carbamazepin                                                  8 (1.0%)                                                            0 (0%)                                                              0 (0%)                                                              7 (4.1%)                                                            0 (0%)                                                              0 (0%)                                                              1 (0.5%)                                                            0.003\n",
       "\n",
       "  comed_phenytoin                                                     0 (0%)                                                              0 (0%)                                                              0 (0%)                                                              0 (0%)                                                              0 (0%)                                                              0 (0%)                                                              0 (0%)                                                              \\\n",
       "\n",
       "  comed_mirtazapin                                                    0 (0%)                                                              0 (0%)                                                              0 (0%)                                                              0 (0%)                                                              0 (0%)                                                              0 (0%)                                                              0 (0%)                                                              \\\n",
       "\n",
       "  comed_quetiapin                                                     4 (0.5%)                                                            1 (0.9%)                                                            1 (1.4%)                                                            0 (0%)                                                              0 (0%)                                                              0 (0%)                                                              2 (0.9%)                                                            0.5\n",
       "\n",
       "  comed_ondansetron                                                   5 (0.6%)                                                            2 (1.7%)                                                            0 (0%)                                                              0 (0%)                                                              3 (2.7%)                                                            0 (0%)                                                              0 (0%)                                                              0.021\n",
       "\n",
       "  comed_palonosetron                                                  0 (0%)                                                              0 (0%)                                                              0 (0%)                                                              0 (0%)                                                              0 (0%)                                                              0 (0%)                                                              0 (0%)                                                              \\\n",
       "\n",
       "  comed_oseltamivir                                                   2 (0.3%)                                                            1 (0.9%)                                                            1 (1.4%)                                                            0 (0%)                                                              0 (0%)                                                              0 (0%)                                                              0 (0%)                                                              0.14\n",
       "\n",
       "  comed_quinin                                                        0 (0%)                                                              0 (0%)                                                              0 (0%)                                                              0 (0%)                                                              0 (0%)                                                              0 (0%)                                                              0 (0%)                                                              \\\n",
       "\n",
       "  comed_pembrolizumab                                                 0 (0%)                                                              0 (0%)                                                              0 (0%)                                                              0 (0%)                                                              0 (0%)                                                              0 (0%)                                                              0 (0%)                                                              \\\n",
       "\n",
       "  comed_trastuzumab                                                   0 (0%)                                                              0 (0%)                                                              0 (0%)                                                              0 (0%)                                                              0 (0%)                                                              0 (0%)                                                              0 (0%)                                                              \\\n",
       "\n",
       "  comed_atezolizumab                                                  0 (0%)                                                              0 (0%)                                                              0 (0%)                                                              0 (0%)                                                              0 (0%)                                                              0 (0%)                                                              0 (0%)                                                              \\\n",
       "\n",
       "  comed_durvalumab                                                    0 (0%)                                                              0 (0%)                                                              0 (0%)                                                              0 (0%)                                                              0 (0%)                                                              0 (0%)                                                              0 (0%)                                                              \\\n",
       "\n",
       "  comed_IVIG                                                          0 (0%)                                                              0 (0%)                                                              0 (0%)                                                              0 (0%)                                                              0 (0%)                                                              0 (0%)                                                              0 (0%)                                                              \\\n",
       "\n",
       "  comed_tacrolimus                                                    1 (0.1%)                                                            1 (0.9%)                                                            0 (0%)                                                              0 (0%)                                                              0 (0%)                                                              0 (0%)                                                              0 (0%)                                                              0.5\n",
       "\n",
       "  comed_fluorouracil                                                  0 (0%)                                                              0 (0%)                                                              0 (0%)                                                              0 (0%)                                                              0 (0%)                                                              0 (0%)                                                              0 (0%)                                                              \\\n",
       "\n",
       "  comed_irinotecan                                                    0 (0%)                                                              0 (0%)                                                              0 (0%)                                                              0 (0%)                                                              0 (0%)                                                              0 (0%)                                                              0 (0%)                                                              \\\n",
       "\n",
       "  comed_leucovorin                                                    0 (0%)                                                              0 (0%)                                                              0 (0%)                                                              0 (0%)                                                              0 (0%)                                                              0 (0%)                                                              0 (0%)                                                              \\\n",
       "\n",
       "  comed_oxaliplatin                                                   0 (0%)                                                              0 (0%)                                                              0 (0%)                                                              0 (0%)                                                              0 (0%)                                                              0 (0%)                                                              0 (0%)                                                              \\\n",
       "\n",
       "  flag_ADR_TP_ID                                                      247 (32%)                                                           32 (27%)                                                            18 (26%)                                                            55 (32%)                                                            32 (29%)                                                            38 (39%)                                                            72 (34%)                                                            0.4\n",
       "\n",
       "  ADR_CTCAE_max                                                       \\                                                                   \\                                                                   \\                                                                   \\                                                                   \\                                                                   \\                                                                   \\                                                                   \\<0.001\n",
       "\n",
       "      1                                                               80 (32%)                                                            10 (31%)                                                            6 (33%)                                                             17 (31%)                                                            7 (22%)                                                             7 (18%)                                                             33 (46%)                                                            \\\n",
       "\n",
       "      2                                                               76 (31%)                                                            10 (31%)                                                            5 (28%)                                                             12 (22%)                                                            6 (19%)                                                             17 (45%)                                                            26 (36%)                                                            \\\n",
       "\n",
       "      3                                                               48 (19%)                                                            4 (13%)                                                             3 (17%)                                                             16 (29%)                                                            7 (22%)                                                             6 (16%)                                                             12 (17%)                                                            \\\n",
       "\n",
       "      4                                                               43 (17%)                                                            8 (25%)                                                             4 (22%)                                                             10 (18%)                                                            12 (38%)                                                            8 (21%)                                                             1 (1.4%)                                                            \\\n",
       "\n",
       "  ADR_onset_first                                                     4.0 (2.0 - 9.5)                                                     2.0 (1.0 - 9.3)                                                     2.5 (2.0 - 7.0)                                                     4.0 (2.0 - 8.5)                                                     6.0 (3.0 - 11.0)                                                    4.0 (2.0 - 9.0)                                                     6.0 (2.0 - 11.0)                                                    0.050\n",
       "\n",
       "  ADR_PLT_ratio                                                       0.37 (0.23 - 0.52)                                                  0.55 (0.27 - 0.62)                                                  0.39 (0.21 - 0.53)                                                  0.37 (0.25 - 0.50)                                                  0.32 (0.17 - 0.45)                                                  0.36 (0.20 - 0.48)                                                  0.35 (0.25 - 0.50)                                                  0.15\n",
       "\n",
       "  [^1^]{.gt_footnote_marks                                                                                                                                                                                                                                                                                                                                                                                                                                                                                                                                        \n",
       "  style=\"white-space:nowrap;font-style:italic;font-weight:normal;\"}                                                                                                                                                                                                                                                                                                                                                                                                                                                                                               \n",
       "  Median (IQR); n (%)                                                                                                                                                                                                                                                                                                                                                                                                                                                                                                                                             \n",
       "\n",
       "  [^2^]{.gt_footnote_marks                                                                                                                                                                                                                                                                                                                                                                                                                                                                                                                                        \n",
       "  style=\"white-space:nowrap;font-style:italic;font-weight:normal;\"}                                                                                                                                                                                                                                                                                                                                                                                                                                                                                               \n",
       "  Kruskal-Wallis rank sum test; Pearson's Chi-squared test; Fisher's                                                                                                                                                                                                                                                                                                                                                                                                                                                                                              \n",
       "  Exact Test for Count Data with simulated p-value (based on 2000                                                                                                                                                                                                                                                                                                                                                                                                                                                                                                 \n",
       "  replicates)                                                                                                                                                                                                                                                                                                                                                                                                                                                                                                                                                     \n",
       "  -----------------------------------------------------------------------------------------------------------------------------------------------------------------------------------------------------------------------------------------------------------------------------------------------------------------------------------------------------------------------------------------------------------------------------------------------------------------------------------------------------------------------------------------------------------------------------------------------------------------------------------\n"
      ]
     }
    }
   ],
   "source": [
    "table_descriptive_site <- data_patient_transformed |>\n",
    "  select(\n",
    "    all_of(predictor_transformed), starts_with(\"comed\"), flag_ADR_TP_ID, site, ADR_CTCAE_max, ADR_onset_first, ADR_PLT_ratio\n",
    "  ) |>\n",
    "  tbl_summary(\n",
    "    by = site,\n",
    "    statistic = list(all_continuous() ~ \"{median} ({p25} - {p75})\"),\n",
    "    missing = \"no\"\n",
    "  ) |>\n",
    "  add_overall() |>\n",
    "  bold_labels() |>\n",
    "  add_p(\n",
    "    test.args = all_tests(\"fisher.test\") ~ list(simulate.p.value = TRUE)\n",
    "  ) |>\n",
    "  bold_p()\n"
   ],
   "id": "bea035a6-c021-4e05-a2a1-479a5f17f037"
  }
 ],
 "nbformat": 4,
 "nbformat_minor": 5,
 "metadata": {}
}
