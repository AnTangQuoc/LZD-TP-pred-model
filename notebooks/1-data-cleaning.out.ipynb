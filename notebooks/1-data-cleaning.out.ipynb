{
 "cells": [
  {
   "cell_type": "markdown",
   "metadata": {},
   "source": [
    "# Data Cleaning\n",
    "\n",
    "## Inputs\n",
    "\n",
    "Import processed original data from the `data-original-processed` directory, which is available on Github. The import code is in the ‘process-data.R’ file in the ‘data-original-processed’ directory. The unprocessed data in Excel format is not available on GitHub as it contains non-anonymized patient data. Some cleaning steps were performed in Excel before importing the data into R."
   ],
   "id": "62a85d8c-e147-4486-88e2-fa0a94ce5208"
  },
  {
   "cell_type": "code",
   "execution_count": null,
   "metadata": {},
   "outputs": [
    {
     "output_type": "stream",
     "name": "stderr",
     "text": [
      "── Attaching core tidyverse packages ──────────────────────── tidyverse 2.0.0 ──\n",
      "✔ dplyr     1.1.4     ✔ readr     2.1.4\n",
      "✔ forcats   1.0.0     ✔ stringr   1.5.1\n",
      "✔ ggplot2   3.4.4     ✔ tibble    3.2.1\n",
      "✔ lubridate 1.9.3     ✔ tidyr     1.3.0\n",
      "✔ purrr     1.0.2     \n",
      "── Conflicts ────────────────────────────────────────── tidyverse_conflicts() ──\n",
      "✖ dplyr::filter() masks stats::filter()\n",
      "✖ dplyr::lag()    masks stats::lag()\n",
      "ℹ Use the conflicted package (<http://conflicted.r-lib.org/>) to force all conflicts to become errors"
     ]
    },
    {
     "output_type": "stream",
     "name": "stderr",
     "text": [
      "Rows: 1207 Columns: 93\n",
      "── Column specification ────────────────────────────────────────────────────────\n",
      "Delimiter: \",\"\n",
      "chr   (4): patient_ID, site, dept, LZD_route\n",
      "dbl   (9): patient_age, patient_weight, charlson, baseline_CLCR, baseline_WB...\n",
      "lgl  (77): patient_sex, dept_ICU, dept_ER, dept_other, invasive_ETI, invasiv...\n",
      "date  (3): baseline_date, LZD_start, LZD_end\n",
      "\n",
      "ℹ Use `spec()` to retrieve the full column specification for this data.\n",
      "ℹ Specify the column types or set `show_col_types = FALSE` to quiet this message."
     ]
    },
    {
     "output_type": "stream",
     "name": "stderr",
     "text": [
      "Rows: 7370 Columns: 11\n",
      "── Column specification ────────────────────────────────────────────────────────\n",
      "Delimiter: \",\"\n",
      "chr  (1): patient_ID\n",
      "dbl  (7): test_HGB, test_PLT, test_ADR_TP, test_CTCAE, test_onset, test_WBC,...\n",
      "date (3): LZD_start, LZD_end, test_date\n",
      "\n",
      "ℹ Use `spec()` to retrieve the full column specification for this data.\n",
      "ℹ Specify the column types or set `show_col_types = FALSE` to quiet this message."
     ]
    }
   ],
   "source": [
    "library(tidyverse)\n"
   ],
   "id": "49c86864-6dc8-41eb-89be-2a9a040a4b80"
  },
  {
   "cell_type": "markdown",
   "metadata": {},
   "source": [
    "## Cleaning\n",
    "\n",
    "This code cleans and filters the ‘inputs_general’ data. 1. Replaces ‘TrTM’ with ‘IV’ in the ‘LZD_route’ column. 2. Replaces any occurrence of ‘IV’ followed by ‘PO’ or ‘PO’ followed by ‘IV’ in the ‘LZD_route’ column with ‘IV&PO’. 3. Removes rows where ‘LZD_route’ is ‘0’. 4. Removes rows where ‘patient_age’ is less than 18. 5. Removes rows where ‘LZD_duration’ is less than 3. 6. Removes rows where ‘LZD_start’ or ‘LZD_end’ is not within the study period. 7. Removes rows where any variable that starts with “comed” is NA."
   ],
   "id": "af539172-6399-469a-a102-d0d1be7266af"
  },
  {
   "cell_type": "code",
   "execution_count": null,
   "metadata": {},
   "outputs": [],
   "source": [
    "inputs_cleaned <- inputs_general |>\n",
    "  mutate(\n",
    "    LZD_route = str_replace(LZD_route, \"TrTM\", \"IV\"),\n",
    "    LZD_route = str_replace(LZD_route, \"IV.*PO|PO.*IV\", \"IV&PO\")\n",
    "  ) |>\n",
    "  filter(!LZD_route == \"0\") |>\n",
    "  filter(patient_age >= 18) |>\n",
    "  filter(LZD_duration >= 3) |>\n",
    "  filter(complete.cases(across(starts_with(\"comed\")))) |>\n",
    "  filter(\n",
    "    site == \"ND1\" &\n",
    "      (between(LZD_start, as_date(\"2021-07-01\"), as_date(\"2021-12-31\")) |\n",
    "        between(LZD_end, as_date(\"2021-07-01\"), as_date(\"2021-12-31\"))) |\n",
    "      site == \"ND2\" &\n",
    "        (between(LZD_start, as_date(\"2022-04-01\"), as_date(\"2022-09-30\")) |\n",
    "          between(LZD_end, as_date(\"2022-04-01\"), as_date(\"2022-09-30\"))) |\n",
    "      site == \"BM1\" &\n",
    "        (between(LZD_start, as_date(\"2019-11-01\"), as_date(\"2019-12-31\")) |\n",
    "          between(LZD_end, as_date(\"2019-11-01\"), as_date(\"2019-12-31\"))) |\n",
    "      site == \"BM2\" &\n",
    "        (between(LZD_start, as_date(\"2022-12-01\"), as_date(\"2023-03-31\")) |\n",
    "          between(LZD_end, as_date(\"2022-12-01\"), as_date(\"2023-03-31\"))) |\n",
    "      site == \"TN1\" &\n",
    "        (between(LZD_start, as_date(\"2020-01-01\"), as_date(\"2020-06-30\")) |\n",
    "          between(LZD_end, as_date(\"2020-01-01\"), as_date(\"2020-06-30\"))) |\n",
    "      site == \"TN2\" &\n",
    "        (between(LZD_start, as_date(\"2022-09-01\"), as_date(\"2023-02-28\")) |\n",
    "          between(LZD_end, as_date(\"2022-09-01\"), as_date(\"2023-02-28\")))\n",
    "  )\n"
   ],
   "id": "d7a50947-8715-4b86-b644-16f0ce3041d0"
  },
  {
   "cell_type": "markdown",
   "metadata": {},
   "source": [
    "This code filters the ‘inputs_labs_general’ data frame. 1. Remove rows with LZD use duration less than 3 days."
   ],
   "id": "69f22ac5-7760-4337-840b-fc91d034cd83"
  },
  {
   "cell_type": "code",
   "execution_count": null,
   "metadata": {},
   "outputs": [],
   "source": [
    "inputs_labs_pipe_1 <- inputs_labs_general |>\n",
    "  filter(LZD_end - LZD_start >= 2)\n"
   ],
   "id": "d27e9ef6-d5e3-4719-8b01-9d2bd83780f6"
  },
  {
   "cell_type": "markdown",
   "metadata": {},
   "source": [
    "This code remove ‘patient_ID’ that has no valid ‘test_PLT’ either in 7 days prior to ‘LZD_start’ or during LZD use. 1. Two rows are added to each ‘patient_ID’ to ensure there is at least one row in both time periods of each patient that can be used for flagging. 2. ‘flag_post_start’ is used to separate two time periods for each ‘patient_ID’. The first period is 7 days prior to ‘LZD_start’ and the second period is during LZD use. 3. ‘flag_too_early’ and ‘flag_post_end’ are used to flag observations that are before 7 days prior to ‘LZD_start’ or after ‘LZD_end’, so ‘test_PLT’ in these periods will not be valid. 4. ‘flag_remove_check’ is used to check if all ‘test_PLT’ values are NAs in each time periods of each ‘patient_ID’. If any time period initially had no rows, the new row added in step 1 will be used. That group will have only one ‘test_PLT’ with the value NA and so the flag will be TRUE. The ‘test_PLT’ in ‘flag_too_early’ and ‘flag_post_end’ periods are not included in the check as they are not valid. 5. For each ‘patient_ID’, if any ‘flag_remove_check’ is TRUE, all rows of that ‘patient_ID’ will be removed. 6. Finally, rows with ‘flag_temp’ as TRUE are removed. These rows were added in step 1 and are no longer needed. The column itself is also removed."
   ],
   "id": "6c96f8a7-9f39-436c-a405-4599d5228e19"
  },
  {
   "cell_type": "code",
   "execution_count": null,
   "metadata": {},
   "outputs": [],
   "source": [
    "# Helper function to add new rows to each group in a data frame.\n",
    "# reframe() generate new rows where its arguments are variables in the data frame.\n",
    "# bind_rows() bind the new rows to the original data frame.\n",
    "# group_modify() apply the previous functions to each group in a data frame.\n",
    "add_reframe_rows <- function(.data, ...) {\n",
    "  group_modify(.data, function(x, y) {\n",
    "    bind_rows(x, reframe(x, ...))\n",
    "  })\n",
    "}\n",
    "\n",
    "inputs_labs_cleaned <- inputs_labs_pipe_1 |>\n",
    "  group_by(patient_ID) |>\n",
    "  arrange(test_date, .by_group = TRUE) |>\n",
    "  add_reframe_rows(test_date = min(test_date) - 100, LZD_start = min(LZD_start), flag_temp = TRUE) |>\n",
    "  add_reframe_rows(test_date = max(test_date) + 100, LZD_start = max(LZD_start), flag_temp = TRUE) |>\n",
    "  mutate(\n",
    "    flag_too_early = test_date <= LZD_start - 8,\n",
    "    flag_post_start = test_date >= LZD_start + 1,\n",
    "    flag_post_end = test_date >= LZD_end + 1\n",
    "  ) |>\n",
    "  group_by(patient_ID, flag_post_start) |>\n",
    "  mutate(flag_remove_check = all(is.na(test_PLT[which((!flag_too_early & !flag_post_end) | flag_temp)]))) |>\n",
    "  group_by(patient_ID) |>\n",
    "  filter(!any(flag_remove_check)) |>\n",
    "  filter(is.na(flag_temp)) |>\n",
    "  select(-flag_temp)\n"
   ],
   "id": "753326f8-8bd6-4afe-9615-e5e1e0626141"
  },
  {
   "cell_type": "markdown",
   "metadata": {},
   "source": [
    "inner_join() keeps only patients present in both data frames, essentially removing patients without lab tests or other comorbidity/medication data."
   ],
   "id": "8fa82d25-47a3-42cb-b320-6b941104c4a3"
  },
  {
   "cell_type": "code",
   "execution_count": null,
   "metadata": {},
   "outputs": [
    {
     "output_type": "stream",
     "name": "stderr",
     "text": [
      "Joining with `by = join_by(patient_ID, LZD_start, LZD_end)`"
     ]
    }
   ],
   "source": [
    "inputs_cleaned_joined <-\n",
    "  inner_join(inputs_cleaned, inputs_labs_cleaned)\n"
   ],
   "id": "0ac1fa71-a9d3-4591-9a94-eaa8091228ed"
  },
  {
   "cell_type": "markdown",
   "metadata": {},
   "source": [
    "## Mutating\n",
    "\n",
    "This code flags ‘patient_ID’ that had at least one thrombocytopenia event during LZD use. Thrombocytopenia is defined as follows: a. If baseline PLT is normal (150-450), then thrombocytopenia is defined as PLT \\< 112.5. b. If baseline PLT is low (\\< 150), then thrombocytopenia is defined as PLT \\<= 75% of baseline. Baseline date is defined as the latest ‘test_date’ before ‘LZD_start’ that has a non-NA ‘test_PLT.’ This ‘test_date’ must be within 7 days before ‘LZD_start’, which means ‘flag_too_early’ must be FALSE.\n",
    "\n",
    "The code performs the following operations: 1. Groups the data by ‘patient_ID’. 2. Flags all ‘test_date’ after the baseline date. Baseline is defined above. 3. Flags all ‘test_date’ that meet the thrombocytopenia definition. This is an ADR event. 4. Flags all ‘patient_ID’ that have at least one thrombocytopenia ADR event during LZD use.\n",
    "\n",
    "Notes: max(which()) finds the index of the last TRUE value in a logical vector. while which.max() finds the index of the first TRUE value in a logical vector."
   ],
   "id": "d9e98a84-471d-4ec1-bf2a-b0ba1dba698b"
  },
  {
   "cell_type": "code",
   "execution_count": null,
   "metadata": {},
   "outputs": [],
   "source": [
    "inputs_analyze_1 <- inputs_cleaned_joined |>\n",
    "  group_by(patient_ID) |>\n",
    "  mutate(\n",
    "    flag_too_late = test_date >= LZD_end + 6,\n",
    "    flag_post_baseline = test_date >= test_date[max(which(test_date <= LZD_start & !is.na(test_PLT) & !flag_too_early))],\n",
    "    test_ADR_TP = flag_post_baseline & !flag_too_late & (\n",
    "      (test_PLT[which.max(flag_post_baseline)] >= 150 & test_PLT <= 112.5) |\n",
    "        (test_PLT[which.max(flag_post_baseline)] < 150 & test_PLT <= 0.75 * test_PLT[which.max(flag_post_baseline)])\n",
    "    ),\n",
    "    flag_ADR_TP_ID = any(test_ADR_TP, na.rm = TRUE)\n",
    "  )\n"
   ],
   "id": "2b92331e-9111-4093-8da4-d4fe9bba059f"
  },
  {
   "cell_type": "markdown",
   "metadata": {},
   "source": [
    "This code adds a new column ‘test_CTCAE’ based on the Common Terminology Criteria for Adverse Events (CTCAE) for decreased platelet count. If ‘test_ADR_TP’ is TRUE, it assigns a value to ‘test_CTCAE’ based on the ‘test_PLT’ column. a. If ‘test_PLT’ is less than 25, ‘test_CTCAE’ is assigned a value of 4. b. If ‘test_PLT’ is between 25 and 50, ‘test_CTCAE’ is assigned a value of 3. c. If ‘test_PLT’ is between 50 and 75, ‘test_CTCAE’ is assigned a value of 2. d. If ‘test_PLT’ is between 75 and 150, ‘test_CTCAE’ is assigned a value of 1. If ‘test_ADR_TP’ is FALSE, ‘test_CTCAE’ is assigned NA. Finally, ‘test_CTCAE_max’ is assigned the maximum value of ‘test_CTCAE’ for each ‘patient_ID’."
   ],
   "id": "9edc8be5-682f-438b-9936-3f872931bf29"
  },
  {
   "cell_type": "code",
   "execution_count": null,
   "metadata": {},
   "outputs": [
    {
     "output_type": "stream",
     "name": "stderr",
     "text": [
      "Warning: There were 615 warnings in `mutate()`.\n",
      "The first warning was:\n",
      "ℹ In argument: `ADR_CTCAE_max = max(test_CTCAE, na.rm = TRUE)`.\n",
      "ℹ In group 1: `patient_ID = \"000847\"`.\n",
      "Caused by warning in `max()`:\n",
      "! no non-missing arguments to max; returning -Inf\n",
      "ℹ Run `dplyr::last_dplyr_warnings()` to see the 614 remaining warnings."
     ]
    }
   ],
   "source": [
    "inputs_analyze_2 <- inputs_analyze_1 |>\n",
    "  mutate(\n",
    "    test_CTCAE =\n",
    "      if_else(\n",
    "        test_ADR_TP,\n",
    "        case_when(\n",
    "          test_PLT < 25 ~ 4,\n",
    "          test_PLT < 50 ~ 3,\n",
    "          test_PLT < 75 ~ 2,\n",
    "          test_PLT < 150 ~ 1\n",
    "        ),\n",
    "        NA_real_\n",
    "      ),\n",
    "    ADR_CTCAE_max = max(test_CTCAE, na.rm = TRUE),\n",
    "    ADR_CTCAE_max = na_if(ADR_CTCAE_max, -Inf)\n",
    "  )\n"
   ],
   "id": "6fd95d53-b8ce-43b4-9701-27f83742e728"
  },
  {
   "cell_type": "markdown",
   "metadata": {},
   "source": [
    "This code adds a new column ‘test_onset’, which is the number of days from ‘LZD_start’ to the thrombocytopenia event. If ‘test_ADR_TP’ is TRUE, ‘test_onset’ is assigned the value of ‘test_date’ minus ‘LZD_start’. If ‘test_ADR_TP’ is FALSE, ‘test_onset’ is assigned NA. Finally, ‘test_onset_first’ is assigned the first non-NA value of ‘test_onset’ for each ‘patient_ID’."
   ],
   "id": "20dfc4ff-8bcc-4f55-a0d5-cc9569906073"
  },
  {
   "cell_type": "code",
   "execution_count": null,
   "metadata": {},
   "outputs": [],
   "source": [
    "inputs_analyze_3 <- inputs_analyze_2 |>\n",
    "  mutate(\n",
    "    ADR_onset =\n",
    "      if_else(\n",
    "        test_ADR_TP,\n",
    "        as.double(test_date - LZD_start),\n",
    "        NA_real_\n",
    "      ),\n",
    "    ADR_onset_first = first(na.omit(ADR_onset))\n",
    "  )\n"
   ],
   "id": "94d2063e-5c1b-44ea-aabf-a9ecca1fe41e"
  },
  {
   "cell_type": "markdown",
   "metadata": {},
   "source": [
    "This code adds a new column ‘test_PLT_ratio’, which is the ratio of the minimum ‘test_PLT’ to the baseline ‘test_PLT’. If ‘flag_ADR_TP_ID’ is TRUE, ‘test_PLT_ratio’ is assigned the value of the ratio. If ‘flag_ADR_TP_ID’ is FALSE, ‘test_PLT_ratio’ is assigned NA."
   ],
   "id": "2a167498-daa3-4bfd-9be6-e2f70317eb3f"
  },
  {
   "cell_type": "code",
   "execution_count": null,
   "metadata": {},
   "outputs": [],
   "source": [
    "inputs_analyze_4 <- inputs_analyze_3 |>\n",
    "  mutate(\n",
    "    ADR_PLT_ratio =\n",
    "      if_else(\n",
    "        flag_ADR_TP_ID,\n",
    "        test_PLT[which.min(test_PLT)] / test_PLT[which.max(flag_post_baseline)],\n",
    "        NA_real_\n",
    "      )\n",
    "  )\n"
   ],
   "id": "97808399-da8c-4b76-86f7-829d2f8e22e1"
  },
  {
   "cell_type": "markdown",
   "metadata": {},
   "source": [
    "Changes existing data to get values from data_lab_test instead of relying on data_patient"
   ],
   "id": "8f92bded-57ac-4f97-aae1-1fdaffb6bd7c"
  },
  {
   "cell_type": "code",
   "execution_count": null,
   "metadata": {},
   "outputs": [],
   "source": [
    "inputs_analyze_5 <- inputs_analyze_4 |>\n",
    "  mutate(\n",
    "    LZD_duration = as.numeric(LZD_end - LZD_start) + 1,\n",
    "    baseline_date = test_date[which.max(flag_post_baseline)],\n",
    "    baseline_PLT = test_PLT[which.max(flag_post_baseline)],\n",
    "    baseline_HGB = test_HGB[which.max(flag_post_baseline)],\n",
    "    baseline_WBC = test_WBC[which.max(flag_post_baseline)],\n",
    "    ADR_PLT_min = min(test_PLT[which.max(flag_post_baseline) + 1:max(which(flag_post_baseline))], na.rm = TRUE),\n",
    "  )\n"
   ],
   "id": "f7435b22-f240-44fa-9923-275cfdaf4d36"
  },
  {
   "cell_type": "markdown",
   "metadata": {},
   "source": [
    "## Outputs\n",
    "\n",
    "This code prepares the final data for analysis and exports it to the ‘data-cleaned’ directory. 1. The ‘data_patient_complete’ data frame contains only the first complete row of each ‘patient_ID’ in ‘data_complete’. - Patients with any missing initial data are removed. - Patients with baseline PLT \\> 450 are removed. - The ‘data_patient_complete’ data frame is used for patient-level analysis. 2. The ‘data_complete’ data frame contains all the cleaned and filtered data. - The ‘data_complete’ data frame is used for event-level analysis."
   ],
   "id": "142be9f0-91ae-4ae2-9c7b-d2e154480998"
  },
  {
   "cell_type": "code",
   "execution_count": null,
   "metadata": {},
   "outputs": [],
   "source": [
    "data_patient_complete <- inputs_analyze_5 |>\n",
    "  slice_head(n = 1) |>\n",
    "  select(-starts_with(\"test\")) |>\n",
    "  filter(complete.cases(across(-starts_with(\"ADR\")))) |>\n",
    "  filter(baseline_PLT <= 450)\n",
    "\n",
    "data_complete <- inputs_analyze_5 |>\n",
    "  filter(patient_ID %in% data_patient_complete$patient_ID)\n",
    "\n",
    "write_csv(data_complete, \"data/data-cleaned/data-complete.csv\")\n",
    "write_csv(data_patient_complete, \"data/data-cleaned/data-patient-complete.csv\")\n"
   ],
   "id": "1a4c14ed-df4a-458f-aebe-0d08188732c6"
  }
 ],
 "nbformat": 4,
 "nbformat_minor": 5,
 "metadata": {}
}
