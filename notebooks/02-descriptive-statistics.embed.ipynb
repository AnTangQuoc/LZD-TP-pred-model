{
 "cells": [
  {
   "cell_type": "markdown",
   "metadata": {},
   "source": [
    "# Descriptive Statistics\n",
    "\n",
    "Initialize data to analyze."
   ],
   "id": "3ccac39e-8b64-41ee-b05b-f8ac49cedef0"
  },
  {
   "cell_type": "code",
   "execution_count": null,
   "metadata": {},
   "outputs": [
    {
     "output_type": "stream",
     "name": "stderr",
     "text": [
      "── Attaching core tidyverse packages ──────────────────────── tidyverse 2.0.0 ──\n",
      "✔ dplyr     1.1.4     ✔ readr     2.1.5\n",
      "✔ forcats   1.0.0     ✔ stringr   1.5.1\n",
      "✔ ggplot2   3.5.0     ✔ tibble    3.2.1\n",
      "✔ lubridate 1.9.3     ✔ tidyr     1.3.1\n",
      "✔ purrr     1.0.2     \n",
      "── Conflicts ────────────────────────────────────────── tidyverse_conflicts() ──\n",
      "✖ dplyr::filter() masks stats::filter()\n",
      "✖ dplyr::lag()    masks stats::lag()\n",
      "ℹ Use the conflicted package (<http://conflicted.r-lib.org/>) to force all conflicts to become errors"
     ]
    }
   ],
   "source": [
    "source(\"notebooks/initialize-data-analysis.r\")"
   ],
   "id": "0c7d65e2-6aa5-49cd-a379-0f6c79539fd1"
  },
  {
   "cell_type": "markdown",
   "metadata": {},
   "source": [
    "Summary statistics, by thrombocytopenia status."
   ],
   "id": "11540a0d-4d33-4d86-84c2-9d14c505763e"
  },
  {
   "cell_type": "code",
   "execution_count": null,
   "metadata": {},
   "outputs": [
    {
     "output_type": "stream",
     "name": "stderr",
     "text": [
      "#StandWithUkraine"
     ]
    }
   ],
   "source": [
    "library(gtsummary)"
   ],
   "id": "5710df15-1177-46a3-8407-ca08c597792c"
  },
  {
   "cell_type": "markdown",
   "metadata": {},
   "source": [
    "Univariate logistic regression, by thrombocytopenia status."
   ],
   "id": "3bb991a7-cbe5-4748-9344-663dac4c348c"
  },
  {
   "cell_type": "code",
   "execution_count": null,
   "metadata": {},
   "outputs": [
    {
     "output_type": "stream",
     "name": "stderr",
     "text": [
      "── Attaching packages ────────────────────────────────────── tidymodels 1.1.1 ──"
     ]
    },
    {
     "output_type": "stream",
     "name": "stderr",
     "text": [
      "✔ broom        1.0.5      ✔ rsample      1.2.0 \n",
      "✔ dials        1.2.1      ✔ tune         1.2.0 \n",
      "✔ infer        1.0.6      ✔ workflows    1.1.4 \n",
      "✔ modeldata    1.3.0      ✔ workflowsets 1.1.0 \n",
      "✔ parsnip      1.2.0      ✔ yardstick    1.3.0 \n",
      "✔ recipes      1.0.10     "
     ]
    },
    {
     "output_type": "stream",
     "name": "stderr",
     "text": [
      "── Conflicts ───────────────────────────────────────── tidymodels_conflicts() ──\n",
      "✖ recipes::all_double()  masks gtsummary::all_double()\n",
      "✖ recipes::all_factor()  masks gtsummary::all_factor()\n",
      "✖ recipes::all_integer() masks gtsummary::all_integer()\n",
      "✖ recipes::all_logical() masks gtsummary::all_logical()\n",
      "✖ recipes::all_numeric() masks gtsummary::all_numeric()\n",
      "✖ scales::discard()      masks purrr::discard()\n",
      "✖ dplyr::filter()        masks stats::filter()\n",
      "✖ recipes::fixed()       masks stringr::fixed()\n",
      "✖ dplyr::lag()           masks stats::lag()\n",
      "✖ yardstick::spec()      masks readr::spec()\n",
      "✖ recipes::step()        masks stats::step()\n",
      "• Use tidymodels_prefer() to resolve common conflicts."
     ]
    },
    {
     "output_type": "stream",
     "name": "stderr",
     "text": [
      "Loading required package: future"
     ]
    },
    {
     "output_type": "stream",
     "name": "stderr",
     "text": [
      "Extracting {parsnip} model fit with `tbl_regression(x = x$fit, ...)`"
     ]
    },
    {
     "output_type": "stream",
     "name": "stderr",
     "text": [
      "Extracting {parsnip} model fit with `tbl_regression(x = x$fit, ...)`\n",
      "Extracting {parsnip} model fit with `tbl_regression(x = x$fit, ...)`\n",
      "Extracting {parsnip} model fit with `tbl_regression(x = x$fit, ...)`\n",
      "Extracting {parsnip} model fit with `tbl_regression(x = x$fit, ...)`\n",
      "Extracting {parsnip} model fit with `tbl_regression(x = x$fit, ...)`\n",
      "Extracting {parsnip} model fit with `tbl_regression(x = x$fit, ...)`\n",
      "Extracting {parsnip} model fit with `tbl_regression(x = x$fit, ...)`\n",
      "Extracting {parsnip} model fit with `tbl_regression(x = x$fit, ...)`\n",
      "Extracting {parsnip} model fit with `tbl_regression(x = x$fit, ...)`\n",
      "Extracting {parsnip} model fit with `tbl_regression(x = x$fit, ...)`\n",
      "Extracting {parsnip} model fit with `tbl_regression(x = x$fit, ...)`\n",
      "Extracting {parsnip} model fit with `tbl_regression(x = x$fit, ...)`\n",
      "Extracting {parsnip} model fit with `tbl_regression(x = x$fit, ...)`\n",
      "Extracting {parsnip} model fit with `tbl_regression(x = x$fit, ...)`\n",
      "Extracting {parsnip} model fit with `tbl_regression(x = x$fit, ...)`\n",
      "Extracting {parsnip} model fit with `tbl_regression(x = x$fit, ...)`\n",
      "Extracting {parsnip} model fit with `tbl_regression(x = x$fit, ...)`\n",
      "Extracting {parsnip} model fit with `tbl_regression(x = x$fit, ...)`"
     ]
    },
    {
     "output_type": "stream",
     "name": "stderr",
     "text": [
      "Extracting {parsnip} model fit with `tbl_regression(x = x$fit, ...)`\n",
      "Extracting {parsnip} model fit with `tbl_regression(x = x$fit, ...)`\n",
      "Extracting {parsnip} model fit with `tbl_regression(x = x$fit, ...)`\n",
      "Extracting {parsnip} model fit with `tbl_regression(x = x$fit, ...)`\n",
      "Extracting {parsnip} model fit with `tbl_regression(x = x$fit, ...)`\n",
      "Extracting {parsnip} model fit with `tbl_regression(x = x$fit, ...)`\n",
      "Extracting {parsnip} model fit with `tbl_regression(x = x$fit, ...)`\n",
      "Extracting {parsnip} model fit with `tbl_regression(x = x$fit, ...)`\n",
      "Extracting {parsnip} model fit with `tbl_regression(x = x$fit, ...)`\n",
      "Extracting {parsnip} model fit with `tbl_regression(x = x$fit, ...)`\n",
      "Extracting {parsnip} model fit with `tbl_regression(x = x$fit, ...)`\n",
      "Extracting {parsnip} model fit with `tbl_regression(x = x$fit, ...)`\n",
      "Extracting {parsnip} model fit with `tbl_regression(x = x$fit, ...)`\n",
      "Extracting {parsnip} model fit with `tbl_regression(x = x$fit, ...)`\n",
      "Extracting {parsnip} model fit with `tbl_regression(x = x$fit, ...)`\n",
      "Extracting {parsnip} model fit with `tbl_regression(x = x$fit, ...)`\n",
      "Extracting {parsnip} model fit with `tbl_regression(x = x$fit, ...)`\n",
      "Extracting {parsnip} model fit with `tbl_regression(x = x$fit, ...)`\n",
      "Extracting {parsnip} model fit with `tbl_regression(x = x$fit, ...)`"
     ]
    },
    {
     "output_type": "stream",
     "name": "stderr",
     "text": [
      "Extracting {parsnip} model fit with `tbl_regression(x = x$fit, ...)`\n",
      "Extracting {parsnip} model fit with `tbl_regression(x = x$fit, ...)`\n",
      "Extracting {parsnip} model fit with `tbl_regression(x = x$fit, ...)`\n",
      "Extracting {parsnip} model fit with `tbl_regression(x = x$fit, ...)`\n",
      "Extracting {parsnip} model fit with `tbl_regression(x = x$fit, ...)`\n",
      "Extracting {parsnip} model fit with `tbl_regression(x = x$fit, ...)`\n",
      "Extracting {parsnip} model fit with `tbl_regression(x = x$fit, ...)`\n",
      "Extracting {parsnip} model fit with `tbl_regression(x = x$fit, ...)`\n",
      "Extracting {parsnip} model fit with `tbl_regression(x = x$fit, ...)`\n",
      "Extracting {parsnip} model fit with `tbl_regression(x = x$fit, ...)`\n",
      "Extracting {parsnip} model fit with `tbl_regression(x = x$fit, ...)`\n",
      "Extracting {parsnip} model fit with `tbl_regression(x = x$fit, ...)`\n",
      "Extracting {parsnip} model fit with `tbl_regression(x = x$fit, ...)`\n",
      "Extracting {parsnip} model fit with `tbl_regression(x = x$fit, ...)`\n",
      "Extracting {parsnip} model fit with `tbl_regression(x = x$fit, ...)`\n",
      "Extracting {parsnip} model fit with `tbl_regression(x = x$fit, ...)`\n",
      "Extracting {parsnip} model fit with `tbl_regression(x = x$fit, ...)`\n",
      "Extracting {parsnip} model fit with `tbl_regression(x = x$fit, ...)`\n",
      "Extracting {parsnip} model fit with `tbl_regression(x = x$fit, ...)`"
     ]
    }
   ],
   "source": [
    "library(tidymodels)"
   ],
   "id": "6c8f8555-59d3-4aad-8195-9e78aeac001f"
  },
  {
   "cell_type": "markdown",
   "metadata": {},
   "source": [
    "Print and save results."
   ],
   "id": "c43af040-e6a0-4197-b329-26c367ef38eb"
  },
  {
   "cell_type": "code",
   "execution_count": null,
   "metadata": {},
   "outputs": [
    {
     "output_type": "display_data",
     "metadata": {},
     "data": {
      "text/html": [
       "\n",
       "</div>"
      ],
      "text/markdown": [
       "  -------------------------------------------------------------------------------------------------------------------------------------------------------------------------------------------------------------------------------------------------------------------------------------------------------------------------------------------------------------------------------------------------------------------------------------\n",
       "  **Characteristic**                                                  [**Thrombocytopenia Status**]{.gt_column_spanner}                                                                                                                                                           [**Univariate Regression**]{.gt_column_spanner}                                                                                         \n",
       "  ------------------------------------------------------------------- ------------------------------------------------------------------- ------------------------------------------------------------------- ------------------------------------------------------------------- ------------------------------------------------------------------- ------------------------------------------------------------------- -------------\n",
       "                                                                      **Overall**, N = 816[^1^]{.gt_footnote_marks                        **FALSE**, N = 552[^1^]{.gt_footnote_marks                          **TRUE**, N = 264[^1^]{.gt_footnote_marks                           **OR**[^2^]{.gt_footnote_marks                                      **95% CI**[^2^]{.gt_footnote_marks                                  **p-value**\n",
       "                                                                      style=\"white-space:nowrap;font-style:italic;font-weight:normal;\"}   style=\"white-space:nowrap;font-style:italic;font-weight:normal;\"}   style=\"white-space:nowrap;font-style:italic;font-weight:normal;\"}   style=\"white-space:nowrap;font-style:italic;font-weight:normal;\"}   style=\"white-space:nowrap;font-style:italic;font-weight:normal;\"}   \n",
       "\n",
       "  patient_age                                                         62 (50 - 73)                                                        61 (47 - 72)                                                        64 (54 - 74)                                                        1.02                                                                1.01, 1.03                                                          \\<0.001\n",
       "\n",
       "  patient_sex                                                         306 (38%)                                                           206 (37%)                                                           100 (38%)                                                           1.02                                                                0.76, 1.38                                                          0.9\n",
       "\n",
       "  patient_weight                                                      55 (50 - 60)                                                        55 (50 - 60)                                                        55 (48 - 62)                                                        1.00                                                                0.99, 1.02                                                          0.7\n",
       "\n",
       "  baseline_CLCR                                                       48 (21 - 84)                                                        55 (26 - 88)                                                        32 (15 - 64)                                                        0.99                                                                0.99, 0.99                                                          \\<0.001\n",
       "\n",
       "  dept_ER                                                             140 (17%)                                                           95 (17%)                                                            45 (17%)                                                            0.99                                                                0.67, 1.45                                                          \\>0.9\n",
       "\n",
       "  dept_ICU                                                            390 (48%)                                                           240 (43%)                                                           150 (57%)                                                           1.71                                                                1.27, 2.30                                                          \\<0.001\n",
       "\n",
       "  baseline_HGB                                                        102 (89 - 120)                                                      105 (91 - 121)                                                      98 (85 - 117)                                                       0.99                                                                0.98, 0.99                                                          \\<0.001\n",
       "\n",
       "  baseline_WBC                                                        12 (8 - 17)                                                         12 (8 - 17)                                                         12 (8 - 18)                                                         1.01                                                                0.99, 1.03                                                          0.2\n",
       "\n",
       "  baseline_PLT                                                        206 (143 - 288)                                                     234 (167 - 309)                                                     154 (103 - 211)                                                     0.99                                                                0.99, 0.99                                                          \\<0.001\n",
       "\n",
       "  LZD_duration                                                        9.0 (6.0 - 14.0)                                                    9.0 (6.0 - 13.0)                                                    10.0 (6.0 - 14.0)                                                   1.03                                                                1.01, 1.06                                                          0.017\n",
       "\n",
       "  LZD_route                                                           \\                                                                   \\                                                                   \\                                                                   \\                                                                   \\                                                                   \\\n",
       "\n",
       "      IV                                                              792 (97%)                                                           533 (97%)                                                           259 (98%)                                                           ---                                                                 ---                                                                 \\\n",
       "\n",
       "      IV&PO                                                           9 (1.1%)                                                            7 (1.3%)                                                            2 (0.8%)                                                            0.59                                                                0.09, 2.45                                                          0.5\n",
       "\n",
       "      PO                                                              15 (1.8%)                                                           12 (2.2%)                                                           3 (1.1%)                                                            0.51                                                                0.12, 1.64                                                          0.3\n",
       "\n",
       "  invasive_ETI                                                        386 (47%)                                                           230 (42%)                                                           156 (59%)                                                           2.02                                                                1.50, 2.73                                                          \\<0.001\n",
       "\n",
       "  invasive_CVC                                                        423 (52%)                                                           246 (45%)                                                           177 (67%)                                                           2.53                                                                1.87, 3.45                                                          \\<0.001\n",
       "\n",
       "  invasive_IHD                                                        111 (14%)                                                           64 (12%)                                                            47 (18%)                                                            1.65                                                                1.09, 2.48                                                          0.016\n",
       "\n",
       "  invasive_CRRT                                                       147 (18%)                                                           64 (12%)                                                            83 (31%)                                                            3.50                                                                2.42, 5.07                                                          \\<0.001\n",
       "\n",
       "  comorb_HTN                                                          333 (41%)                                                           218 (39%)                                                           115 (44%)                                                           1.18                                                                0.88, 1.59                                                          0.3\n",
       "\n",
       "  comorb_DM                                                           222 (27%)                                                           150 (27%)                                                           72 (27%)                                                            1.01                                                                0.72, 1.39                                                          \\>0.9\n",
       "\n",
       "  comorb_HF                                                           225 (28%)                                                           131 (24%)                                                           94 (36%)                                                            1.78                                                                1.29, 2.44                                                          \\<0.001\n",
       "\n",
       "  comorb_angina                                                       32 (3.9%)                                                           19 (3.4%)                                                           13 (4.9%)                                                           1.45                                                                0.69, 2.96                                                          0.3\n",
       "\n",
       "  comorb_cirr                                                         48 (5.9%)                                                           20 (3.6%)                                                           28 (11%)                                                            3.16                                                                1.75, 5.79                                                          \\<0.001\n",
       "\n",
       "  comorb_COPD                                                         39 (4.8%)                                                           25 (4.5%)                                                           14 (5.3%)                                                           1.18                                                                0.59, 2.28                                                          0.6\n",
       "\n",
       "  comorb_CVA                                                          93 (11%)                                                            64 (12%)                                                            29 (11%)                                                            0.94                                                                0.58, 1.49                                                          0.8\n",
       "\n",
       "  comorb_MI                                                           20 (2.5%)                                                           15 (2.7%)                                                           5 (1.9%)                                                            0.69                                                                0.22, 1.81                                                          0.5\n",
       "\n",
       "  comorb_K                                                            67 (8.2%)                                                           44 (8.0%)                                                           23 (8.7%)                                                           1.10                                                                0.64, 1.85                                                          0.7\n",
       "\n",
       "  comorb_hematological                                                46 (5.6%)                                                           27 (4.9%)                                                           19 (7.2%)                                                           1.51                                                                0.81, 2.75                                                          0.2\n",
       "\n",
       "  comorb_hema                                                         61 (7.5%)                                                           37 (6.7%)                                                           24 (9.1%)                                                           1.39                                                                0.81, 2.36                                                          0.2\n",
       "\n",
       "  infect_sepsis                                                       134 (16%)                                                           66 (12%)                                                            68 (26%)                                                            2.55                                                                1.75, 3.73                                                          \\<0.001\n",
       "\n",
       "  infect_CAP                                                          118 (14%)                                                           70 (13%)                                                            48 (18%)                                                            1.53                                                                1.02, 2.28                                                          0.038\n",
       "\n",
       "  infect_HAP                                                          375 (46%)                                                           255 (46%)                                                           120 (45%)                                                           0.97                                                                0.72, 1.30                                                          0.8\n",
       "\n",
       "  infect_SSTI                                                         133 (16%)                                                           100 (18%)                                                           33 (13%)                                                            0.65                                                                0.42, 0.98                                                          0.043\n",
       "\n",
       "  infect_CNS                                                          68 (8.3%)                                                           46 (8.3%)                                                           22 (8.3%)                                                           1.00                                                                0.58, 1.68                                                          \\>0.9\n",
       "\n",
       "  infect_IAI                                                          50 (6.1%)                                                           34 (6.2%)                                                           16 (6.1%)                                                           0.98                                                                0.52, 1.79                                                          \\>0.9\n",
       "\n",
       "  infect_UTI                                                          53 (6.5%)                                                           37 (6.7%)                                                           16 (6.1%)                                                           0.90                                                                0.48, 1.62                                                          0.7\n",
       "\n",
       "  infect_BJI                                                          11 (1.3%)                                                           10 (1.8%)                                                           1 (0.4%)                                                            0.21                                                                0.01, 1.08                                                          0.13\n",
       "\n",
       "  infect_septicemia                                                   237 (29%)                                                           148 (27%)                                                           89 (34%)                                                            1.39                                                                1.01, 1.90                                                          0.043\n",
       "\n",
       "  comed_aspirin                                                       47 (5.8%)                                                           30 (5.4%)                                                           17 (6.4%)                                                           1.20                                                                0.64, 2.19                                                          0.6\n",
       "\n",
       "  comed_diclofenac                                                    27 (3.3%)                                                           20 (3.6%)                                                           7 (2.7%)                                                            0.72                                                                0.28, 1.66                                                          0.5\n",
       "\n",
       "  comed_ibuprofen                                                     26 (3.2%)                                                           15 (2.7%)                                                           11 (4.2%)                                                           1.56                                                                0.69, 3.42                                                          0.3\n",
       "\n",
       "  comed_paracetamol                                                   357 (44%)                                                           246 (45%)                                                           111 (42%)                                                           0.90                                                                0.67, 1.21                                                          0.5\n",
       "\n",
       "  comed_penicillin                                                    123 (15%)                                                           78 (14%)                                                            45 (17%)                                                            1.25                                                                0.83, 1.86                                                          0.3\n",
       "\n",
       "  comed_cepha                                                         208 (25%)                                                           150 (27%)                                                           58 (22%)                                                            0.75                                                                0.53, 1.06                                                          0.11\n",
       "\n",
       "  comed_carbapenem                                                    588 (72%)                                                           385 (70%)                                                           203 (77%)                                                           1.44                                                                1.03, 2.04                                                          0.034\n",
       "\n",
       "  comed_cotrimoxazol                                                  67 (8.2%)                                                           39 (7.1%)                                                           28 (11%)                                                            1.56                                                                0.93, 2.59                                                          0.087\n",
       "\n",
       "  comed_vancomycin                                                    67 (8.2%)                                                           41 (7.4%)                                                           26 (9.8%)                                                           1.36                                                                0.81, 2.27                                                          0.2\n",
       "\n",
       "  comed_levofloxacin                                                  250 (31%)                                                           162 (29%)                                                           88 (33%)                                                            1.20                                                                0.88, 1.65                                                          0.2\n",
       "\n",
       "  comed_teicoplanin                                                   37 (4.5%)                                                           23 (4.2%)                                                           14 (5.3%)                                                           1.29                                                                0.64, 2.52                                                          0.5\n",
       "\n",
       "  comed_ethambutol                                                    8 (1.0%)                                                            5 (0.9%)                                                            3 (1.1%)                                                            1.26                                                                0.26, 5.16                                                          0.8\n",
       "\n",
       "  comed_pyrazinamid                                                   12 (1.5%)                                                           6 (1.1%)                                                            6 (2.3%)                                                            2.12                                                                0.66, 6.83                                                          0.2\n",
       "\n",
       "  comed_rifampin                                                      15 (1.8%)                                                           8 (1.4%)                                                            7 (2.7%)                                                            1.85                                                                0.64, 5.21                                                          0.2\n",
       "\n",
       "  comed_heparin                                                       207 (25%)                                                           109 (20%)                                                           98 (37%)                                                            2.40                                                                1.73, 3.33                                                          \\<0.001\n",
       "\n",
       "  comed_clopidogrel                                                   40 (4.9%)                                                           30 (5.4%)                                                           10 (3.8%)                                                           0.69                                                                0.31, 1.38                                                          0.3\n",
       "\n",
       "  comed_enoxaparin                                                    352 (43%)                                                           235 (43%)                                                           117 (44%)                                                           1.07                                                                0.80, 1.44                                                          0.6\n",
       "\n",
       "  comed_dexamethason                                                  106 (13%)                                                           72 (13%)                                                            34 (13%)                                                            0.99                                                                0.63, 1.51                                                          \\>0.9\n",
       "\n",
       "  comed_amiodaron                                                     36 (4.4%)                                                           17 (3.1%)                                                           19 (7.2%)                                                           2.44                                                                1.24, 4.82                                                          0.009\n",
       "\n",
       "  comed_furosemid                                                     436 (53%)                                                           260 (47%)                                                           176 (67%)                                                           2.25                                                                1.66, 3.06                                                          \\<0.001\n",
       "\n",
       "  comed_haloperidol                                                   53 (6.5%)                                                           36 (6.5%)                                                           17 (6.4%)                                                           0.99                                                                0.53, 1.76                                                          \\>0.9\n",
       "\n",
       "  comed_valproic                                                      32 (3.9%)                                                           23 (4.2%)                                                           9 (3.4%)                                                            0.81                                                                0.35, 1.72                                                          0.6\n",
       "\n",
       "  comed_aceclofenac                                                   0 (0%)                                                              0 (0%)                                                              0 (0%)                                                              \\                                                                   \\                                                                   \\\n",
       "\n",
       "  comed_naproxen                                                      0 (0%)                                                              0 (0%)                                                              0 (0%)                                                              \\                                                                   \\                                                                   \\\n",
       "\n",
       "  comed_daptomycin                                                    1 (0.1%)                                                            0 (0%)                                                              1 (0.4%)                                                            \\                                                                   \\                                                                   \\\n",
       "\n",
       "  comed_cetirizin                                                     6 (0.7%)                                                            5 (0.9%)                                                            1 (0.4%)                                                            \\                                                                   \\                                                                   \\\n",
       "\n",
       "  comed_simvas                                                        0 (0%)                                                              0 (0%)                                                              0 (0%)                                                              \\                                                                   \\                                                                   \\\n",
       "\n",
       "  comed_bisoprolol                                                    6 (0.7%)                                                            4 (0.7%)                                                            2 (0.8%)                                                            \\                                                                   \\                                                                   \\\n",
       "\n",
       "  comed_diltiazem                                                     0 (0%)                                                              0 (0%)                                                              0 (0%)                                                              \\                                                                   \\                                                                   \\\n",
       "\n",
       "  comed_eptifibatid                                                   0 (0%)                                                              0 (0%)                                                              0 (0%)                                                              \\                                                                   \\                                                                   \\\n",
       "\n",
       "  comed_quinidin                                                      0 (0%)                                                              0 (0%)                                                              0 (0%)                                                              \\                                                                   \\                                                                   \\\n",
       "\n",
       "  comed_carbamazepin                                                  8 (1.0%)                                                            8 (1.4%)                                                            0 (0%)                                                              \\                                                                   \\                                                                   \\\n",
       "\n",
       "  comed_phenytoin                                                     0 (0%)                                                              0 (0%)                                                              0 (0%)                                                              \\                                                                   \\                                                                   \\\n",
       "\n",
       "  comed_mirtazapin                                                    0 (0%)                                                              0 (0%)                                                              0 (0%)                                                              \\                                                                   \\                                                                   \\\n",
       "\n",
       "  comed_quetiapin                                                     4 (0.5%)                                                            4 (0.7%)                                                            0 (0%)                                                              \\                                                                   \\                                                                   \\\n",
       "\n",
       "  comed_ondansetron                                                   6 (0.7%)                                                            4 (0.7%)                                                            2 (0.8%)                                                            \\                                                                   \\                                                                   \\\n",
       "\n",
       "  comed_palonosetron                                                  0 (0%)                                                              0 (0%)                                                              0 (0%)                                                              \\                                                                   \\                                                                   \\\n",
       "\n",
       "  comed_oseltamivir                                                   2 (0.2%)                                                            1 (0.2%)                                                            1 (0.4%)                                                            \\                                                                   \\                                                                   \\\n",
       "\n",
       "  comed_quinin                                                        0 (0%)                                                              0 (0%)                                                              0 (0%)                                                              \\                                                                   \\                                                                   \\\n",
       "\n",
       "  comed_pembrolizumab                                                 0 (0%)                                                              0 (0%)                                                              0 (0%)                                                              \\                                                                   \\                                                                   \\\n",
       "\n",
       "  comed_trastuzumab                                                   0 (0%)                                                              0 (0%)                                                              0 (0%)                                                              \\                                                                   \\                                                                   \\\n",
       "\n",
       "  comed_atezolizumab                                                  0 (0%)                                                              0 (0%)                                                              0 (0%)                                                              \\                                                                   \\                                                                   \\\n",
       "\n",
       "  comed_durvalumab                                                    0 (0%)                                                              0 (0%)                                                              0 (0%)                                                              \\                                                                   \\                                                                   \\\n",
       "\n",
       "  comed_IVIG                                                          0 (0%)                                                              0 (0%)                                                              0 (0%)                                                              \\                                                                   \\                                                                   \\\n",
       "\n",
       "  comed_tacrolimus                                                    1 (0.1%)                                                            0 (0%)                                                              1 (0.4%)                                                            \\                                                                   \\                                                                   \\\n",
       "\n",
       "  comed_fluorouracil                                                  0 (0%)                                                              0 (0%)                                                              0 (0%)                                                              \\                                                                   \\                                                                   \\\n",
       "\n",
       "  comed_irinotecan                                                    0 (0%)                                                              0 (0%)                                                              0 (0%)                                                              \\                                                                   \\                                                                   \\\n",
       "\n",
       "  comed_leucovorin                                                    0 (0%)                                                              0 (0%)                                                              0 (0%)                                                              \\                                                                   \\                                                                   \\\n",
       "\n",
       "  comed_oxaliplatin                                                   0 (0%)                                                              0 (0%)                                                              0 (0%)                                                              \\                                                                   \\                                                                   \\\n",
       "\n",
       "  [^1^]{.gt_footnote_marks                                                                                                                                                                                                                                                                                                                                                                                                \n",
       "  style=\"white-space:nowrap;font-style:italic;font-weight:normal;\"}                                                                                                                                                                                                                                                                                                                                                       \n",
       "  Median (IQR); n (%)                                                                                                                                                                                                                                                                                                                                                                                                     \n",
       "\n",
       "  [^2^]{.gt_footnote_marks                                                                                                                                                                                                                                                                                                                                                                                                \n",
       "  style=\"white-space:nowrap;font-style:italic;font-weight:normal;\"}                                                                                                                                                                                                                                                                                                                                                       \n",
       "  OR = Odds Ratio, CI = Confidence Interval                                                                                                                                                                                                                                                                                                                                                                               \n",
       "  -------------------------------------------------------------------------------------------------------------------------------------------------------------------------------------------------------------------------------------------------------------------------------------------------------------------------------------------------------------------------------------------------------------------------------------\n"
      ]
     }
    }
   ],
   "source": [
    "table_descriptive <- tbl_merge(\n",
    "  list(table_stats, table_uni),\n",
    "  tab_spanner = c(\n",
    "    \"**Thrombocytopenia Status**\",\n",
    "    \"**Univariate Regression**\"\n",
    "  )\n",
    ")\n",
    "\n",
    "table_descriptive"
   ],
   "id": "9877e2bf-9da5-477c-b471-635f94c4ff91"
  },
  {
   "cell_type": "markdown",
   "metadata": {},
   "source": [
    "Summary statistics, by site."
   ],
   "id": "212a3e13-0be3-48b3-8e90-d35606b533b8"
  },
  {
   "cell_type": "code",
   "execution_count": null,
   "metadata": {},
   "outputs": [
    {
     "output_type": "stream",
     "name": "stderr",
     "text": [
      "There was an error in 'add_p()/add_difference()' for variable 'comed_aceclofenac', p-value omitted:\n",
      "Error in stats::chisq.test(x = c(FALSE, FALSE, FALSE, FALSE, FALSE, FALSE, : 'x' and 'y' must have at least 2 levels"
     ]
    },
    {
     "output_type": "stream",
     "name": "stderr",
     "text": [
      "There was an error in 'add_p()/add_difference()' for variable 'comed_naproxen', p-value omitted:\n",
      "Error in stats::chisq.test(x = c(FALSE, FALSE, FALSE, FALSE, FALSE, FALSE, : 'x' and 'y' must have at least 2 levels"
     ]
    },
    {
     "output_type": "stream",
     "name": "stderr",
     "text": [
      "There was an error in 'add_p()/add_difference()' for variable 'comed_simvas', p-value omitted:\n",
      "Error in stats::chisq.test(x = c(FALSE, FALSE, FALSE, FALSE, FALSE, FALSE, : 'x' and 'y' must have at least 2 levels"
     ]
    },
    {
     "output_type": "stream",
     "name": "stderr",
     "text": [
      "There was an error in 'add_p()/add_difference()' for variable 'comed_diltiazem', p-value omitted:\n",
      "Error in stats::chisq.test(x = c(FALSE, FALSE, FALSE, FALSE, FALSE, FALSE, : 'x' and 'y' must have at least 2 levels"
     ]
    },
    {
     "output_type": "stream",
     "name": "stderr",
     "text": [
      "There was an error in 'add_p()/add_difference()' for variable 'comed_eptifibatid', p-value omitted:\n",
      "Error in stats::chisq.test(x = c(FALSE, FALSE, FALSE, FALSE, FALSE, FALSE, : 'x' and 'y' must have at least 2 levels"
     ]
    },
    {
     "output_type": "stream",
     "name": "stderr",
     "text": [
      "There was an error in 'add_p()/add_difference()' for variable 'comed_quinidin', p-value omitted:\n",
      "Error in stats::chisq.test(x = c(FALSE, FALSE, FALSE, FALSE, FALSE, FALSE, : 'x' and 'y' must have at least 2 levels"
     ]
    },
    {
     "output_type": "stream",
     "name": "stderr",
     "text": [
      "There was an error in 'add_p()/add_difference()' for variable 'comed_phenytoin', p-value omitted:\n",
      "Error in stats::chisq.test(x = c(FALSE, FALSE, FALSE, FALSE, FALSE, FALSE, : 'x' and 'y' must have at least 2 levels"
     ]
    },
    {
     "output_type": "stream",
     "name": "stderr",
     "text": [
      "There was an error in 'add_p()/add_difference()' for variable 'comed_mirtazapin', p-value omitted:\n",
      "Error in stats::chisq.test(x = c(FALSE, FALSE, FALSE, FALSE, FALSE, FALSE, : 'x' and 'y' must have at least 2 levels"
     ]
    },
    {
     "output_type": "stream",
     "name": "stderr",
     "text": [
      "There was an error in 'add_p()/add_difference()' for variable 'comed_palonosetron', p-value omitted:\n",
      "Error in stats::chisq.test(x = c(FALSE, FALSE, FALSE, FALSE, FALSE, FALSE, : 'x' and 'y' must have at least 2 levels"
     ]
    },
    {
     "output_type": "stream",
     "name": "stderr",
     "text": [
      "There was an error in 'add_p()/add_difference()' for variable 'comed_quinin', p-value omitted:\n",
      "Error in stats::chisq.test(x = c(FALSE, FALSE, FALSE, FALSE, FALSE, FALSE, : 'x' and 'y' must have at least 2 levels"
     ]
    },
    {
     "output_type": "stream",
     "name": "stderr",
     "text": [
      "There was an error in 'add_p()/add_difference()' for variable 'comed_pembrolizumab', p-value omitted:\n",
      "Error in stats::chisq.test(x = c(FALSE, FALSE, FALSE, FALSE, FALSE, FALSE, : 'x' and 'y' must have at least 2 levels"
     ]
    },
    {
     "output_type": "stream",
     "name": "stderr",
     "text": [
      "There was an error in 'add_p()/add_difference()' for variable 'comed_trastuzumab', p-value omitted:\n",
      "Error in stats::chisq.test(x = c(FALSE, FALSE, FALSE, FALSE, FALSE, FALSE, : 'x' and 'y' must have at least 2 levels"
     ]
    },
    {
     "output_type": "stream",
     "name": "stderr",
     "text": [
      "There was an error in 'add_p()/add_difference()' for variable 'comed_atezolizumab', p-value omitted:\n",
      "Error in stats::chisq.test(x = c(FALSE, FALSE, FALSE, FALSE, FALSE, FALSE, : 'x' and 'y' must have at least 2 levels"
     ]
    },
    {
     "output_type": "stream",
     "name": "stderr",
     "text": [
      "There was an error in 'add_p()/add_difference()' for variable 'comed_durvalumab', p-value omitted:\n",
      "Error in stats::chisq.test(x = c(FALSE, FALSE, FALSE, FALSE, FALSE, FALSE, : 'x' and 'y' must have at least 2 levels"
     ]
    },
    {
     "output_type": "stream",
     "name": "stderr",
     "text": [
      "There was an error in 'add_p()/add_difference()' for variable 'comed_IVIG', p-value omitted:\n",
      "Error in stats::chisq.test(x = c(FALSE, FALSE, FALSE, FALSE, FALSE, FALSE, : 'x' and 'y' must have at least 2 levels"
     ]
    },
    {
     "output_type": "stream",
     "name": "stderr",
     "text": [
      "There was an error in 'add_p()/add_difference()' for variable 'comed_fluorouracil', p-value omitted:\n",
      "Error in stats::chisq.test(x = c(FALSE, FALSE, FALSE, FALSE, FALSE, FALSE, : 'x' and 'y' must have at least 2 levels"
     ]
    },
    {
     "output_type": "stream",
     "name": "stderr",
     "text": [
      "There was an error in 'add_p()/add_difference()' for variable 'comed_irinotecan', p-value omitted:\n",
      "Error in stats::chisq.test(x = c(FALSE, FALSE, FALSE, FALSE, FALSE, FALSE, : 'x' and 'y' must have at least 2 levels"
     ]
    },
    {
     "output_type": "stream",
     "name": "stderr",
     "text": [
      "There was an error in 'add_p()/add_difference()' for variable 'comed_leucovorin', p-value omitted:\n",
      "Error in stats::chisq.test(x = c(FALSE, FALSE, FALSE, FALSE, FALSE, FALSE, : 'x' and 'y' must have at least 2 levels"
     ]
    },
    {
     "output_type": "stream",
     "name": "stderr",
     "text": [
      "There was an error in 'add_p()/add_difference()' for variable 'comed_oxaliplatin', p-value omitted:\n",
      "Error in stats::chisq.test(x = c(FALSE, FALSE, FALSE, FALSE, FALSE, FALSE, : 'x' and 'y' must have at least 2 levels"
     ]
    },
    {
     "output_type": "display_data",
     "metadata": {},
     "data": {
      "text/html": [
       "\n",
       "</div>"
      ],
      "text/markdown": [
       "  -----------------------------------------------------------------------------------------------------------------------------------------------------------------------------------------------------------------------------------------------------------------------------------------------------------------------------------------------------------------------------------------------------------------------------------------------------------------------------------------------------------------------------------------------------------------------------------------------------------------------------------\n",
       "  **Characteristic**                                                  **Overall**, N = 816[^1^]{.gt_footnote_marks                        **BM1**, N = 125[^1^]{.gt_footnote_marks                            **BM2**, N = 77[^1^]{.gt_footnote_marks                             **ND1**, N = 179[^1^]{.gt_footnote_marks                            **ND2**, N = 116[^1^]{.gt_footnote_marks                            **TN1**, N = 100[^1^]{.gt_footnote_marks                            **TN2**, N = 219[^1^]{.gt_footnote_marks                            **p-value**[^2^]{.gt_footnote_marks\n",
       "                                                                      style=\"white-space:nowrap;font-style:italic;font-weight:normal;\"}   style=\"white-space:nowrap;font-style:italic;font-weight:normal;\"}   style=\"white-space:nowrap;font-style:italic;font-weight:normal;\"}   style=\"white-space:nowrap;font-style:italic;font-weight:normal;\"}   style=\"white-space:nowrap;font-style:italic;font-weight:normal;\"}   style=\"white-space:nowrap;font-style:italic;font-weight:normal;\"}   style=\"white-space:nowrap;font-style:italic;font-weight:normal;\"}   style=\"white-space:nowrap;font-style:italic;font-weight:normal;\"}\n",
       "  ------------------------------------------------------------------- ------------------------------------------------------------------- ------------------------------------------------------------------- ------------------------------------------------------------------- ------------------------------------------------------------------- ------------------------------------------------------------------- ------------------------------------------------------------------- ------------------------------------------------------------------- -------------------------------------------------------------------\n",
       "  patient_age                                                         62 (50 - 73)                                                        58 (43 - 69)                                                        60 (45 - 72)                                                        60 (45 - 68)                                                        59 (46 - 68)                                                        69 (60 - 78)                                                        66 (58 - 78)                                                        \\<0.001\n",
       "\n",
       "  patient_sex                                                         306 (38%)                                                           54 (43%)                                                            27 (35%)                                                            73 (41%)                                                            28 (24%)                                                            48 (48%)                                                            76 (35%)                                                            0.004\n",
       "\n",
       "  patient_weight                                                      55 (50 - 60)                                                        53 (47 - 60)                                                        56 (50 - 63)                                                        56 (50 - 62)                                                        55 (50 - 60)                                                        50 (49 - 60)                                                        55 (50 - 60)                                                        0.028\n",
       "\n",
       "  baseline_CLCR                                                       48 (21 - 84)                                                        50 (24 - 80)                                                        40 (17 - 86)                                                        70 (41 - 104)                                                       60 (27 - 95)                                                        29 (14 - 54)                                                        35 (17 - 67)                                                        \\<0.001\n",
       "\n",
       "  dept_ER                                                             140 (17%)                                                           7 (5.6%)                                                            9 (12%)                                                             67 (37%)                                                            15 (13%)                                                            16 (16%)                                                            26 (12%)                                                            \\<0.001\n",
       "\n",
       "  dept_ICU                                                            390 (48%)                                                           10 (8.0%)                                                           23 (30%)                                                            73 (41%)                                                            42 (36%)                                                            77 (77%)                                                            165 (75%)                                                           \\<0.001\n",
       "\n",
       "  baseline_HGB                                                        102 (89 - 120)                                                      105 (91 - 124)                                                      99 (83 - 118)                                                       105 (89 - 123)                                                      100 (88 - 118)                                                      99 (89 - 116)                                                       104 (91 - 120)                                                      0.2\n",
       "\n",
       "  baseline_WBC                                                        12 (8 - 17)                                                         11 (7 - 16)                                                         11 (7 - 17)                                                         12 (8 - 18)                                                         11 (7 - 15)                                                         12 (8 - 18)                                                         13 (9 - 18)                                                         0.023\n",
       "\n",
       "  baseline_PLT                                                        206 (143 - 288)                                                     195 (139 - 247)                                                     234 (160 - 318)                                                     207 (129 - 293)                                                     225 (127 - 310)                                                     172 (122 - 245)                                                     225 (161 - 299)                                                     \\<0.001\n",
       "\n",
       "  LZD_duration                                                        9.0 (6.0 - 14.0)                                                    8.0 (6.0 - 13.0)                                                    10.0 (6.0 - 14.0)                                                   10.0 (6.0 - 14.0)                                                   9.0 (6.0 - 12.0)                                                    11.0 (6.0 - 15.0)                                                   9.0 (6.0 - 12.0)                                                    0.3\n",
       "\n",
       "  LZD_route                                                           \\                                                                   \\                                                                   \\                                                                   \\                                                                   \\                                                                   \\                                                                   \\                                                                   \\<0.001\n",
       "\n",
       "      IV                                                              792 (97%)                                                           111 (89%)                                                           67 (87%)                                                            179 (100%)                                                          116 (100%)                                                          100 (100%)                                                          219 (100%)                                                          \\\n",
       "\n",
       "      IV&PO                                                           9 (1.1%)                                                            6 (4.8%)                                                            3 (3.9%)                                                            0 (0%)                                                              0 (0%)                                                              0 (0%)                                                              0 (0%)                                                              \\\n",
       "\n",
       "      PO                                                              15 (1.8%)                                                           8 (6.4%)                                                            7 (9.1%)                                                            0 (0%)                                                              0 (0%)                                                              0 (0%)                                                              0 (0%)                                                              \\\n",
       "\n",
       "  invasive_ETI                                                        386 (47%)                                                           63 (50%)                                                            30 (39%)                                                            111 (62%)                                                           49 (42%)                                                            48 (48%)                                                            85 (39%)                                                            \\<0.001\n",
       "\n",
       "  invasive_CVC                                                        423 (52%)                                                           75 (60%)                                                            30 (39%)                                                            99 (55%)                                                            48 (41%)                                                            50 (50%)                                                            121 (55%)                                                           0.008\n",
       "\n",
       "  invasive_IHD                                                        111 (14%)                                                           17 (14%)                                                            16 (21%)                                                            9 (5.0%)                                                            0 (0%)                                                              27 (27%)                                                            42 (19%)                                                            \\<0.001\n",
       "\n",
       "  invasive_CRRT                                                       147 (18%)                                                           17 (14%)                                                            9 (12%)                                                             52 (29%)                                                            5 (4.3%)                                                            20 (20%)                                                            44 (20%)                                                            \\<0.001\n",
       "\n",
       "  comorb_HTN                                                          333 (41%)                                                           42 (34%)                                                            31 (40%)                                                            49 (27%)                                                            28 (24%)                                                            59 (59%)                                                            124 (57%)                                                           \\<0.001\n",
       "\n",
       "  comorb_DM                                                           222 (27%)                                                           28 (22%)                                                            24 (31%)                                                            28 (16%)                                                            27 (23%)                                                            31 (31%)                                                            84 (38%)                                                            \\<0.001\n",
       "\n",
       "  comorb_HF                                                           225 (28%)                                                           55 (44%)                                                            11 (14%)                                                            14 (7.8%)                                                           7 (6.0%)                                                            70 (70%)                                                            68 (31%)                                                            \\<0.001\n",
       "\n",
       "  comorb_angina                                                       32 (3.9%)                                                           0 (0%)                                                              0 (0%)                                                              1 (0.6%)                                                            0 (0%)                                                              13 (13%)                                                            18 (8.2%)                                                           \\<0.001\n",
       "\n",
       "  comorb_cirr                                                         48 (5.9%)                                                           6 (4.8%)                                                            1 (1.3%)                                                            10 (5.6%)                                                           5 (4.3%)                                                            12 (12%)                                                            14 (6.4%)                                                           0.085\n",
       "\n",
       "  comorb_COPD                                                         39 (4.8%)                                                           3 (2.4%)                                                            0 (0%)                                                              2 (1.1%)                                                            2 (1.7%)                                                            9 (9.0%)                                                            23 (11%)                                                            \\<0.001\n",
       "\n",
       "  comorb_CVA                                                          93 (11%)                                                            19 (15%)                                                            11 (14%)                                                            6 (3.4%)                                                            4 (3.4%)                                                            16 (16%)                                                            37 (17%)                                                            \\<0.001\n",
       "\n",
       "  comorb_MI                                                           20 (2.5%)                                                           10 (8.0%)                                                           3 (3.9%)                                                            2 (1.1%)                                                            0 (0%)                                                              1 (1.0%)                                                            4 (1.8%)                                                            0.002\n",
       "\n",
       "  comorb_K                                                            67 (8.2%)                                                           5 (4.0%)                                                            5 (6.5%)                                                            8 (4.5%)                                                            6 (5.2%)                                                            11 (11%)                                                            32 (15%)                                                            \\<0.001\n",
       "\n",
       "  comorb_hematological                                                46 (5.6%)                                                           9 (7.2%)                                                            12 (16%)                                                            10 (5.6%)                                                           5 (4.3%)                                                            8 (8.0%)                                                            2 (0.9%)                                                            \\<0.001\n",
       "\n",
       "  comorb_hema                                                         61 (7.5%)                                                           13 (10%)                                                            17 (22%)                                                            14 (7.8%)                                                           2 (1.7%)                                                            13 (13%)                                                            2 (0.9%)                                                            \\<0.001\n",
       "\n",
       "  infect_sepsis                                                       134 (16%)                                                           10 (8.0%)                                                           14 (18%)                                                            16 (8.9%)                                                           15 (13%)                                                            44 (44%)                                                            35 (16%)                                                            \\<0.001\n",
       "\n",
       "  infect_CAP                                                          118 (14%)                                                           7 (5.6%)                                                            6 (7.8%)                                                            11 (6.1%)                                                           1 (0.9%)                                                            26 (26%)                                                            67 (31%)                                                            \\<0.001\n",
       "\n",
       "  infect_HAP                                                          375 (46%)                                                           38 (30%)                                                            33 (43%)                                                            93 (52%)                                                            59 (51%)                                                            52 (52%)                                                            100 (46%)                                                           0.003\n",
       "\n",
       "  infect_SSTI                                                         133 (16%)                                                           33 (26%)                                                            34 (44%)                                                            1 (0.6%)                                                            4 (3.4%)                                                            23 (23%)                                                            38 (17%)                                                            \\<0.001\n",
       "\n",
       "  infect_CNS                                                          68 (8.3%)                                                           0 (0%)                                                              5 (6.5%)                                                            24 (13%)                                                            20 (17%)                                                            4 (4.0%)                                                            15 (6.8%)                                                           \\<0.001\n",
       "\n",
       "  infect_IAI                                                          50 (6.1%)                                                           8 (6.4%)                                                            8 (10%)                                                             1 (0.6%)                                                            2 (1.7%)                                                            12 (12%)                                                            19 (8.7%)                                                           \\<0.001\n",
       "\n",
       "  infect_UTI                                                          53 (6.5%)                                                           6 (4.8%)                                                            8 (10%)                                                             10 (5.6%)                                                           5 (4.3%)                                                            4 (4.0%)                                                            20 (9.1%)                                                           0.2\n",
       "\n",
       "  infect_BJI                                                          11 (1.3%)                                                           3 (2.4%)                                                            0 (0%)                                                              0 (0%)                                                              2 (1.7%)                                                            1 (1.0%)                                                            5 (2.3%)                                                            0.2\n",
       "\n",
       "  infect_septicemia                                                   237 (29%)                                                           35 (28%)                                                            24 (31%)                                                            57 (32%)                                                            60 (52%)                                                            7 (7.0%)                                                            54 (25%)                                                            \\<0.001\n",
       "\n",
       "  comed_aspirin                                                       47 (5.8%)                                                           8 (6.4%)                                                            9 (12%)                                                             3 (1.7%)                                                            0 (0%)                                                              5 (5.0%)                                                            22 (10%)                                                            \\<0.001\n",
       "\n",
       "  comed_diclofenac                                                    27 (3.3%)                                                           24 (19%)                                                            0 (0%)                                                              0 (0%)                                                              1 (0.9%)                                                            0 (0%)                                                              2 (0.9%)                                                            \\<0.001\n",
       "\n",
       "  comed_ibuprofen                                                     26 (3.2%)                                                           0 (0%)                                                              0 (0%)                                                              0 (0%)                                                              2 (1.7%)                                                            0 (0%)                                                              24 (11%)                                                            \\<0.001\n",
       "\n",
       "  comed_paracetamol                                                   357 (44%)                                                           66 (53%)                                                            0 (0%)                                                              92 (51%)                                                            69 (59%)                                                            47 (47%)                                                            83 (38%)                                                            \\<0.001\n",
       "\n",
       "  comed_penicillin                                                    123 (15%)                                                           0 (0%)                                                              5 (6.5%)                                                            34 (19%)                                                            19 (16%)                                                            17 (17%)                                                            48 (22%)                                                            \\<0.001\n",
       "\n",
       "  comed_cepha                                                         208 (25%)                                                           12 (9.6%)                                                           10 (13%)                                                            36 (20%)                                                            33 (28%)                                                            11 (11%)                                                            106 (48%)                                                           \\<0.001\n",
       "\n",
       "  comed_carbapenem                                                    588 (72%)                                                           52 (42%)                                                            46 (60%)                                                            158 (88%)                                                           78 (67%)                                                            80 (80%)                                                            174 (79%)                                                           \\<0.001\n",
       "\n",
       "  comed_cotrimoxazol                                                  67 (8.2%)                                                           0 (0%)                                                              5 (6.5%)                                                            20 (11%)                                                            14 (12%)                                                            9 (9.0%)                                                            19 (8.7%)                                                           0.007\n",
       "\n",
       "  comed_vancomycin                                                    67 (8.2%)                                                           8 (6.4%)                                                            3 (3.9%)                                                            10 (5.6%)                                                           22 (19%)                                                            3 (3.0%)                                                            21 (9.6%)                                                           \\<0.001\n",
       "\n",
       "  comed_levofloxacin                                                  250 (31%)                                                           27 (22%)                                                            6 (7.8%)                                                            24 (13%)                                                            20 (17%)                                                            34 (34%)                                                            139 (63%)                                                           \\<0.001\n",
       "\n",
       "  comed_teicoplanin                                                   37 (4.5%)                                                           0 (0%)                                                              0 (0%)                                                              7 (3.9%)                                                            2 (1.7%)                                                            0 (0%)                                                              28 (13%)                                                            \\<0.001\n",
       "\n",
       "  comed_ethambutol                                                    8 (1.0%)                                                            0 (0%)                                                              0 (0%)                                                              2 (1.1%)                                                            6 (5.2%)                                                            0 (0%)                                                              0 (0%)                                                              0.001\n",
       "\n",
       "  comed_pyrazinamid                                                   12 (1.5%)                                                           0 (0%)                                                              0 (0%)                                                              5 (2.8%)                                                            7 (6.0%)                                                            0 (0%)                                                              0 (0%)                                                              \\<0.001\n",
       "\n",
       "  comed_rifampin                                                      15 (1.8%)                                                           0 (0%)                                                              0 (0%)                                                              5 (2.8%)                                                            9 (7.8%)                                                            1 (1.0%)                                                            0 (0%)                                                              \\<0.001\n",
       "\n",
       "  comed_heparin                                                       207 (25%)                                                           12 (9.6%)                                                           2 (2.6%)                                                            74 (41%)                                                            24 (21%)                                                            33 (33%)                                                            62 (28%)                                                            \\<0.001\n",
       "\n",
       "  comed_clopidogrel                                                   40 (4.9%)                                                           7 (5.6%)                                                            4 (5.2%)                                                            1 (0.6%)                                                            0 (0%)                                                              8 (8.0%)                                                            20 (9.1%)                                                           \\<0.001\n",
       "\n",
       "  comed_enoxaparin                                                    352 (43%)                                                           33 (26%)                                                            13 (17%)                                                            119 (66%)                                                           44 (38%)                                                            40 (40%)                                                            103 (47%)                                                           \\<0.001\n",
       "\n",
       "  comed_dexamethason                                                  106 (13%)                                                           0 (0%)                                                              0 (0%)                                                              75 (42%)                                                            20 (17%)                                                            2 (2.0%)                                                            9 (4.1%)                                                            \\<0.001\n",
       "\n",
       "  comed_amiodaron                                                     36 (4.4%)                                                           8 (6.4%)                                                            0 (0%)                                                              14 (7.8%)                                                           5 (4.3%)                                                            4 (4.0%)                                                            5 (2.3%)                                                            0.029\n",
       "\n",
       "  comed_furosemid                                                     436 (53%)                                                           72 (58%)                                                            15 (19%)                                                            81 (45%)                                                            49 (42%)                                                            71 (71%)                                                            148 (68%)                                                           \\<0.001\n",
       "\n",
       "  comed_haloperidol                                                   53 (6.5%)                                                           3 (2.4%)                                                            4 (5.2%)                                                            21 (12%)                                                            4 (3.4%)                                                            5 (5.0%)                                                            16 (7.3%)                                                           0.015\n",
       "\n",
       "  comed_valproic                                                      32 (3.9%)                                                           0 (0%)                                                              1 (1.3%)                                                            10 (5.6%)                                                           5 (4.3%)                                                            3 (3.0%)                                                            13 (5.9%)                                                           0.028\n",
       "\n",
       "  comed_aceclofenac                                                   0 (0%)                                                              0 (0%)                                                              0 (0%)                                                              0 (0%)                                                              0 (0%)                                                              0 (0%)                                                              0 (0%)                                                              \\\n",
       "\n",
       "  comed_naproxen                                                      0 (0%)                                                              0 (0%)                                                              0 (0%)                                                              0 (0%)                                                              0 (0%)                                                              0 (0%)                                                              0 (0%)                                                              \\\n",
       "\n",
       "  comed_daptomycin                                                    1 (0.1%)                                                            0 (0%)                                                              0 (0%)                                                              0 (0%)                                                              1 (0.9%)                                                            0 (0%)                                                              0 (0%)                                                              0.4\n",
       "\n",
       "  comed_cetirizin                                                     6 (0.7%)                                                            0 (0%)                                                              0 (0%)                                                              0 (0%)                                                              0 (0%)                                                              0 (0%)                                                              6 (2.7%)                                                            0.012\n",
       "\n",
       "  comed_simvas                                                        0 (0%)                                                              0 (0%)                                                              0 (0%)                                                              0 (0%)                                                              0 (0%)                                                              0 (0%)                                                              0 (0%)                                                              \\\n",
       "\n",
       "  comed_bisoprolol                                                    6 (0.7%)                                                            4 (3.2%)                                                            0 (0%)                                                              1 (0.6%)                                                            1 (0.9%)                                                            0 (0%)                                                              0 (0%)                                                              0.031\n",
       "\n",
       "  comed_diltiazem                                                     0 (0%)                                                              0 (0%)                                                              0 (0%)                                                              0 (0%)                                                              0 (0%)                                                              0 (0%)                                                              0 (0%)                                                              \\\n",
       "\n",
       "  comed_eptifibatid                                                   0 (0%)                                                              0 (0%)                                                              0 (0%)                                                              0 (0%)                                                              0 (0%)                                                              0 (0%)                                                              0 (0%)                                                              \\\n",
       "\n",
       "  comed_quinidin                                                      0 (0%)                                                              0 (0%)                                                              0 (0%)                                                              0 (0%)                                                              0 (0%)                                                              0 (0%)                                                              0 (0%)                                                              \\\n",
       "\n",
       "  comed_carbamazepin                                                  8 (1.0%)                                                            0 (0%)                                                              0 (0%)                                                              7 (3.9%)                                                            0 (0%)                                                              0 (0%)                                                              1 (0.5%)                                                            0.006\n",
       "\n",
       "  comed_phenytoin                                                     0 (0%)                                                              0 (0%)                                                              0 (0%)                                                              0 (0%)                                                              0 (0%)                                                              0 (0%)                                                              0 (0%)                                                              \\\n",
       "\n",
       "  comed_mirtazapin                                                    0 (0%)                                                              0 (0%)                                                              0 (0%)                                                              0 (0%)                                                              0 (0%)                                                              0 (0%)                                                              0 (0%)                                                              \\\n",
       "\n",
       "  comed_quetiapin                                                     4 (0.5%)                                                            1 (0.8%)                                                            1 (1.3%)                                                            0 (0%)                                                              0 (0%)                                                              0 (0%)                                                              2 (0.9%)                                                            0.5\n",
       "\n",
       "  comed_ondansetron                                                   6 (0.7%)                                                            2 (1.6%)                                                            1 (1.3%)                                                            0 (0%)                                                              3 (2.6%)                                                            0 (0%)                                                              0 (0%)                                                              0.022\n",
       "\n",
       "  comed_palonosetron                                                  0 (0%)                                                              0 (0%)                                                              0 (0%)                                                              0 (0%)                                                              0 (0%)                                                              0 (0%)                                                              0 (0%)                                                              \\\n",
       "\n",
       "  comed_oseltamivir                                                   2 (0.2%)                                                            1 (0.8%)                                                            1 (1.3%)                                                            0 (0%)                                                              0 (0%)                                                              0 (0%)                                                              0 (0%)                                                              0.14\n",
       "\n",
       "  comed_quinin                                                        0 (0%)                                                              0 (0%)                                                              0 (0%)                                                              0 (0%)                                                              0 (0%)                                                              0 (0%)                                                              0 (0%)                                                              \\\n",
       "\n",
       "  comed_pembrolizumab                                                 0 (0%)                                                              0 (0%)                                                              0 (0%)                                                              0 (0%)                                                              0 (0%)                                                              0 (0%)                                                              0 (0%)                                                              \\\n",
       "\n",
       "  comed_trastuzumab                                                   0 (0%)                                                              0 (0%)                                                              0 (0%)                                                              0 (0%)                                                              0 (0%)                                                              0 (0%)                                                              0 (0%)                                                              \\\n",
       "\n",
       "  comed_atezolizumab                                                  0 (0%)                                                              0 (0%)                                                              0 (0%)                                                              0 (0%)                                                              0 (0%)                                                              0 (0%)                                                              0 (0%)                                                              \\\n",
       "\n",
       "  comed_durvalumab                                                    0 (0%)                                                              0 (0%)                                                              0 (0%)                                                              0 (0%)                                                              0 (0%)                                                              0 (0%)                                                              0 (0%)                                                              \\\n",
       "\n",
       "  comed_IVIG                                                          0 (0%)                                                              0 (0%)                                                              0 (0%)                                                              0 (0%)                                                              0 (0%)                                                              0 (0%)                                                              0 (0%)                                                              \\\n",
       "\n",
       "  comed_tacrolimus                                                    1 (0.1%)                                                            1 (0.8%)                                                            0 (0%)                                                              0 (0%)                                                              0 (0%)                                                              0 (0%)                                                              0 (0%)                                                              0.5\n",
       "\n",
       "  comed_fluorouracil                                                  0 (0%)                                                              0 (0%)                                                              0 (0%)                                                              0 (0%)                                                              0 (0%)                                                              0 (0%)                                                              0 (0%)                                                              \\\n",
       "\n",
       "  comed_irinotecan                                                    0 (0%)                                                              0 (0%)                                                              0 (0%)                                                              0 (0%)                                                              0 (0%)                                                              0 (0%)                                                              0 (0%)                                                              \\\n",
       "\n",
       "  comed_leucovorin                                                    0 (0%)                                                              0 (0%)                                                              0 (0%)                                                              0 (0%)                                                              0 (0%)                                                              0 (0%)                                                              0 (0%)                                                              \\\n",
       "\n",
       "  comed_oxaliplatin                                                   0 (0%)                                                              0 (0%)                                                              0 (0%)                                                              0 (0%)                                                              0 (0%)                                                              0 (0%)                                                              0 (0%)                                                              \\\n",
       "\n",
       "  flag_ADR_TP_ID                                                      264 (32%)                                                           34 (27%)                                                            22 (29%)                                                            59 (33%)                                                            35 (30%)                                                            38 (38%)                                                            76 (35%)                                                            0.5\n",
       "\n",
       "  ADR_CTCAE_max                                                       \\                                                                   \\                                                                   \\                                                                   \\                                                                   \\                                                                   \\                                                                   \\                                                                   \\<0.001\n",
       "\n",
       "      1                                                               85 (32%)                                                            11 (32%)                                                            9 (41%)                                                             17 (29%)                                                            7 (20%)                                                             7 (18%)                                                             34 (45%)                                                            \\\n",
       "\n",
       "      2                                                               78 (30%)                                                            10 (29%)                                                            6 (27%)                                                             12 (20%)                                                            6 (17%)                                                             17 (45%)                                                            27 (36%)                                                            \\\n",
       "\n",
       "      3                                                               49 (19%)                                                            4 (12%)                                                             3 (14%)                                                             17 (29%)                                                            7 (20%)                                                             6 (16%)                                                             12 (16%)                                                            \\\n",
       "\n",
       "      4                                                               52 (20%)                                                            9 (26%)                                                             4 (18%)                                                             13 (22%)                                                            15 (43%)                                                            8 (21%)                                                             3 (3.9%)                                                            \\\n",
       "\n",
       "  ADR_onset_first                                                     4.0 (2.0 - 10.0)                                                    2.0 (1.0 - 9.8)                                                     3.5 (2.0 - 7.8)                                                     4.0 (2.0 - 9.0)                                                     6.0 (2.5 - 11.0)                                                    4.0 (2.0 - 9.0)                                                     6.0 (2.0 - 11.0)                                                    0.15\n",
       "\n",
       "  ADR_PLT_ratio                                                       0.36 (0.22 - 0.52)                                                  0.55 (0.26 - 0.64)                                                  0.39 (0.21 - 0.58)                                                  0.37 (0.26 - 0.50)                                                  0.30 (0.16 - 0.45)                                                  0.36 (0.20 - 0.48)                                                  0.35 (0.25 - 0.50)                                                  0.077\n",
       "\n",
       "  [^1^]{.gt_footnote_marks                                                                                                                                                                                                                                                                                                                                                                                                                                                                                                                                        \n",
       "  style=\"white-space:nowrap;font-style:italic;font-weight:normal;\"}                                                                                                                                                                                                                                                                                                                                                                                                                                                                                               \n",
       "  Median (IQR); n (%)                                                                                                                                                                                                                                                                                                                                                                                                                                                                                                                                             \n",
       "\n",
       "  [^2^]{.gt_footnote_marks                                                                                                                                                                                                                                                                                                                                                                                                                                                                                                                                        \n",
       "  style=\"white-space:nowrap;font-style:italic;font-weight:normal;\"}                                                                                                                                                                                                                                                                                                                                                                                                                                                                                               \n",
       "  Kruskal-Wallis rank sum test; Pearson's Chi-squared test; Fisher's                                                                                                                                                                                                                                                                                                                                                                                                                                                                                              \n",
       "  Exact Test for Count Data with simulated p-value (based on 2000                                                                                                                                                                                                                                                                                                                                                                                                                                                                                                 \n",
       "  replicates)                                                                                                                                                                                                                                                                                                                                                                                                                                                                                                                                                     \n",
       "  -----------------------------------------------------------------------------------------------------------------------------------------------------------------------------------------------------------------------------------------------------------------------------------------------------------------------------------------------------------------------------------------------------------------------------------------------------------------------------------------------------------------------------------------------------------------------------------------------------------------------------------\n"
      ]
     }
    }
   ],
   "source": [
    "table_descriptive_site <- data_patient_complete |>\n",
    "  select(\n",
    "    all_of(predictor_list), starts_with(\"comed\"), flag_ADR_TP_ID, site, ADR_CTCAE_max, ADR_onset_first, ADR_PLT_ratio\n",
    "  ) |>\n",
    "  tbl_summary(\n",
    "    by = site,\n",
    "    statistic = list(all_continuous() ~ \"{median} ({p25} - {p75})\"),\n",
    "    missing = \"no\"\n",
    "  ) |>\n",
    "  add_overall() |>\n",
    "  bold_labels() |>\n",
    "  add_p(\n",
    "    test.args = all_tests(\"fisher.test\") ~ list(simulate.p.value = TRUE)\n",
    "  ) |>\n",
    "  bold_p()"
   ],
   "id": "2e2d65ad-1573-441e-9c74-d518a1e5eff6"
  }
 ],
 "nbformat": 4,
 "nbformat_minor": 5,
 "metadata": {}
}
