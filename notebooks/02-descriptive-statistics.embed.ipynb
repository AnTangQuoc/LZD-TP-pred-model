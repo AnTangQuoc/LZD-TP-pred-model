{
 "cells": [
  {
   "cell_type": "markdown",
   "metadata": {},
   "source": [
    "# Descriptive Statistics\n",
    "\n",
    "Initialize data to analyze."
   ],
   "id": "ff978c46-eb2f-43fe-b5d2-e55d7e7c1ec2"
  },
  {
   "cell_type": "code",
   "execution_count": null,
   "metadata": {},
   "outputs": [
    {
     "output_type": "stream",
     "name": "stderr",
     "text": [
      "── Attaching core tidyverse packages ──────────────────────── tidyverse 2.0.0 ──\n",
      "✔ dplyr     1.1.4     ✔ readr     2.1.5\n",
      "✔ forcats   1.0.0     ✔ stringr   1.5.1\n",
      "✔ ggplot2   3.5.0     ✔ tibble    3.2.1\n",
      "✔ lubridate 1.9.3     ✔ tidyr     1.3.1\n",
      "✔ purrr     1.0.2     \n",
      "── Conflicts ────────────────────────────────────────── tidyverse_conflicts() ──\n",
      "✖ dplyr::filter() masks stats::filter()\n",
      "✖ dplyr::lag()    masks stats::lag()\n",
      "ℹ Use the conflicted package (<http://conflicted.r-lib.org/>) to force all conflicts to become errors"
     ]
    }
   ],
   "source": [
    "source(\"notebooks/initialize-data-analysis.r\")"
   ],
   "id": "c290241e-46a6-496f-b3c9-11dd6cee2bcc"
  },
  {
   "cell_type": "markdown",
   "metadata": {},
   "source": [
    "Summary statistics, by thrombocytopenia status."
   ],
   "id": "cadf9417-5feb-4769-928c-1d0121153744"
  },
  {
   "cell_type": "code",
   "execution_count": null,
   "metadata": {},
   "outputs": [],
   "source": [
    "library(gtsummary)\n",
    "\n",
    "table_stats <- data_patient_complete |>\n",
    "  select(\n",
    "    all_of(predictor_list), starts_with(\"comed\"), flag_ADR_TP_ID\n",
    "  ) |>\n",
    "  tbl_summary(\n",
    "    by = flag_ADR_TP_ID,\n",
    "    statistic = list(all_continuous() ~ \"{median} ({p25} - {p75})\"),\n",
    "    missing = \"no\"\n",
    "  ) |>\n",
    "  add_overall() |>\n",
    "  bold_labels()"
   ],
   "id": "415c96dc-ab89-44ba-9126-c6e80723d1ba"
  },
  {
   "cell_type": "markdown",
   "metadata": {},
   "source": [
    "Univariate logistic regression, by thrombocytopenia status."
   ],
   "id": "8e3c6be9-8662-41e9-b359-96c8ec734bc0"
  },
  {
   "cell_type": "code",
   "execution_count": null,
   "metadata": {},
   "outputs": [
    {
     "output_type": "stream",
     "name": "stderr",
     "text": [
      "── Attaching packages ────────────────────────────────────── tidymodels 1.1.1 ──"
     ]
    },
    {
     "output_type": "stream",
     "name": "stderr",
     "text": [
      "✔ broom        1.0.5      ✔ rsample      1.2.0 \n",
      "✔ dials        1.2.1      ✔ tune         1.2.0 \n",
      "✔ infer        1.0.6      ✔ workflows    1.1.4 \n",
      "✔ modeldata    1.3.0      ✔ workflowsets 1.1.0 \n",
      "✔ parsnip      1.2.0      ✔ yardstick    1.3.0 \n",
      "✔ recipes      1.0.10     "
     ]
    },
    {
     "output_type": "stream",
     "name": "stderr",
     "text": [
      "── Conflicts ───────────────────────────────────────── tidymodels_conflicts() ──\n",
      "✖ recipes::all_double()  masks gtsummary::all_double()\n",
      "✖ recipes::all_factor()  masks gtsummary::all_factor()\n",
      "✖ recipes::all_integer() masks gtsummary::all_integer()\n",
      "✖ recipes::all_logical() masks gtsummary::all_logical()\n",
      "✖ recipes::all_numeric() masks gtsummary::all_numeric()\n",
      "✖ scales::discard()      masks purrr::discard()\n",
      "✖ dplyr::filter()        masks stats::filter()\n",
      "✖ recipes::fixed()       masks stringr::fixed()\n",
      "✖ dplyr::lag()           masks stats::lag()\n",
      "✖ yardstick::spec()      masks readr::spec()\n",
      "✖ recipes::step()        masks stats::step()\n",
      "• Use tidymodels_prefer() to resolve common conflicts."
     ]
    },
    {
     "output_type": "stream",
     "name": "stderr",
     "text": [
      "Loading required package: future"
     ]
    },
    {
     "output_type": "stream",
     "name": "stderr",
     "text": [
      "Extracting {parsnip} model fit with `tbl_regression(x = x$fit, ...)`"
     ]
    },
    {
     "output_type": "stream",
     "name": "stderr",
     "text": [
      "Extracting {parsnip} model fit with `tbl_regression(x = x$fit, ...)`\n",
      "Extracting {parsnip} model fit with `tbl_regression(x = x$fit, ...)`\n",
      "Extracting {parsnip} model fit with `tbl_regression(x = x$fit, ...)`\n",
      "Extracting {parsnip} model fit with `tbl_regression(x = x$fit, ...)`\n",
      "Extracting {parsnip} model fit with `tbl_regression(x = x$fit, ...)`\n",
      "Extracting {parsnip} model fit with `tbl_regression(x = x$fit, ...)`\n",
      "Extracting {parsnip} model fit with `tbl_regression(x = x$fit, ...)`\n",
      "Extracting {parsnip} model fit with `tbl_regression(x = x$fit, ...)`\n",
      "Extracting {parsnip} model fit with `tbl_regression(x = x$fit, ...)`\n",
      "Extracting {parsnip} model fit with `tbl_regression(x = x$fit, ...)`\n",
      "Extracting {parsnip} model fit with `tbl_regression(x = x$fit, ...)`\n",
      "Extracting {parsnip} model fit with `tbl_regression(x = x$fit, ...)`\n",
      "Extracting {parsnip} model fit with `tbl_regression(x = x$fit, ...)`\n",
      "Extracting {parsnip} model fit with `tbl_regression(x = x$fit, ...)`\n",
      "Extracting {parsnip} model fit with `tbl_regression(x = x$fit, ...)`\n",
      "Extracting {parsnip} model fit with `tbl_regression(x = x$fit, ...)`\n",
      "Extracting {parsnip} model fit with `tbl_regression(x = x$fit, ...)`\n",
      "Extracting {parsnip} model fit with `tbl_regression(x = x$fit, ...)`"
     ]
    },
    {
     "output_type": "stream",
     "name": "stderr",
     "text": [
      "Extracting {parsnip} model fit with `tbl_regression(x = x$fit, ...)`\n",
      "Extracting {parsnip} model fit with `tbl_regression(x = x$fit, ...)`\n",
      "Extracting {parsnip} model fit with `tbl_regression(x = x$fit, ...)`\n",
      "Extracting {parsnip} model fit with `tbl_regression(x = x$fit, ...)`\n",
      "Extracting {parsnip} model fit with `tbl_regression(x = x$fit, ...)`\n",
      "Extracting {parsnip} model fit with `tbl_regression(x = x$fit, ...)`\n",
      "Extracting {parsnip} model fit with `tbl_regression(x = x$fit, ...)`\n",
      "Extracting {parsnip} model fit with `tbl_regression(x = x$fit, ...)`\n",
      "Extracting {parsnip} model fit with `tbl_regression(x = x$fit, ...)`\n",
      "Extracting {parsnip} model fit with `tbl_regression(x = x$fit, ...)`\n",
      "Extracting {parsnip} model fit with `tbl_regression(x = x$fit, ...)`\n",
      "Extracting {parsnip} model fit with `tbl_regression(x = x$fit, ...)`\n",
      "Extracting {parsnip} model fit with `tbl_regression(x = x$fit, ...)`\n",
      "Extracting {parsnip} model fit with `tbl_regression(x = x$fit, ...)`\n",
      "Extracting {parsnip} model fit with `tbl_regression(x = x$fit, ...)`\n",
      "Extracting {parsnip} model fit with `tbl_regression(x = x$fit, ...)`\n",
      "Extracting {parsnip} model fit with `tbl_regression(x = x$fit, ...)`\n",
      "Extracting {parsnip} model fit with `tbl_regression(x = x$fit, ...)`\n",
      "Extracting {parsnip} model fit with `tbl_regression(x = x$fit, ...)`"
     ]
    },
    {
     "output_type": "stream",
     "name": "stderr",
     "text": [
      "Extracting {parsnip} model fit with `tbl_regression(x = x$fit, ...)`\n",
      "Extracting {parsnip} model fit with `tbl_regression(x = x$fit, ...)`\n",
      "Extracting {parsnip} model fit with `tbl_regression(x = x$fit, ...)`\n",
      "Extracting {parsnip} model fit with `tbl_regression(x = x$fit, ...)`\n",
      "Extracting {parsnip} model fit with `tbl_regression(x = x$fit, ...)`\n",
      "Extracting {parsnip} model fit with `tbl_regression(x = x$fit, ...)`\n",
      "Extracting {parsnip} model fit with `tbl_regression(x = x$fit, ...)`\n",
      "Extracting {parsnip} model fit with `tbl_regression(x = x$fit, ...)`\n",
      "Extracting {parsnip} model fit with `tbl_regression(x = x$fit, ...)`\n",
      "Extracting {parsnip} model fit with `tbl_regression(x = x$fit, ...)`\n",
      "Extracting {parsnip} model fit with `tbl_regression(x = x$fit, ...)`\n",
      "Extracting {parsnip} model fit with `tbl_regression(x = x$fit, ...)`\n",
      "Extracting {parsnip} model fit with `tbl_regression(x = x$fit, ...)`\n",
      "Extracting {parsnip} model fit with `tbl_regression(x = x$fit, ...)`\n",
      "Extracting {parsnip} model fit with `tbl_regression(x = x$fit, ...)`\n",
      "Extracting {parsnip} model fit with `tbl_regression(x = x$fit, ...)`\n",
      "Extracting {parsnip} model fit with `tbl_regression(x = x$fit, ...)`\n",
      "Extracting {parsnip} model fit with `tbl_regression(x = x$fit, ...)`\n",
      "Extracting {parsnip} model fit with `tbl_regression(x = x$fit, ...)`"
     ]
    }
   ],
   "source": [
    "library(tidymodels)"
   ],
   "id": "4a75dc92-1261-49a6-92b2-332637b91454"
  },
  {
   "cell_type": "markdown",
   "metadata": {},
   "source": [
    "Print and save results."
   ],
   "id": "277e244d-dec0-42f3-94e6-8920e9bc3e63"
  },
  {
   "cell_type": "code",
   "execution_count": null,
   "metadata": {},
   "outputs": [
    {
     "output_type": "display_data",
     "metadata": {},
     "data": {
      "text/html": [
       "\n",
       "</div>"
      ],
      "text/markdown": [
       "  -------------------------------------------------------------------------------------------------------------------------------------------------------------------------------------------------------------------------------------------------------------------------------------------------------------------------------------------------------------------------------------------------------------------------------------\n",
       "  **Characteristic**                                                  [**Thrombocytopenia Status**]{.gt_column_spanner}                                                                                                                                                           [**Univariate Regression**]{.gt_column_spanner}                                                                                         \n",
       "  ------------------------------------------------------------------- ------------------------------------------------------------------- ------------------------------------------------------------------- ------------------------------------------------------------------- ------------------------------------------------------------------- ------------------------------------------------------------------- -------------\n",
       "                                                                      **Overall**, N = 816[^1^]{.gt_footnote_marks                        **FALSE**, N = 552[^1^]{.gt_footnote_marks                          **TRUE**, N = 264[^1^]{.gt_footnote_marks                           **OR**[^2^]{.gt_footnote_marks                                      **95% CI**[^2^]{.gt_footnote_marks                                  **p-value**\n",
       "                                                                      style=\"white-space:nowrap;font-style:italic;font-weight:normal;\"}   style=\"white-space:nowrap;font-style:italic;font-weight:normal;\"}   style=\"white-space:nowrap;font-style:italic;font-weight:normal;\"}   style=\"white-space:nowrap;font-style:italic;font-weight:normal;\"}   style=\"white-space:nowrap;font-style:italic;font-weight:normal;\"}   \n",
       "\n",
       "  patient_age                                                         62 (50 - 73)                                                        61 (47 - 72)                                                        64 (54 - 74)                                                        1.02                                                                1.01, 1.03                                                          \\<0.001\n",
       "\n",
       "  patient_sex                                                         306 (38%)                                                           206 (37%)                                                           100 (38%)                                                           1.02                                                                0.76, 1.38                                                          0.9\n",
       "\n",
       "  patient_weight                                                      55 (50 - 60)                                                        55 (50 - 60)                                                        55 (48 - 62)                                                        1.00                                                                0.99, 1.02                                                          0.7\n",
       "\n",
       "  baseline_CLCR                                                       48 (21 - 84)                                                        55 (26 - 88)                                                        32 (15 - 64)                                                        0.99                                                                0.99, 0.99                                                          \\<0.001\n",
       "\n",
       "  dept_ER                                                             140 (17%)                                                           95 (17%)                                                            45 (17%)                                                            0.99                                                                0.67, 1.45                                                          \\>0.9\n",
       "\n",
       "  dept_ICU                                                            390 (48%)                                                           240 (43%)                                                           150 (57%)                                                           1.71                                                                1.27, 2.30                                                          \\<0.001\n",
       "\n",
       "  baseline_HGB                                                        102 (89 - 120)                                                      105 (91 - 121)                                                      97 (85 - 117)                                                       0.99                                                                0.98, 0.99                                                          \\<0.001\n",
       "\n",
       "  baseline_WBC                                                        12 (8 - 17)                                                         12 (8 - 17)                                                         12 (8 - 18)                                                         1.01                                                                0.99, 1.03                                                          0.2\n",
       "\n",
       "  baseline_PLT                                                        206 (143 - 288)                                                     234 (167 - 309)                                                     154 (103 - 211)                                                     0.99                                                                0.99, 0.99                                                          \\<0.001\n",
       "\n",
       "  LZD_duration                                                        9.0 (6.0 - 14.0)                                                    9.0 (6.0 - 13.0)                                                    10.0 (6.0 - 14.0)                                                   1.03                                                                1.01, 1.06                                                          0.017\n",
       "\n",
       "  LZD_route                                                           \\                                                                   \\                                                                   \\                                                                   \\                                                                   \\                                                                   \\\n",
       "\n",
       "      IV                                                              792 (97%)                                                           533 (97%)                                                           259 (98%)                                                           ---                                                                 ---                                                                 \\\n",
       "\n",
       "      IV&PO                                                           9 (1.1%)                                                            7 (1.3%)                                                            2 (0.8%)                                                            0.59                                                                0.09, 2.45                                                          0.5\n",
       "\n",
       "      PO                                                              15 (1.8%)                                                           12 (2.2%)                                                           3 (1.1%)                                                            0.51                                                                0.12, 1.64                                                          0.3\n",
       "\n",
       "  invasive_ETI                                                        374 (46%)                                                           220 (40%)                                                           154 (58%)                                                           2.11                                                                1.57, 2.85                                                          \\<0.001\n",
       "\n",
       "  invasive_CVC                                                        404 (50%)                                                           230 (42%)                                                           174 (66%)                                                           2.71                                                                2.00, 3.68                                                          \\<0.001\n",
       "\n",
       "  invasive_IHD                                                        104 (13%)                                                           60 (11%)                                                            44 (17%)                                                            1.64                                                                1.07, 2.49                                                          0.021\n",
       "\n",
       "  invasive_CRRT                                                       136 (17%)                                                           61 (11%)                                                            75 (28%)                                                            3.19                                                                2.19, 4.67                                                          \\<0.001\n",
       "\n",
       "  comorb_HTN                                                          343 (42%)                                                           225 (41%)                                                           118 (45%)                                                           1.17                                                                0.87, 1.58                                                          0.3\n",
       "\n",
       "  comorb_DM                                                           217 (27%)                                                           147 (27%)                                                           70 (27%)                                                            0.99                                                                0.71, 1.38                                                          \\>0.9\n",
       "\n",
       "  comorb_HF                                                           223 (27%)                                                           129 (23%)                                                           94 (36%)                                                            1.81                                                                1.32, 2.50                                                          \\<0.001\n",
       "\n",
       "  comorb_angina                                                       36 (4.4%)                                                           21 (3.8%)                                                           15 (5.7%)                                                           1.52                                                                0.76, 2.99                                                          0.2\n",
       "\n",
       "  comorb_cirr                                                         47 (5.8%)                                                           19 (3.4%)                                                           28 (11%)                                                            3.33                                                                1.83, 6.17                                                          \\<0.001\n",
       "\n",
       "  comorb_COPD                                                         39 (4.8%)                                                           25 (4.5%)                                                           14 (5.3%)                                                           1.18                                                                0.59, 2.28                                                          0.6\n",
       "\n",
       "  comorb_CVA                                                          93 (11%)                                                            66 (12%)                                                            27 (10%)                                                            0.84                                                                0.51, 1.33                                                          0.5\n",
       "\n",
       "  comorb_MI                                                           20 (2.5%)                                                           15 (2.7%)                                                           5 (1.9%)                                                            0.69                                                                0.22, 1.81                                                          0.5\n",
       "\n",
       "  comorb_K                                                            67 (8.2%)                                                           42 (7.6%)                                                           25 (9.5%)                                                           1.27                                                                0.75, 2.12                                                          0.4\n",
       "\n",
       "  comorb_hematological                                                46 (5.6%)                                                           27 (4.9%)                                                           19 (7.2%)                                                           1.51                                                                0.81, 2.75                                                          0.2\n",
       "\n",
       "  comorb_hema                                                         62 (7.6%)                                                           38 (6.9%)                                                           24 (9.1%)                                                           1.35                                                                0.78, 2.29                                                          0.3\n",
       "\n",
       "  infect_sepsis                                                       127 (16%)                                                           60 (11%)                                                            67 (25%)                                                            2.79                                                                1.90, 4.11                                                          \\<0.001\n",
       "\n",
       "  infect_CAP                                                          119 (15%)                                                           71 (13%)                                                            48 (18%)                                                            1.51                                                                1.01, 2.24                                                          0.045\n",
       "\n",
       "  infect_HAP                                                          372 (46%)                                                           252 (46%)                                                           120 (45%)                                                           0.99                                                                0.74, 1.33                                                          \\>0.9\n",
       "\n",
       "  infect_SSTI                                                         138 (17%)                                                           102 (18%)                                                           36 (14%)                                                            0.70                                                                0.46, 1.04                                                          0.085\n",
       "\n",
       "  infect_CNS                                                          65 (8.0%)                                                           45 (8.2%)                                                           20 (7.6%)                                                           0.92                                                                0.52, 1.58                                                          0.8\n",
       "\n",
       "  infect_IAI                                                          49 (6.0%)                                                           34 (6.2%)                                                           15 (5.7%)                                                           0.92                                                                0.48, 1.69                                                          0.8\n",
       "\n",
       "  infect_UTI                                                          52 (6.4%)                                                           33 (6.0%)                                                           19 (7.2%)                                                           1.22                                                                0.67, 2.17                                                          0.5\n",
       "\n",
       "  infect_BJI                                                          11 (1.3%)                                                           10 (1.8%)                                                           1 (0.4%)                                                            0.21                                                                0.01, 1.08                                                          0.13\n",
       "\n",
       "  infect_septicemia                                                   265 (32%)                                                           176 (32%)                                                           89 (34%)                                                            1.09                                                                0.79, 1.48                                                          0.6\n",
       "\n",
       "  comed_aspirin                                                       44 (5.4%)                                                           28 (5.1%)                                                           16 (6.1%)                                                           1.21                                                                0.63, 2.25                                                          0.6\n",
       "\n",
       "  comed_diclofenac                                                    27 (3.3%)                                                           20 (3.6%)                                                           7 (2.7%)                                                            0.72                                                                0.28, 1.66                                                          0.5\n",
       "\n",
       "  comed_ibuprofen                                                     20 (2.5%)                                                           15 (2.7%)                                                           5 (1.9%)                                                            0.69                                                                0.22, 1.81                                                          0.5\n",
       "\n",
       "  comed_paracetamol                                                   365 (45%)                                                           246 (45%)                                                           119 (45%)                                                           1.02                                                                0.76, 1.37                                                          0.9\n",
       "\n",
       "  comed_penicillin                                                    179 (22%)                                                           112 (20%)                                                           67 (25%)                                                            1.34                                                                0.94, 1.88                                                          0.10\n",
       "\n",
       "  comed_cepha                                                         210 (26%)                                                           150 (27%)                                                           60 (23%)                                                            0.79                                                                0.56, 1.11                                                          0.2\n",
       "\n",
       "  comed_carbapenem                                                    591 (72%)                                                           385 (70%)                                                           206 (78%)                                                           1.54                                                                1.10, 2.18                                                          0.014\n",
       "\n",
       "  comed_cotrimoxazol                                                  70 (8.6%)                                                           40 (7.2%)                                                           30 (11%)                                                            1.64                                                                0.99, 2.69                                                          0.051\n",
       "\n",
       "  comed_vancomycin                                                    76 (9.3%)                                                           47 (8.5%)                                                           29 (11%)                                                            1.33                                                                0.81, 2.15                                                          0.3\n",
       "\n",
       "  comed_levofloxacin                                                  246 (30%)                                                           156 (28%)                                                           90 (34%)                                                            1.31                                                                0.96, 1.80                                                          0.090\n",
       "\n",
       "  comed_teicoplanin                                                   38 (4.7%)                                                           24 (4.3%)                                                           14 (5.3%)                                                           1.23                                                                0.61, 2.39                                                          0.5\n",
       "\n",
       "  comed_ethambutol                                                    8 (1.0%)                                                            5 (0.9%)                                                            3 (1.1%)                                                            1.26                                                                0.26, 5.16                                                          0.8\n",
       "\n",
       "  comed_pyrazinamid                                                   12 (1.5%)                                                           6 (1.1%)                                                            6 (2.3%)                                                            2.12                                                                0.66, 6.83                                                          0.2\n",
       "\n",
       "  comed_rifampin                                                      15 (1.8%)                                                           8 (1.4%)                                                            7 (2.7%)                                                            1.85                                                                0.64, 5.21                                                          0.2\n",
       "\n",
       "  comed_heparin                                                       214 (26%)                                                           110 (20%)                                                           104 (39%)                                                           2.61                                                                1.89, 3.61                                                          \\<0.001\n",
       "\n",
       "  comed_clopidogrel                                                   42 (5.1%)                                                           31 (5.6%)                                                           11 (4.2%)                                                           0.73                                                                0.35, 1.43                                                          0.4\n",
       "\n",
       "  comed_enoxaparin                                                    356 (44%)                                                           237 (43%)                                                           119 (45%)                                                           1.09                                                                0.81, 1.47                                                          0.6\n",
       "\n",
       "  comed_dexamethason                                                  105 (13%)                                                           72 (13%)                                                            33 (13%)                                                            0.95                                                                0.61, 1.47                                                          0.8\n",
       "\n",
       "  comed_amiodaron                                                     36 (4.4%)                                                           17 (3.1%)                                                           19 (7.2%)                                                           2.44                                                                1.24, 4.82                                                          0.009\n",
       "\n",
       "  comed_furosemid                                                     440 (54%)                                                           260 (47%)                                                           180 (68%)                                                           2.41                                                                1.77, 3.29                                                          \\<0.001\n",
       "\n",
       "  comed_haloperidol                                                   52 (6.4%)                                                           35 (6.3%)                                                           17 (6.4%)                                                           1.02                                                                0.55, 1.82                                                          \\>0.9\n",
       "\n",
       "  comed_valproic                                                      32 (3.9%)                                                           23 (4.2%)                                                           9 (3.4%)                                                            0.81                                                                0.35, 1.72                                                          0.6\n",
       "\n",
       "  comed_aceclofenac                                                   0 (0%)                                                              0 (0%)                                                              0 (0%)                                                              \\                                                                   \\                                                                   \\\n",
       "\n",
       "  comed_naproxen                                                      0 (0%)                                                              0 (0%)                                                              0 (0%)                                                              \\                                                                   \\                                                                   \\\n",
       "\n",
       "  comed_daptomycin                                                    1 (0.1%)                                                            0 (0%)                                                              1 (0.4%)                                                            \\                                                                   \\                                                                   \\\n",
       "\n",
       "  comed_cetirizin                                                     6 (0.7%)                                                            5 (0.9%)                                                            1 (0.4%)                                                            \\                                                                   \\                                                                   \\\n",
       "\n",
       "  comed_simvas                                                        0 (0%)                                                              0 (0%)                                                              0 (0%)                                                              \\                                                                   \\                                                                   \\\n",
       "\n",
       "  comed_bisoprolol                                                    6 (0.7%)                                                            4 (0.7%)                                                            2 (0.8%)                                                            \\                                                                   \\                                                                   \\\n",
       "\n",
       "  comed_diltiazem                                                     0 (0%)                                                              0 (0%)                                                              0 (0%)                                                              \\                                                                   \\                                                                   \\\n",
       "\n",
       "  comed_eptifibatid                                                   0 (0%)                                                              0 (0%)                                                              0 (0%)                                                              \\                                                                   \\                                                                   \\\n",
       "\n",
       "  comed_quinidin                                                      0 (0%)                                                              0 (0%)                                                              0 (0%)                                                              \\                                                                   \\                                                                   \\\n",
       "\n",
       "  comed_carbamazepin                                                  8 (1.0%)                                                            8 (1.4%)                                                            0 (0%)                                                              \\                                                                   \\                                                                   \\\n",
       "\n",
       "  comed_phenytoin                                                     0 (0%)                                                              0 (0%)                                                              0 (0%)                                                              \\                                                                   \\                                                                   \\\n",
       "\n",
       "  comed_mirtazapin                                                    0 (0%)                                                              0 (0%)                                                              0 (0%)                                                              \\                                                                   \\                                                                   \\\n",
       "\n",
       "  comed_quetiapin                                                     4 (0.5%)                                                            4 (0.7%)                                                            0 (0%)                                                              \\                                                                   \\                                                                   \\\n",
       "\n",
       "  comed_ondansetron                                                   6 (0.7%)                                                            4 (0.7%)                                                            2 (0.8%)                                                            \\                                                                   \\                                                                   \\\n",
       "\n",
       "  comed_palonosetron                                                  0 (0%)                                                              0 (0%)                                                              0 (0%)                                                              \\                                                                   \\                                                                   \\\n",
       "\n",
       "  comed_oseltamivir                                                   2 (0.2%)                                                            1 (0.2%)                                                            1 (0.4%)                                                            \\                                                                   \\                                                                   \\\n",
       "\n",
       "  comed_quinin                                                        0 (0%)                                                              0 (0%)                                                              0 (0%)                                                              \\                                                                   \\                                                                   \\\n",
       "\n",
       "  comed_pembrolizumab                                                 0 (0%)                                                              0 (0%)                                                              0 (0%)                                                              \\                                                                   \\                                                                   \\\n",
       "\n",
       "  comed_trastuzumab                                                   0 (0%)                                                              0 (0%)                                                              0 (0%)                                                              \\                                                                   \\                                                                   \\\n",
       "\n",
       "  comed_atezolizumab                                                  0 (0%)                                                              0 (0%)                                                              0 (0%)                                                              \\                                                                   \\                                                                   \\\n",
       "\n",
       "  comed_durvalumab                                                    0 (0%)                                                              0 (0%)                                                              0 (0%)                                                              \\                                                                   \\                                                                   \\\n",
       "\n",
       "  comed_IVIG                                                          0 (0%)                                                              0 (0%)                                                              0 (0%)                                                              \\                                                                   \\                                                                   \\\n",
       "\n",
       "  comed_tacrolimus                                                    1 (0.1%)                                                            0 (0%)                                                              1 (0.4%)                                                            \\                                                                   \\                                                                   \\\n",
       "\n",
       "  comed_fluorouracil                                                  0 (0%)                                                              0 (0%)                                                              0 (0%)                                                              \\                                                                   \\                                                                   \\\n",
       "\n",
       "  comed_irinotecan                                                    0 (0%)                                                              0 (0%)                                                              0 (0%)                                                              \\                                                                   \\                                                                   \\\n",
       "\n",
       "  comed_leucovorin                                                    0 (0%)                                                              0 (0%)                                                              0 (0%)                                                              \\                                                                   \\                                                                   \\\n",
       "\n",
       "  comed_oxaliplatin                                                   0 (0%)                                                              0 (0%)                                                              0 (0%)                                                              \\                                                                   \\                                                                   \\\n",
       "\n",
       "  [^1^]{.gt_footnote_marks                                                                                                                                                                                                                                                                                                                                                                                                \n",
       "  style=\"white-space:nowrap;font-style:italic;font-weight:normal;\"}                                                                                                                                                                                                                                                                                                                                                       \n",
       "  Median (IQR); n (%)                                                                                                                                                                                                                                                                                                                                                                                                     \n",
       "\n",
       "  [^2^]{.gt_footnote_marks                                                                                                                                                                                                                                                                                                                                                                                                \n",
       "  style=\"white-space:nowrap;font-style:italic;font-weight:normal;\"}                                                                                                                                                                                                                                                                                                                                                       \n",
       "  OR = Odds Ratio, CI = Confidence Interval                                                                                                                                                                                                                                                                                                                                                                               \n",
       "  -------------------------------------------------------------------------------------------------------------------------------------------------------------------------------------------------------------------------------------------------------------------------------------------------------------------------------------------------------------------------------------------------------------------------------------\n"
      ]
     }
    }
   ],
   "source": [
    "table_descriptive <- tbl_merge(\n",
    "  list(table_stats, table_uni),\n",
    "  tab_spanner = c(\n",
    "    \"**Thrombocytopenia Status**\",\n",
    "    \"**Univariate Regression**\"\n",
    "  )\n",
    ")\n",
    "\n",
    "table_descriptive"
   ],
   "id": "85055f81-85eb-439e-b0f1-028f64b5705e"
  },
  {
   "cell_type": "markdown",
   "metadata": {},
   "source": [
    "Summary statistics, by site."
   ],
   "id": "c6c0b52b-730c-4cab-a0d8-62871dabfb87"
  },
  {
   "cell_type": "code",
   "execution_count": null,
   "metadata": {},
   "outputs": [
    {
     "output_type": "stream",
     "name": "stderr",
     "text": [
      "There was an error in 'add_p()/add_difference()' for variable 'comed_aceclofenac', p-value omitted:\n",
      "Error in stats::chisq.test(x = c(FALSE, FALSE, FALSE, FALSE, FALSE, FALSE, : 'x' and 'y' must have at least 2 levels"
     ]
    },
    {
     "output_type": "stream",
     "name": "stderr",
     "text": [
      "There was an error in 'add_p()/add_difference()' for variable 'comed_naproxen', p-value omitted:\n",
      "Error in stats::chisq.test(x = c(FALSE, FALSE, FALSE, FALSE, FALSE, FALSE, : 'x' and 'y' must have at least 2 levels"
     ]
    },
    {
     "output_type": "stream",
     "name": "stderr",
     "text": [
      "There was an error in 'add_p()/add_difference()' for variable 'comed_simvas', p-value omitted:\n",
      "Error in stats::chisq.test(x = c(FALSE, FALSE, FALSE, FALSE, FALSE, FALSE, : 'x' and 'y' must have at least 2 levels"
     ]
    },
    {
     "output_type": "stream",
     "name": "stderr",
     "text": [
      "There was an error in 'add_p()/add_difference()' for variable 'comed_diltiazem', p-value omitted:\n",
      "Error in stats::chisq.test(x = c(FALSE, FALSE, FALSE, FALSE, FALSE, FALSE, : 'x' and 'y' must have at least 2 levels"
     ]
    },
    {
     "output_type": "stream",
     "name": "stderr",
     "text": [
      "There was an error in 'add_p()/add_difference()' for variable 'comed_eptifibatid', p-value omitted:\n",
      "Error in stats::chisq.test(x = c(FALSE, FALSE, FALSE, FALSE, FALSE, FALSE, : 'x' and 'y' must have at least 2 levels"
     ]
    },
    {
     "output_type": "stream",
     "name": "stderr",
     "text": [
      "There was an error in 'add_p()/add_difference()' for variable 'comed_quinidin', p-value omitted:\n",
      "Error in stats::chisq.test(x = c(FALSE, FALSE, FALSE, FALSE, FALSE, FALSE, : 'x' and 'y' must have at least 2 levels"
     ]
    },
    {
     "output_type": "stream",
     "name": "stderr",
     "text": [
      "There was an error in 'add_p()/add_difference()' for variable 'comed_phenytoin', p-value omitted:\n",
      "Error in stats::chisq.test(x = c(FALSE, FALSE, FALSE, FALSE, FALSE, FALSE, : 'x' and 'y' must have at least 2 levels"
     ]
    },
    {
     "output_type": "stream",
     "name": "stderr",
     "text": [
      "There was an error in 'add_p()/add_difference()' for variable 'comed_mirtazapin', p-value omitted:\n",
      "Error in stats::chisq.test(x = c(FALSE, FALSE, FALSE, FALSE, FALSE, FALSE, : 'x' and 'y' must have at least 2 levels"
     ]
    },
    {
     "output_type": "stream",
     "name": "stderr",
     "text": [
      "There was an error in 'add_p()/add_difference()' for variable 'comed_palonosetron', p-value omitted:\n",
      "Error in stats::chisq.test(x = c(FALSE, FALSE, FALSE, FALSE, FALSE, FALSE, : 'x' and 'y' must have at least 2 levels"
     ]
    },
    {
     "output_type": "stream",
     "name": "stderr",
     "text": [
      "There was an error in 'add_p()/add_difference()' for variable 'comed_quinin', p-value omitted:\n",
      "Error in stats::chisq.test(x = c(FALSE, FALSE, FALSE, FALSE, FALSE, FALSE, : 'x' and 'y' must have at least 2 levels"
     ]
    },
    {
     "output_type": "stream",
     "name": "stderr",
     "text": [
      "There was an error in 'add_p()/add_difference()' for variable 'comed_pembrolizumab', p-value omitted:\n",
      "Error in stats::chisq.test(x = c(FALSE, FALSE, FALSE, FALSE, FALSE, FALSE, : 'x' and 'y' must have at least 2 levels"
     ]
    },
    {
     "output_type": "stream",
     "name": "stderr",
     "text": [
      "There was an error in 'add_p()/add_difference()' for variable 'comed_trastuzumab', p-value omitted:\n",
      "Error in stats::chisq.test(x = c(FALSE, FALSE, FALSE, FALSE, FALSE, FALSE, : 'x' and 'y' must have at least 2 levels"
     ]
    },
    {
     "output_type": "stream",
     "name": "stderr",
     "text": [
      "There was an error in 'add_p()/add_difference()' for variable 'comed_atezolizumab', p-value omitted:\n",
      "Error in stats::chisq.test(x = c(FALSE, FALSE, FALSE, FALSE, FALSE, FALSE, : 'x' and 'y' must have at least 2 levels"
     ]
    },
    {
     "output_type": "stream",
     "name": "stderr",
     "text": [
      "There was an error in 'add_p()/add_difference()' for variable 'comed_durvalumab', p-value omitted:\n",
      "Error in stats::chisq.test(x = c(FALSE, FALSE, FALSE, FALSE, FALSE, FALSE, : 'x' and 'y' must have at least 2 levels"
     ]
    },
    {
     "output_type": "stream",
     "name": "stderr",
     "text": [
      "There was an error in 'add_p()/add_difference()' for variable 'comed_IVIG', p-value omitted:\n",
      "Error in stats::chisq.test(x = c(FALSE, FALSE, FALSE, FALSE, FALSE, FALSE, : 'x' and 'y' must have at least 2 levels"
     ]
    },
    {
     "output_type": "stream",
     "name": "stderr",
     "text": [
      "There was an error in 'add_p()/add_difference()' for variable 'comed_fluorouracil', p-value omitted:\n",
      "Error in stats::chisq.test(x = c(FALSE, FALSE, FALSE, FALSE, FALSE, FALSE, : 'x' and 'y' must have at least 2 levels"
     ]
    },
    {
     "output_type": "stream",
     "name": "stderr",
     "text": [
      "There was an error in 'add_p()/add_difference()' for variable 'comed_irinotecan', p-value omitted:\n",
      "Error in stats::chisq.test(x = c(FALSE, FALSE, FALSE, FALSE, FALSE, FALSE, : 'x' and 'y' must have at least 2 levels"
     ]
    },
    {
     "output_type": "stream",
     "name": "stderr",
     "text": [
      "There was an error in 'add_p()/add_difference()' for variable 'comed_leucovorin', p-value omitted:\n",
      "Error in stats::chisq.test(x = c(FALSE, FALSE, FALSE, FALSE, FALSE, FALSE, : 'x' and 'y' must have at least 2 levels"
     ]
    },
    {
     "output_type": "stream",
     "name": "stderr",
     "text": [
      "There was an error in 'add_p()/add_difference()' for variable 'comed_oxaliplatin', p-value omitted:\n",
      "Error in stats::chisq.test(x = c(FALSE, FALSE, FALSE, FALSE, FALSE, FALSE, : 'x' and 'y' must have at least 2 levels"
     ]
    },
    {
     "output_type": "display_data",
     "metadata": {},
     "data": {
      "text/html": [
       "\n",
       "</div>"
      ],
      "text/markdown": [
       "  -----------------------------------------------------------------------------------------------------------------------------------------------------------------------------------------------------------------------------------------------------------------------------------------------------------------------------------------------------------------------------------------------------------------------------------------------------------------------------------------------------------------------------------------------------------------------------------------------------------------------------------\n",
       "  **Characteristic**                                                  **Overall**, N = 816[^1^]{.gt_footnote_marks                        **BM1**, N = 125[^1^]{.gt_footnote_marks                            **BM2**, N = 77[^1^]{.gt_footnote_marks                             **ND1**, N = 179[^1^]{.gt_footnote_marks                            **ND2**, N = 116[^1^]{.gt_footnote_marks                            **TN1**, N = 100[^1^]{.gt_footnote_marks                            **TN2**, N = 219[^1^]{.gt_footnote_marks                            **p-value**[^2^]{.gt_footnote_marks\n",
       "                                                                      style=\"white-space:nowrap;font-style:italic;font-weight:normal;\"}   style=\"white-space:nowrap;font-style:italic;font-weight:normal;\"}   style=\"white-space:nowrap;font-style:italic;font-weight:normal;\"}   style=\"white-space:nowrap;font-style:italic;font-weight:normal;\"}   style=\"white-space:nowrap;font-style:italic;font-weight:normal;\"}   style=\"white-space:nowrap;font-style:italic;font-weight:normal;\"}   style=\"white-space:nowrap;font-style:italic;font-weight:normal;\"}   style=\"white-space:nowrap;font-style:italic;font-weight:normal;\"}\n",
       "  ------------------------------------------------------------------- ------------------------------------------------------------------- ------------------------------------------------------------------- ------------------------------------------------------------------- ------------------------------------------------------------------- ------------------------------------------------------------------- ------------------------------------------------------------------- ------------------------------------------------------------------- -------------------------------------------------------------------\n",
       "  patient_age                                                         62 (50 - 73)                                                        58 (43 - 69)                                                        60 (45 - 72)                                                        60 (45 - 68)                                                        59 (46 - 68)                                                        69 (60 - 78)                                                        66 (58 - 78)                                                        \\<0.001\n",
       "\n",
       "  patient_sex                                                         306 (38%)                                                           54 (43%)                                                            27 (35%)                                                            73 (41%)                                                            28 (24%)                                                            48 (48%)                                                            76 (35%)                                                            0.004\n",
       "\n",
       "  patient_weight                                                      55 (50 - 60)                                                        53 (47 - 60)                                                        56 (50 - 63)                                                        56 (50 - 62)                                                        55 (50 - 60)                                                        50 (49 - 60)                                                        55 (50 - 60)                                                        0.028\n",
       "\n",
       "  baseline_CLCR                                                       48 (21 - 84)                                                        50 (24 - 80)                                                        40 (17 - 86)                                                        70 (41 - 104)                                                       60 (27 - 95)                                                        29 (14 - 54)                                                        35 (17 - 67)                                                        \\<0.001\n",
       "\n",
       "  dept_ER                                                             140 (17%)                                                           7 (5.6%)                                                            9 (12%)                                                             67 (37%)                                                            15 (13%)                                                            16 (16%)                                                            26 (12%)                                                            \\<0.001\n",
       "\n",
       "  dept_ICU                                                            390 (48%)                                                           10 (8.0%)                                                           23 (30%)                                                            73 (41%)                                                            42 (36%)                                                            77 (77%)                                                            165 (75%)                                                           \\<0.001\n",
       "\n",
       "  baseline_HGB                                                        102 (89 - 120)                                                      105 (91 - 124)                                                      99 (83 - 118)                                                       105 (89 - 123)                                                      100 (88 - 118)                                                      99 (89 - 116)                                                       104 (91 - 120)                                                      0.2\n",
       "\n",
       "  baseline_WBC                                                        12 (8 - 17)                                                         11 (7 - 16)                                                         11 (7 - 17)                                                         12 (8 - 18)                                                         11 (7 - 15)                                                         12 (8 - 18)                                                         13 (9 - 18)                                                         0.023\n",
       "\n",
       "  baseline_PLT                                                        206 (143 - 288)                                                     195 (139 - 247)                                                     234 (160 - 318)                                                     207 (129 - 293)                                                     225 (127 - 310)                                                     172 (122 - 245)                                                     225 (161 - 299)                                                     \\<0.001\n",
       "\n",
       "  LZD_duration                                                        9.0 (6.0 - 14.0)                                                    8.0 (6.0 - 13.0)                                                    10.0 (6.0 - 14.0)                                                   10.0 (6.0 - 14.0)                                                   9.0 (6.0 - 12.0)                                                    11.0 (6.0 - 15.0)                                                   9.0 (6.0 - 12.0)                                                    0.3\n",
       "\n",
       "  LZD_route                                                           \\                                                                   \\                                                                   \\                                                                   \\                                                                   \\                                                                   \\                                                                   \\                                                                   \\<0.001\n",
       "\n",
       "      IV                                                              792 (97%)                                                           111 (89%)                                                           67 (87%)                                                            179 (100%)                                                          116 (100%)                                                          100 (100%)                                                          219 (100%)                                                          \\\n",
       "\n",
       "      IV&PO                                                           9 (1.1%)                                                            6 (4.8%)                                                            3 (3.9%)                                                            0 (0%)                                                              0 (0%)                                                              0 (0%)                                                              0 (0%)                                                              \\\n",
       "\n",
       "      PO                                                              15 (1.8%)                                                           8 (6.4%)                                                            7 (9.1%)                                                            0 (0%)                                                              0 (0%)                                                              0 (0%)                                                              0 (0%)                                                              \\\n",
       "\n",
       "  invasive_ETI                                                        374 (46%)                                                           63 (50%)                                                            30 (39%)                                                            111 (62%)                                                           45 (39%)                                                            48 (48%)                                                            77 (35%)                                                            \\<0.001\n",
       "\n",
       "  invasive_CVC                                                        404 (50%)                                                           75 (60%)                                                            30 (39%)                                                            99 (55%)                                                            44 (38%)                                                            50 (50%)                                                            106 (48%)                                                           0.003\n",
       "\n",
       "  invasive_IHD                                                        104 (13%)                                                           17 (14%)                                                            16 (21%)                                                            9 (5.0%)                                                            0 (0%)                                                              27 (27%)                                                            35 (16%)                                                            \\<0.001\n",
       "\n",
       "  invasive_CRRT                                                       136 (17%)                                                           17 (14%)                                                            9 (12%)                                                             52 (29%)                                                            7 (6.0%)                                                            20 (20%)                                                            31 (14%)                                                            \\<0.001\n",
       "\n",
       "  comorb_HTN                                                          343 (42%)                                                           42 (34%)                                                            31 (40%)                                                            49 (27%)                                                            39 (34%)                                                            59 (59%)                                                            123 (56%)                                                           \\<0.001\n",
       "\n",
       "  comorb_DM                                                           217 (27%)                                                           28 (22%)                                                            24 (31%)                                                            28 (16%)                                                            22 (19%)                                                            31 (31%)                                                            84 (38%)                                                            \\<0.001\n",
       "\n",
       "  comorb_HF                                                           223 (27%)                                                           55 (44%)                                                            11 (14%)                                                            14 (7.8%)                                                           5 (4.3%)                                                            70 (70%)                                                            68 (31%)                                                            \\<0.001\n",
       "\n",
       "  comorb_angina                                                       36 (4.4%)                                                           0 (0%)                                                              0 (0%)                                                              1 (0.6%)                                                            1 (0.9%)                                                            13 (13%)                                                            21 (9.6%)                                                           \\<0.001\n",
       "\n",
       "  comorb_cirr                                                         47 (5.8%)                                                           6 (4.8%)                                                            1 (1.3%)                                                            10 (5.6%)                                                           4 (3.4%)                                                            12 (12%)                                                            14 (6.4%)                                                           0.062\n",
       "\n",
       "  comorb_COPD                                                         39 (4.8%)                                                           3 (2.4%)                                                            0 (0%)                                                              2 (1.1%)                                                            2 (1.7%)                                                            9 (9.0%)                                                            23 (11%)                                                            \\<0.001\n",
       "\n",
       "  comorb_CVA                                                          93 (11%)                                                            19 (15%)                                                            11 (14%)                                                            6 (3.4%)                                                            4 (3.4%)                                                            16 (16%)                                                            37 (17%)                                                            \\<0.001\n",
       "\n",
       "  comorb_MI                                                           20 (2.5%)                                                           10 (8.0%)                                                           3 (3.9%)                                                            2 (1.1%)                                                            0 (0%)                                                              1 (1.0%)                                                            4 (1.8%)                                                            \\<0.001\n",
       "\n",
       "  comorb_K                                                            67 (8.2%)                                                           5 (4.0%)                                                            5 (6.5%)                                                            8 (4.5%)                                                            6 (5.2%)                                                            11 (11%)                                                            32 (15%)                                                            \\<0.001\n",
       "\n",
       "  comorb_hematological                                                46 (5.6%)                                                           9 (7.2%)                                                            12 (16%)                                                            10 (5.6%)                                                           5 (4.3%)                                                            8 (8.0%)                                                            2 (0.9%)                                                            \\<0.001\n",
       "\n",
       "  comorb_hema                                                         62 (7.6%)                                                           13 (10%)                                                            17 (22%)                                                            14 (7.8%)                                                           2 (1.7%)                                                            13 (13%)                                                            3 (1.4%)                                                            \\<0.001\n",
       "\n",
       "  infect_sepsis                                                       127 (16%)                                                           10 (8.0%)                                                           14 (18%)                                                            16 (8.9%)                                                           17 (15%)                                                            44 (44%)                                                            26 (12%)                                                            \\<0.001\n",
       "\n",
       "  infect_CAP                                                          119 (15%)                                                           7 (5.6%)                                                            6 (7.8%)                                                            11 (6.1%)                                                           2 (1.7%)                                                            26 (26%)                                                            67 (31%)                                                            \\<0.001\n",
       "\n",
       "  infect_HAP                                                          372 (46%)                                                           38 (30%)                                                            33 (43%)                                                            93 (52%)                                                            56 (48%)                                                            52 (52%)                                                            100 (46%)                                                           0.005\n",
       "\n",
       "  infect_SSTI                                                         138 (17%)                                                           33 (26%)                                                            34 (44%)                                                            5 (2.8%)                                                            5 (4.3%)                                                            23 (23%)                                                            38 (17%)                                                            \\<0.001\n",
       "\n",
       "  infect_CNS                                                          65 (8.0%)                                                           0 (0%)                                                              5 (6.5%)                                                            24 (13%)                                                            17 (15%)                                                            4 (4.0%)                                                            15 (6.8%)                                                           \\<0.001\n",
       "\n",
       "  infect_IAI                                                          49 (6.0%)                                                           8 (6.4%)                                                            8 (10%)                                                             1 (0.6%)                                                            2 (1.7%)                                                            12 (12%)                                                            18 (8.2%)                                                           \\<0.001\n",
       "\n",
       "  infect_UTI                                                          52 (6.4%)                                                           6 (4.8%)                                                            8 (10%)                                                             10 (5.6%)                                                           3 (2.6%)                                                            4 (4.0%)                                                            21 (9.6%)                                                           0.072\n",
       "\n",
       "  infect_BJI                                                          11 (1.3%)                                                           3 (2.4%)                                                            0 (0%)                                                              0 (0%)                                                              2 (1.7%)                                                            1 (1.0%)                                                            5 (2.3%)                                                            0.2\n",
       "\n",
       "  infect_septicemia                                                   265 (32%)                                                           35 (28%)                                                            24 (31%)                                                            57 (32%)                                                            66 (57%)                                                            7 (7.0%)                                                            76 (35%)                                                            \\<0.001\n",
       "\n",
       "  comed_aspirin                                                       44 (5.4%)                                                           8 (6.4%)                                                            9 (12%)                                                             3 (1.7%)                                                            0 (0%)                                                              5 (5.0%)                                                            19 (8.7%)                                                           \\<0.001\n",
       "\n",
       "  comed_diclofenac                                                    27 (3.3%)                                                           24 (19%)                                                            0 (0%)                                                              0 (0%)                                                              1 (0.9%)                                                            0 (0%)                                                              2 (0.9%)                                                            \\<0.001\n",
       "\n",
       "  comed_ibuprofen                                                     20 (2.5%)                                                           0 (0%)                                                              0 (0%)                                                              0 (0%)                                                              2 (1.7%)                                                            0 (0%)                                                              18 (8.2%)                                                           \\<0.001\n",
       "\n",
       "  comed_paracetamol                                                   365 (45%)                                                           66 (53%)                                                            0 (0%)                                                              92 (51%)                                                            69 (59%)                                                            47 (47%)                                                            91 (42%)                                                            \\<0.001\n",
       "\n",
       "  comed_penicillin                                                    179 (22%)                                                           0 (0%)                                                              5 (6.5%)                                                            34 (19%)                                                            19 (16%)                                                            17 (17%)                                                            104 (47%)                                                           \\<0.001\n",
       "\n",
       "  comed_cepha                                                         210 (26%)                                                           12 (9.6%)                                                           10 (13%)                                                            36 (20%)                                                            33 (28%)                                                            11 (11%)                                                            108 (49%)                                                           \\<0.001\n",
       "\n",
       "  comed_carbapenem                                                    591 (72%)                                                           52 (42%)                                                            46 (60%)                                                            158 (88%)                                                           78 (67%)                                                            80 (80%)                                                            177 (81%)                                                           \\<0.001\n",
       "\n",
       "  comed_cotrimoxazol                                                  70 (8.6%)                                                           0 (0%)                                                              5 (6.5%)                                                            20 (11%)                                                            14 (12%)                                                            9 (9.0%)                                                            22 (10%)                                                            0.007\n",
       "\n",
       "  comed_vancomycin                                                    76 (9.3%)                                                           8 (6.4%)                                                            3 (3.9%)                                                            10 (5.6%)                                                           22 (19%)                                                            3 (3.0%)                                                            30 (14%)                                                            \\<0.001\n",
       "\n",
       "  comed_levofloxacin                                                  246 (30%)                                                           27 (22%)                                                            6 (7.8%)                                                            24 (13%)                                                            20 (17%)                                                            34 (34%)                                                            135 (62%)                                                           \\<0.001\n",
       "\n",
       "  comed_teicoplanin                                                   38 (4.7%)                                                           0 (0%)                                                              0 (0%)                                                              7 (3.9%)                                                            2 (1.7%)                                                            0 (0%)                                                              29 (13%)                                                            \\<0.001\n",
       "\n",
       "  comed_ethambutol                                                    8 (1.0%)                                                            0 (0%)                                                              0 (0%)                                                              2 (1.1%)                                                            6 (5.2%)                                                            0 (0%)                                                              0 (0%)                                                              \\<0.001\n",
       "\n",
       "  comed_pyrazinamid                                                   12 (1.5%)                                                           0 (0%)                                                              0 (0%)                                                              5 (2.8%)                                                            7 (6.0%)                                                            0 (0%)                                                              0 (0%)                                                              \\<0.001\n",
       "\n",
       "  comed_rifampin                                                      15 (1.8%)                                                           0 (0%)                                                              0 (0%)                                                              5 (2.8%)                                                            9 (7.8%)                                                            1 (1.0%)                                                            0 (0%)                                                              \\<0.001\n",
       "\n",
       "  comed_heparin                                                       214 (26%)                                                           12 (9.6%)                                                           2 (2.6%)                                                            74 (41%)                                                            24 (21%)                                                            33 (33%)                                                            69 (32%)                                                            \\<0.001\n",
       "\n",
       "  comed_clopidogrel                                                   42 (5.1%)                                                           7 (5.6%)                                                            4 (5.2%)                                                            1 (0.6%)                                                            0 (0%)                                                              8 (8.0%)                                                            22 (10%)                                                            \\<0.001\n",
       "\n",
       "  comed_enoxaparin                                                    356 (44%)                                                           33 (26%)                                                            13 (17%)                                                            119 (66%)                                                           44 (38%)                                                            40 (40%)                                                            107 (49%)                                                           \\<0.001\n",
       "\n",
       "  comed_dexamethason                                                  105 (13%)                                                           0 (0%)                                                              0 (0%)                                                              75 (42%)                                                            20 (17%)                                                            2 (2.0%)                                                            8 (3.7%)                                                            \\<0.001\n",
       "\n",
       "  comed_amiodaron                                                     36 (4.4%)                                                           8 (6.4%)                                                            0 (0%)                                                              14 (7.8%)                                                           5 (4.3%)                                                            4 (4.0%)                                                            5 (2.3%)                                                            0.026\n",
       "\n",
       "  comed_furosemid                                                     440 (54%)                                                           72 (58%)                                                            15 (19%)                                                            81 (45%)                                                            49 (42%)                                                            71 (71%)                                                            152 (69%)                                                           \\<0.001\n",
       "\n",
       "  comed_haloperidol                                                   52 (6.4%)                                                           3 (2.4%)                                                            4 (5.2%)                                                            21 (12%)                                                            4 (3.4%)                                                            5 (5.0%)                                                            15 (6.8%)                                                           0.028\n",
       "\n",
       "  comed_valproic                                                      32 (3.9%)                                                           0 (0%)                                                              1 (1.3%)                                                            10 (5.6%)                                                           5 (4.3%)                                                            3 (3.0%)                                                            13 (5.9%)                                                           0.025\n",
       "\n",
       "  comed_aceclofenac                                                   0 (0%)                                                              0 (0%)                                                              0 (0%)                                                              0 (0%)                                                              0 (0%)                                                              0 (0%)                                                              0 (0%)                                                              \\\n",
       "\n",
       "  comed_naproxen                                                      0 (0%)                                                              0 (0%)                                                              0 (0%)                                                              0 (0%)                                                              0 (0%)                                                              0 (0%)                                                              0 (0%)                                                              \\\n",
       "\n",
       "  comed_daptomycin                                                    1 (0.1%)                                                            0 (0%)                                                              0 (0%)                                                              0 (0%)                                                              1 (0.9%)                                                            0 (0%)                                                              0 (0%)                                                              0.4\n",
       "\n",
       "  comed_cetirizin                                                     6 (0.7%)                                                            0 (0%)                                                              0 (0%)                                                              0 (0%)                                                              0 (0%)                                                              0 (0%)                                                              6 (2.7%)                                                            0.017\n",
       "\n",
       "  comed_simvas                                                        0 (0%)                                                              0 (0%)                                                              0 (0%)                                                              0 (0%)                                                              0 (0%)                                                              0 (0%)                                                              0 (0%)                                                              \\\n",
       "\n",
       "  comed_bisoprolol                                                    6 (0.7%)                                                            4 (3.2%)                                                            0 (0%)                                                              1 (0.6%)                                                            1 (0.9%)                                                            0 (0%)                                                              0 (0%)                                                              0.026\n",
       "\n",
       "  comed_diltiazem                                                     0 (0%)                                                              0 (0%)                                                              0 (0%)                                                              0 (0%)                                                              0 (0%)                                                              0 (0%)                                                              0 (0%)                                                              \\\n",
       "\n",
       "  comed_eptifibatid                                                   0 (0%)                                                              0 (0%)                                                              0 (0%)                                                              0 (0%)                                                              0 (0%)                                                              0 (0%)                                                              0 (0%)                                                              \\\n",
       "\n",
       "  comed_quinidin                                                      0 (0%)                                                              0 (0%)                                                              0 (0%)                                                              0 (0%)                                                              0 (0%)                                                              0 (0%)                                                              0 (0%)                                                              \\\n",
       "\n",
       "  comed_carbamazepin                                                  8 (1.0%)                                                            0 (0%)                                                              0 (0%)                                                              7 (3.9%)                                                            0 (0%)                                                              0 (0%)                                                              1 (0.5%)                                                            0.005\n",
       "\n",
       "  comed_phenytoin                                                     0 (0%)                                                              0 (0%)                                                              0 (0%)                                                              0 (0%)                                                              0 (0%)                                                              0 (0%)                                                              0 (0%)                                                              \\\n",
       "\n",
       "  comed_mirtazapin                                                    0 (0%)                                                              0 (0%)                                                              0 (0%)                                                              0 (0%)                                                              0 (0%)                                                              0 (0%)                                                              0 (0%)                                                              \\\n",
       "\n",
       "  comed_quetiapin                                                     4 (0.5%)                                                            1 (0.8%)                                                            1 (1.3%)                                                            0 (0%)                                                              0 (0%)                                                              0 (0%)                                                              2 (0.9%)                                                            0.5\n",
       "\n",
       "  comed_ondansetron                                                   6 (0.7%)                                                            2 (1.6%)                                                            1 (1.3%)                                                            0 (0%)                                                              3 (2.6%)                                                            0 (0%)                                                              0 (0%)                                                              0.020\n",
       "\n",
       "  comed_palonosetron                                                  0 (0%)                                                              0 (0%)                                                              0 (0%)                                                              0 (0%)                                                              0 (0%)                                                              0 (0%)                                                              0 (0%)                                                              \\\n",
       "\n",
       "  comed_oseltamivir                                                   2 (0.2%)                                                            1 (0.8%)                                                            1 (1.3%)                                                            0 (0%)                                                              0 (0%)                                                              0 (0%)                                                              0 (0%)                                                              0.13\n",
       "\n",
       "  comed_quinin                                                        0 (0%)                                                              0 (0%)                                                              0 (0%)                                                              0 (0%)                                                              0 (0%)                                                              0 (0%)                                                              0 (0%)                                                              \\\n",
       "\n",
       "  comed_pembrolizumab                                                 0 (0%)                                                              0 (0%)                                                              0 (0%)                                                              0 (0%)                                                              0 (0%)                                                              0 (0%)                                                              0 (0%)                                                              \\\n",
       "\n",
       "  comed_trastuzumab                                                   0 (0%)                                                              0 (0%)                                                              0 (0%)                                                              0 (0%)                                                              0 (0%)                                                              0 (0%)                                                              0 (0%)                                                              \\\n",
       "\n",
       "  comed_atezolizumab                                                  0 (0%)                                                              0 (0%)                                                              0 (0%)                                                              0 (0%)                                                              0 (0%)                                                              0 (0%)                                                              0 (0%)                                                              \\\n",
       "\n",
       "  comed_durvalumab                                                    0 (0%)                                                              0 (0%)                                                              0 (0%)                                                              0 (0%)                                                              0 (0%)                                                              0 (0%)                                                              0 (0%)                                                              \\\n",
       "\n",
       "  comed_IVIG                                                          0 (0%)                                                              0 (0%)                                                              0 (0%)                                                              0 (0%)                                                              0 (0%)                                                              0 (0%)                                                              0 (0%)                                                              \\\n",
       "\n",
       "  comed_tacrolimus                                                    1 (0.1%)                                                            1 (0.8%)                                                            0 (0%)                                                              0 (0%)                                                              0 (0%)                                                              0 (0%)                                                              0 (0%)                                                              0.5\n",
       "\n",
       "  comed_fluorouracil                                                  0 (0%)                                                              0 (0%)                                                              0 (0%)                                                              0 (0%)                                                              0 (0%)                                                              0 (0%)                                                              0 (0%)                                                              \\\n",
       "\n",
       "  comed_irinotecan                                                    0 (0%)                                                              0 (0%)                                                              0 (0%)                                                              0 (0%)                                                              0 (0%)                                                              0 (0%)                                                              0 (0%)                                                              \\\n",
       "\n",
       "  comed_leucovorin                                                    0 (0%)                                                              0 (0%)                                                              0 (0%)                                                              0 (0%)                                                              0 (0%)                                                              0 (0%)                                                              0 (0%)                                                              \\\n",
       "\n",
       "  comed_oxaliplatin                                                   0 (0%)                                                              0 (0%)                                                              0 (0%)                                                              0 (0%)                                                              0 (0%)                                                              0 (0%)                                                              0 (0%)                                                              \\\n",
       "\n",
       "  flag_ADR_TP_ID                                                      264 (32%)                                                           34 (27%)                                                            22 (29%)                                                            59 (33%)                                                            35 (30%)                                                            38 (38%)                                                            76 (35%)                                                            0.5\n",
       "\n",
       "  ADR_CTCAE_max                                                       \\                                                                   \\                                                                   \\                                                                   \\                                                                   \\                                                                   \\                                                                   \\                                                                   \\<0.001\n",
       "\n",
       "      1                                                               85 (32%)                                                            11 (32%)                                                            9 (41%)                                                             17 (29%)                                                            7 (20%)                                                             7 (18%)                                                             34 (45%)                                                            \\\n",
       "\n",
       "      2                                                               78 (30%)                                                            10 (29%)                                                            6 (27%)                                                             12 (20%)                                                            6 (17%)                                                             17 (45%)                                                            27 (36%)                                                            \\\n",
       "\n",
       "      3                                                               49 (19%)                                                            4 (12%)                                                             3 (14%)                                                             17 (29%)                                                            7 (20%)                                                             6 (16%)                                                             12 (16%)                                                            \\\n",
       "\n",
       "      4                                                               52 (20%)                                                            9 (26%)                                                             4 (18%)                                                             13 (22%)                                                            15 (43%)                                                            8 (21%)                                                             3 (3.9%)                                                            \\\n",
       "\n",
       "  ADR_onset_first                                                     4.0 (2.0 - 10.0)                                                    2.0 (1.0 - 9.8)                                                     3.5 (2.0 - 7.8)                                                     4.0 (2.0 - 9.0)                                                     6.0 (2.5 - 11.0)                                                    4.0 (2.0 - 9.0)                                                     6.0 (2.0 - 11.0)                                                    0.15\n",
       "\n",
       "  ADR_PLT_ratio                                                       0.37 (0.22 - 0.52)                                                  0.55 (0.26 - 0.64)                                                  0.39 (0.21 - 0.58)                                                  0.37 (0.26 - 0.50)                                                  0.30 (0.16 - 0.45)                                                  0.36 (0.20 - 0.48)                                                  0.35 (0.25 - 0.50)                                                  0.074\n",
       "\n",
       "  [^1^]{.gt_footnote_marks                                                                                                                                                                                                                                                                                                                                                                                                                                                                                                                                        \n",
       "  style=\"white-space:nowrap;font-style:italic;font-weight:normal;\"}                                                                                                                                                                                                                                                                                                                                                                                                                                                                                               \n",
       "  Median (IQR); n (%)                                                                                                                                                                                                                                                                                                                                                                                                                                                                                                                                             \n",
       "\n",
       "  [^2^]{.gt_footnote_marks                                                                                                                                                                                                                                                                                                                                                                                                                                                                                                                                        \n",
       "  style=\"white-space:nowrap;font-style:italic;font-weight:normal;\"}                                                                                                                                                                                                                                                                                                                                                                                                                                                                                               \n",
       "  Kruskal-Wallis rank sum test; Pearson's Chi-squared test; Fisher's                                                                                                                                                                                                                                                                                                                                                                                                                                                                                              \n",
       "  Exact Test for Count Data with simulated p-value (based on 2000                                                                                                                                                                                                                                                                                                                                                                                                                                                                                                 \n",
       "  replicates)                                                                                                                                                                                                                                                                                                                                                                                                                                                                                                                                                     \n",
       "  -----------------------------------------------------------------------------------------------------------------------------------------------------------------------------------------------------------------------------------------------------------------------------------------------------------------------------------------------------------------------------------------------------------------------------------------------------------------------------------------------------------------------------------------------------------------------------------------------------------------------------------\n"
      ]
     }
    }
   ],
   "source": [
    "table_descriptive_site <- data_patient_complete |>\n",
    "  select(\n",
    "    all_of(predictor_list), starts_with(\"comed\"), flag_ADR_TP_ID, site, ADR_CTCAE_max, ADR_onset_first, ADR_PLT_ratio\n",
    "  ) |>\n",
    "  tbl_summary(\n",
    "    by = site,\n",
    "    statistic = list(all_continuous() ~ \"{median} ({p25} - {p75})\"),\n",
    "    missing = \"no\"\n",
    "  ) |>\n",
    "  add_overall() |>\n",
    "  bold_labels() |>\n",
    "  add_p(\n",
    "    test.args = all_tests(\"fisher.test\") ~ list(simulate.p.value = TRUE)\n",
    "  ) |>\n",
    "  bold_p()"
   ],
   "id": "9d5069d3-d431-4a1f-b4be-db1942ff64ec"
  }
 ],
 "nbformat": 4,
 "nbformat_minor": 5,
 "metadata": {}
}
