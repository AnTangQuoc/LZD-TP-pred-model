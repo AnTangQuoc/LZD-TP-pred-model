{
 "cells": [
  {
   "cell_type": "markdown",
   "metadata": {},
   "source": [
    "# 10-fold Development and Cross-Validation"
   ],
   "id": "c90c7582-8e18-4f10-ae06-22e42855c0b9"
  },
  {
   "cell_type": "code",
   "execution_count": null,
   "metadata": {},
   "outputs": [
    {
     "output_type": "stream",
     "name": "stderr",
     "text": [
      "── Attaching core tidyverse packages ──────────────────────── tidyverse 2.0.0 ──\n",
      "✔ dplyr     1.1.4     ✔ readr     2.1.4\n",
      "✔ forcats   1.0.0     ✔ stringr   1.5.1\n",
      "✔ ggplot2   3.4.4     ✔ tibble    3.2.1\n",
      "✔ lubridate 1.9.3     ✔ tidyr     1.3.0\n",
      "✔ purrr     1.0.2     \n",
      "── Conflicts ────────────────────────────────────────── tidyverse_conflicts() ──\n",
      "✖ dplyr::filter() masks stats::filter()\n",
      "✖ dplyr::lag()    masks stats::lag()\n",
      "ℹ Use the conflicted package (<http://conflicted.r-lib.org/>) to force all conflicts to become errors\n",
      "Rows: 5669 Columns: 113\n",
      "── Column specification ────────────────────────────────────────────────────────\n",
      "Delimiter: \",\"\n",
      "chr   (4): patient_ID, site, dept, LZD_route\n",
      "dbl  (20): patient_age, patient_weight, charlson, baseline_CLCR, baseline_WB...\n",
      "lgl  (85): patient_sex, dept_ICU, dept_ER, dept_other, invasive_ETI, invasiv...\n",
      "date  (4): baseline_date, LZD_start, LZD_end, test_date\n",
      "\n",
      "ℹ Use `spec()` to retrieve the full column specification for this data.\n",
      "ℹ Specify the column types or set `show_col_types = FALSE` to quiet this message.\n",
      "Rows: 780 Columns: 105\n",
      "── Column specification ────────────────────────────────────────────────────────\n",
      "Delimiter: \",\"\n",
      "chr   (4): patient_ID, site, dept, LZD_route\n",
      "dbl  (13): patient_age, patient_weight, charlson, baseline_CLCR, baseline_WB...\n",
      "lgl  (85): patient_sex, dept_ICU, dept_ER, dept_other, invasive_ETI, invasiv...\n",
      "date  (3): baseline_date, LZD_start, LZD_end\n",
      "\n",
      "ℹ Use `spec()` to retrieve the full column specification for this data.\n",
      "ℹ Specify the column types or set `show_col_types = FALSE` to quiet this message."
     ]
    }
   ],
   "source": [
    "source(\"notebooks/initialize-data-analysis.r\")"
   ],
   "id": "a79a87da-b35b-4514-a880-887c9147a472"
  },
  {
   "cell_type": "code",
   "execution_count": null,
   "metadata": {},
   "outputs": [
    {
     "output_type": "stream",
     "name": "stderr",
     "text": [
      "Loading required package: future"
     ]
    },
    {
     "output_type": "stream",
     "name": "stderr",
     "text": [
      "── Attaching packages ────────────────────────────────────── tidymodels 1.1.1 ──"
     ]
    },
    {
     "output_type": "stream",
     "name": "stderr",
     "text": [
      "✔ broom        1.0.5     ✔ recipes      1.0.9\n",
      "✔ dials        1.2.0     ✔ tune         1.1.2\n",
      "✔ infer        1.0.5     ✔ workflows    1.1.3\n",
      "✔ modeldata    1.3.0     ✔ workflowsets 1.0.1\n",
      "✔ parsnip      1.1.1     ✔ yardstick    1.3.0"
     ]
    },
    {
     "output_type": "stream",
     "name": "stderr",
     "text": [
      "── Conflicts ───────────────────────────────────────── tidymodels_conflicts() ──\n",
      "✖ scales::discard() masks purrr::discard()\n",
      "✖ dplyr::filter()   masks stats::filter()\n",
      "✖ recipes::fixed()  masks stringr::fixed()\n",
      "✖ dplyr::lag()      masks stats::lag()\n",
      "✖ yardstick::spec() masks readr::spec()\n",
      "✖ recipes::step()   masks stats::step()\n",
      "• Use tidymodels_prefer() to resolve common conflicts."
     ]
    },
    {
     "output_type": "stream",
     "name": "stderr",
     "text": [
      "Loading required package: rms"
     ]
    },
    {
     "output_type": "stream",
     "name": "stderr",
     "text": [
      "Loading required package: Hmisc"
     ]
    },
    {
     "output_type": "stream",
     "name": "stderr",
     "text": [
      "\n",
      "Attaching package: 'Hmisc'"
     ]
    },
    {
     "output_type": "stream",
     "name": "stderr",
     "text": [
      "The following object is masked from 'package:parsnip':\n",
      "\n",
      "    translate"
     ]
    },
    {
     "output_type": "stream",
     "name": "stderr",
     "text": [
      "The following objects are masked from 'package:dplyr':\n",
      "\n",
      "    src, summarize"
     ]
    },
    {
     "output_type": "stream",
     "name": "stderr",
     "text": [
      "The following objects are masked from 'package:base':\n",
      "\n",
      "    format.pval, units"
     ]
    }
   ],
   "source": [
    "library(rsample) # for vfold_cv()\n",
    "library(furrr) # for future_map()"
   ],
   "id": "8fb3357b-a51d-4625-a077-930af24004ee"
  },
  {
   "cell_type": "code",
   "execution_count": null,
   "metadata": {},
   "outputs": [],
   "source": [
    "fold_performance_metrics <- fold_estimates |>\n",
    "  summarise(\n",
    "    mean_fold_C_index = mean(fold_C_index),\n",
    "    mean_fold_calibration_intercept = mean(fold_calibration_intercept),\n",
    "    mean_fold_calibration_slope = mean(fold_calibration_slope)\n",
    "  )"
   ],
   "id": "edb2fb2f-a0ac-409c-a203-ab9442fb6295"
  },
  {
   "cell_type": "code",
   "execution_count": null,
   "metadata": {},
   "outputs": [],
   "source": [
    "save(fold_performance_metrics, file = \"data/model-performance/fold-performance-metrics.rda\")"
   ],
   "id": "e42c3b5d-68c0-4e22-99a4-be6d789ac375"
  }
 ],
 "nbformat": 4,
 "nbformat_minor": 5,
 "metadata": {}
}
