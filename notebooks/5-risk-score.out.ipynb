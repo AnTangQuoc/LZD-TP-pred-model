{
 "cells": [
  {
   "cell_type": "markdown",
   "metadata": {},
   "source": [
    "# Risk Score System and Algorithm"
   ],
   "id": "29d075dc-96cd-484b-ab3f-bd09ccd57cf1"
  },
  {
   "cell_type": "code",
   "execution_count": null,
   "metadata": {},
   "outputs": [
    {
     "output_type": "stream",
     "name": "stderr",
     "text": [
      "── Attaching core tidyverse packages ──────────────────────── tidyverse 2.0.0 ──\n",
      "✔ dplyr     1.1.4     ✔ readr     2.1.4\n",
      "✔ forcats   1.0.0     ✔ stringr   1.5.1\n",
      "✔ ggplot2   3.4.4     ✔ tibble    3.2.1\n",
      "✔ lubridate 1.9.3     ✔ tidyr     1.3.0\n",
      "✔ purrr     1.0.2     \n",
      "── Conflicts ────────────────────────────────────────── tidyverse_conflicts() ──\n",
      "✖ dplyr::filter() masks stats::filter()\n",
      "✖ dplyr::lag()    masks stats::lag()\n",
      "ℹ Use the conflicted package (<http://conflicted.r-lib.org/>) to force all conflicts to become errors\n",
      "Rows: 5669 Columns: 113\n",
      "── Column specification ────────────────────────────────────────────────────────\n",
      "Delimiter: \",\"\n",
      "chr   (4): patient_ID, site, dept, LZD_route\n",
      "dbl  (20): patient_age, patient_weight, charlson, baseline_CLCR, baseline_WB...\n",
      "lgl  (85): patient_sex, dept_ICU, dept_ER, dept_other, invasive_ETI, invasiv...\n",
      "date  (4): baseline_date, LZD_start, LZD_end, test_date\n",
      "\n",
      "ℹ Use `spec()` to retrieve the full column specification for this data.\n",
      "ℹ Specify the column types or set `show_col_types = FALSE` to quiet this message.\n",
      "Rows: 780 Columns: 105\n",
      "── Column specification ────────────────────────────────────────────────────────\n",
      "Delimiter: \",\"\n",
      "chr   (4): patient_ID, site, dept, LZD_route\n",
      "dbl  (13): patient_age, patient_weight, charlson, baseline_CLCR, baseline_WB...\n",
      "lgl  (85): patient_sex, dept_ICU, dept_ER, dept_other, invasive_ETI, invasiv...\n",
      "date  (3): baseline_date, LZD_start, LZD_end\n",
      "\n",
      "ℹ Use `spec()` to retrieve the full column specification for this data.\n",
      "ℹ Specify the column types or set `show_col_types = FALSE` to quiet this message."
     ]
    }
   ],
   "source": [
    "source(\"notebooks/initialize-data-analysis.r\")\n"
   ],
   "id": "eb579334-74e8-47b2-a4ed-03b3020f6c83"
  },
  {
   "cell_type": "code",
   "execution_count": null,
   "metadata": {},
   "outputs": [
    {
     "output_type": "stream",
     "name": "stderr",
     "text": [
      "── Attaching packages ────────────────────────────────────── tidymodels 1.1.1 ──"
     ]
    },
    {
     "output_type": "stream",
     "name": "stderr",
     "text": [
      "✔ broom        1.0.5     ✔ rsample      1.2.0\n",
      "✔ dials        1.2.0     ✔ tune         1.1.2\n",
      "✔ infer        1.0.5     ✔ workflows    1.1.3\n",
      "✔ modeldata    1.3.0     ✔ workflowsets 1.0.1\n",
      "✔ parsnip      1.1.1     ✔ yardstick    1.3.0\n",
      "✔ recipes      1.0.9     "
     ]
    },
    {
     "output_type": "stream",
     "name": "stderr",
     "text": [
      "── Conflicts ───────────────────────────────────────── tidymodels_conflicts() ──\n",
      "✖ scales::discard() masks purrr::discard()\n",
      "✖ dplyr::filter()   masks stats::filter()\n",
      "✖ recipes::fixed()  masks stringr::fixed()\n",
      "✖ dplyr::lag()      masks stats::lag()\n",
      "✖ yardstick::spec() masks readr::spec()\n",
      "✖ recipes::step()   masks stats::step()\n",
      "• Use suppressPackageStartupMessages() to eliminate package startup messages"
     ]
    }
   ],
   "source": [
    "library(tidyverse)\n",
    "library(tidymodels)\n"
   ],
   "id": "b33b1632-8acd-4918-ad8f-e668564820bd"
  },
  {
   "cell_type": "markdown",
   "metadata": {},
   "source": [
    "## Risk Score System\n",
    "\n",
    "All code below is not automatic. Variables and ranges are manually defined."
   ],
   "id": "0f4b2bbc-f6d9-4399-afaa-33a002e5ed5d"
  },
  {
   "cell_type": "code",
   "execution_count": null,
   "metadata": {},
   "outputs": [],
   "source": [
    "risk_profile_1 <- tibble(\n",
    "  risk_factor = \"patient_age\",\n",
    "  min_range = c(18, 30, 40, 50, 60, 70, 80, 90), # minimum age is 18\n",
    "  max_range = lead(min_range, default = 101), # maximum age is 101, interval is 10\n",
    "  reference = (min_range + max_range) / 2,\n",
    "  flag_base_risk = FALSE\n",
    ") |>\n",
    "  mutate(\n",
    "    flag_base_risk = replace(flag_base_risk, 1, TRUE)\n",
    "  )\n",
    "\n",
    "risk_profile_2 <- tibble(\n",
    "  risk_factor = \"baseline_PLT\",\n",
    "  min_range = c(150, 75, 50, 25, 18), # 1% percentile is 18\n",
    "  max_range = lag(min_range, default = 434), # 99% percentile is 434\n",
    "  reference = (min_range + max_range) / 2,\n",
    "  flag_base_risk = FALSE\n",
    ") |>\n",
    "  mutate(\n",
    "    min_range = replace(min_range, n(), -Inf),\n",
    "    max_range = replace(max_range, 1, Inf),\n",
    "    flag_base_risk = replace(flag_base_risk, 1, TRUE)\n",
    "  )\n",
    "\n",
    "risk_profile_3 <- tibble(\n",
    "  risk_factor = \"LZD_duration\",\n",
    "  min_range = c(3, 7, 14), # 1% percentile is 3\n",
    "  max_range = lead(min_range, default = 26), # 99% percentile is 26\n",
    "  reference = (min_range + max_range) / 2,\n",
    "  flag_base_risk = FALSE\n",
    ") |>\n",
    "  mutate(\n",
    "    min_range = replace(min_range, 1, -Inf),\n",
    "    max_range = replace(max_range, n(), Inf),\n",
    "    flag_base_risk = replace(flag_base_risk, 1, TRUE)\n",
    "  )\n",
    "\n",
    "risk_profile_4 <- tibble(\n",
    "  risk_factor = \"invasive_CRRT\",\n",
    "  min_range = c(0, 1), # 0 or 1\n",
    "  max_range = c(0, 1), # 0 or 1\n",
    "  reference = c(0, 1),\n",
    "  flag_base_risk = FALSE\n",
    ") |>\n",
    "  mutate(\n",
    "    flag_base_risk = replace(flag_base_risk, 1, TRUE)\n",
    "  )\n",
    "\n",
    "risk_profile <- bind_rows(risk_profile_1, risk_profile_2, risk_profile_3, risk_profile_4)\n"
   ],
   "id": "8bf2a61f-5a31-4037-95c1-fe0918d9df4f"
  },
  {
   "cell_type": "code",
   "execution_count": null,
   "metadata": {},
   "outputs": [
    {
     "output_type": "display_data",
     "metadata": {},
     "data": {
      "text/markdown": [
       "  risk_factor       min_range   max_range   points\n",
       "  --------------- ----------- ----------- --------\n",
       "  patient_age              18          30        0\n",
       "  patient_age              30          40        1\n",
       "  patient_age              40          50        2\n",
       "  patient_age              50          60        3\n",
       "  patient_age              60          70        4\n",
       "  patient_age              70          80        5\n",
       "  patient_age              80          90        6\n",
       "  patient_age              90         101        7\n",
       "  baseline_PLT            150         Inf        0\n",
       "  baseline_PLT             75         150        8\n",
       "  baseline_PLT             50          75       10\n",
       "  baseline_PLT             25          50       11\n",
       "  baseline_PLT           -Inf          25       12\n",
       "  LZD_duration           -Inf           7        0\n",
       "  LZD_duration              7          14        2\n",
       "  LZD_duration             14         Inf        5\n",
       "  invasive_CRRT             0           0        0\n",
       "  invasive_CRRT             1           1        6\n"
      ]
     }
    },
    {
     "output_type": "display_data",
     "metadata": {},
     "data": {
      "text/markdown": [
       "    points_total   risk_estimate\n",
       "  -------------- ---------------\n",
       "               0       0.0500605\n",
       "               1       0.0609661\n",
       "               2       0.0740624\n",
       "               3       0.0897031\n",
       "               4       0.1082606\n",
       "               5       0.1301086\n",
       "               6       0.1555964\n",
       "               7       0.1850152\n",
       "               8       0.2185565\n",
       "               9       0.2562666\n",
       "              10       0.2980019\n",
       "              11       0.3433959\n",
       "              12       0.3918449\n",
       "              13       0.4425226\n",
       "              14       0.4944260\n",
       "              15       0.5464499\n",
       "              16       0.5974786\n",
       "              17       0.6464804\n",
       "              18       0.6925861\n",
       "              19       0.7351422\n",
       "              20       0.7737319\n",
       "              21       0.8081662\n",
       "              22       0.8384543\n",
       "              23       0.8647605\n",
       "              24       0.8873585\n",
       "              25       0.9065883\n",
       "              26       0.9228209\n",
       "              27       0.9364304\n",
       "              28       0.9477759\n",
       "              29       0.9571890\n",
       "              30       0.9649682\n"
      ]
     }
    }
   ],
   "source": [
    "B_constant <- parameter_estimates |>\n",
    "  filter(risk_factor == \"patient_age\") |>\n",
    "  pull(beta) * 10 # constant equivalent to 10-year increase in age\n",
    "\n",
    "points_system_full <- parameter_estimates |>\n",
    "  select(risk_factor, beta) |>\n",
    "  right_join(risk_profile, by = \"risk_factor\") |>\n",
    "  group_by(risk_factor) |>\n",
    "  mutate(\n",
    "    beta_sum = beta * (reference - reference[which.max(flag_base_risk)]),\n",
    "    points = round(beta_sum / B_constant, 0)\n",
    "  )\n",
    "\n",
    "points_system_factors <- points_system_full |>\n",
    "  select(risk_factor, min_range, max_range, points)\n",
    "\n",
    "min_points <- points_system_full |>\n",
    "  group_by(risk_factor) |>\n",
    "  summarise(min_points = min(points)) |>\n",
    "  summarise(total_min_points = sum(min_points)) |>\n",
    "  pull(total_min_points)\n",
    "\n",
    "max_points <- points_system_full |>\n",
    "  group_by(risk_factor) |>\n",
    "  summarise(max_points = max(points)) |>\n",
    "  summarise(total_max_points = sum(max_points)) |>\n",
    "  pull(total_max_points)\n",
    "\n",
    "risk_function <- function(points) {\n",
    "  intercept <- parameter_estimates |>\n",
    "    filter(risk_factor == \"Intercept\") |>\n",
    "    pull(beta)\n",
    "\n",
    "  beta_base <- points_system_full |>\n",
    "    filter(flag_base_risk == TRUE) |>\n",
    "    ungroup() |>\n",
    "    summarise(\n",
    "      beta_base = sum(beta * reference)\n",
    "    ) |>\n",
    "    pull(beta_base)\n",
    "  \n",
    "  1 / (1 + exp(-(intercept + beta_base + B_constant * points)))\n",
    "}\n",
    "\n",
    "points_system_risks <- tibble(\n",
    "  points_total = seq(min_points, max_points),\n",
    "  risk_estimate = risk_function(points_total)\n",
    ")\n",
    "\n",
    "points_system_factors |> knitr::kable()\n"
   ],
   "id": "0639e753-7b39-484e-a57b-a31687e42315"
  }
 ],
 "nbformat": 4,
 "nbformat_minor": 5,
 "metadata": {}
}
