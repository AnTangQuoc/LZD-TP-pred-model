{
 "cells": [
  {
   "cell_type": "markdown",
   "metadata": {},
   "source": [
    "# Bootstrap Development and Validation"
   ],
   "id": "afc79157-a30f-423c-8792-21c138772fb6"
  },
  {
   "cell_type": "code",
   "execution_count": null,
   "metadata": {},
   "outputs": [
    {
     "output_type": "stream",
     "name": "stderr",
     "text": [
      "── Attaching core tidyverse packages ──────────────────────── tidyverse 2.0.0 ──\n",
      "✔ dplyr     1.1.4     ✔ readr     2.1.5\n",
      "✔ forcats   1.0.0     ✔ stringr   1.5.1\n",
      "✔ ggplot2   3.5.0     ✔ tibble    3.2.1\n",
      "✔ lubridate 1.9.3     ✔ tidyr     1.3.1\n",
      "✔ purrr     1.0.2     \n",
      "── Conflicts ────────────────────────────────────────── tidyverse_conflicts() ──\n",
      "✖ dplyr::filter() masks stats::filter()\n",
      "✖ dplyr::lag()    masks stats::lag()\n",
      "ℹ Use the conflicted package (<http://conflicted.r-lib.org/>) to force all conflicts to become errors"
     ]
    }
   ],
   "source": [
    "source(\"notebooks/initialize-data-analysis.r\")"
   ],
   "id": "62662778-d92c-41ea-b256-c0c97befdb1a"
  },
  {
   "cell_type": "code",
   "execution_count": null,
   "metadata": {},
   "outputs": [
    {
     "output_type": "stream",
     "name": "stderr",
     "text": [
      "Loading required package: future"
     ]
    },
    {
     "output_type": "stream",
     "name": "stderr",
     "text": [
      "── Attaching packages ────────────────────────────────────── tidymodels 1.1.1 ──"
     ]
    },
    {
     "output_type": "stream",
     "name": "stderr",
     "text": [
      "✔ broom        1.0.5      ✔ recipes      1.0.10\n",
      "✔ dials        1.2.1      ✔ tune         1.1.2 \n",
      "✔ infer        1.0.6      ✔ workflows    1.1.4 \n",
      "✔ modeldata    1.3.0      ✔ workflowsets 1.0.1 \n",
      "✔ parsnip      1.2.0      ✔ yardstick    1.3.0 "
     ]
    },
    {
     "output_type": "stream",
     "name": "stderr",
     "text": [
      "── Conflicts ───────────────────────────────────────── tidymodels_conflicts() ──\n",
      "✖ scales::discard() masks purrr::discard()\n",
      "✖ dplyr::filter()   masks stats::filter()\n",
      "✖ recipes::fixed()  masks stringr::fixed()\n",
      "✖ dplyr::lag()      masks stats::lag()\n",
      "✖ yardstick::spec() masks readr::spec()\n",
      "✖ recipes::step()   masks stats::step()\n",
      "• Use tidymodels_prefer() to resolve common conflicts."
     ]
    },
    {
     "output_type": "stream",
     "name": "stderr",
     "text": [
      "Loading required package: rms"
     ]
    },
    {
     "output_type": "stream",
     "name": "stderr",
     "text": [
      "Loading required package: Hmisc"
     ]
    },
    {
     "output_type": "stream",
     "name": "stderr",
     "text": [
      "\n",
      "Attaching package: 'Hmisc'"
     ]
    },
    {
     "output_type": "stream",
     "name": "stderr",
     "text": [
      "The following object is masked from 'package:parsnip':\n",
      "\n",
      "    translate"
     ]
    },
    {
     "output_type": "stream",
     "name": "stderr",
     "text": [
      "The following objects are masked from 'package:dplyr':\n",
      "\n",
      "    src, summarize"
     ]
    },
    {
     "output_type": "stream",
     "name": "stderr",
     "text": [
      "The following objects are masked from 'package:base':\n",
      "\n",
      "    format.pval, units"
     ]
    }
   ],
   "source": [
    "library(rsample) # for bootstraps()\n",
    "library(furrr) # for future_map()"
   ],
   "id": "29e22a1d-8e7a-4618-830e-4627e66d8f67"
  },
  {
   "cell_type": "code",
   "execution_count": null,
   "metadata": {},
   "outputs": [],
   "source": [
    "load(\"data/model-performance/apparent-performance-metrics.rda\")\n",
    "\n",
    "corrected_performance_metrics <- bind_cols(apparent_performance_metrics, optimism_estimates) |>\n",
    "  mutate(\n",
    "    corrected_C_index = apparent_C_index - mean_optimism_C_index,\n",
    "    corrected_calibration_intercept = apparent_calibration_intercept - mean_optimism_calibration_intercept,\n",
    "    corrected_calibration_slope = apparent_calibration_slope - mean_optimism_calibration_slope\n",
    "  ) |>\n",
    "  select(starts_with(\"corrected\"))"
   ],
   "id": "758f6956-2a10-4d3a-bb10-88109ee08e40"
  },
  {
   "cell_type": "code",
   "execution_count": null,
   "metadata": {},
   "outputs": [],
   "source": [
    "save(corrected_performance_metrics, file = \"data/model-performance/corrected-performance-metrics.rda\")"
   ],
   "id": "9f30175d-5b60-4526-be76-92fdcd6d9796"
  }
 ],
 "nbformat": 4,
 "nbformat_minor": 5,
 "metadata": {}
}
