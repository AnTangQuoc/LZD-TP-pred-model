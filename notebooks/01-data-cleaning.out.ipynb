{
 "cells": [
  {
   "cell_type": "markdown",
   "metadata": {},
   "source": [
    "# Data Cleaning\n",
    "\n",
    "## Inputs\n",
    "\n",
    "Import processed original data from the `data-original-processed` directory, which is available on Github.\n",
    "\n",
    "The import code is in the `process-data.R` file in the `data-original-processed` directory.\n",
    "\n",
    "The unprocessed data in Excel format is not available on GitHub as it contains non-anonymized patient data.\n",
    "\n",
    "Some cleaning steps were performed in Excel before importing the data into R."
   ],
   "id": "a58883b8-e312-4475-aa5c-96cc6ae79aa7"
  },
  {
   "cell_type": "code",
   "execution_count": null,
   "metadata": {},
   "outputs": [
    {
     "output_type": "stream",
     "name": "stderr",
     "text": [
      "── Attaching core tidyverse packages ──────────────────────── tidyverse 2.0.0 ──\n",
      "✔ dplyr     1.1.4     ✔ readr     2.1.5\n",
      "✔ forcats   1.0.0     ✔ stringr   1.5.1\n",
      "✔ ggplot2   3.5.1     ✔ tibble    3.2.1\n",
      "✔ lubridate 1.9.4     ✔ tidyr     1.3.1\n",
      "✔ purrr     1.0.2     \n",
      "── Conflicts ────────────────────────────────────────── tidyverse_conflicts() ──\n",
      "✖ dplyr::filter() masks stats::filter()\n",
      "✖ dplyr::lag()    masks stats::lag()\n",
      "ℹ Use the conflicted package (<http://conflicted.r-lib.org/>) to force all conflicts to become errors"
     ]
    }
   ],
   "source": [
    "library(tidyverse)\n"
   ],
   "id": "0c983087-1eb2-4fea-b416-cdd4f7140129"
  },
  {
   "cell_type": "markdown",
   "metadata": {},
   "source": [
    "## Cleaning\n",
    "\n",
    "This code cleans and filters the ‘inputs_general’ data.\n",
    "\n",
    "1.  Replaces ‘TrTM’ with ‘IV’ in the ‘LZD_route’ column.\n",
    "2.  Replaces any occurrence of ‘IV’ followed by ‘PO’ or ‘PO’ followed by ‘IV’ in the ‘LZD_route’ column with ‘IV&PO’.\n",
    "3.  Removes rows where ‘LZD_route’ is ‘0’.\n",
    "4.  Removes rows where ‘patient_age’ is less than 18.\n",
    "5.  Removes rows where ‘LZD_duration’ is less than 3.\n",
    "6.  Removes rows where ‘LZD_start’ or ‘LZD_end’ is not within the study period.\n",
    "7.  Removes rows where any variable that starts with “comed” is NA.\n",
    "8.  Removes second treatment period (if any) by removing rows where ‘patient_ID’ contains “\\_2”."
   ],
   "id": "694423d3-f6d6-4367-a0a2-4d2bb5746e95"
  },
  {
   "cell_type": "code",
   "execution_count": null,
   "metadata": {},
   "outputs": [],
   "source": [
    "inputs_cleaned <- inputs_general |>\n",
    "  mutate(\n",
    "    LZD_route = str_replace(LZD_route, \"TrTM\", \"IV\"),\n",
    "    LZD_route = str_replace(LZD_route, \"IV.*PO|PO.*IV\", \"IV&PO\")\n",
    "  ) |>\n",
    "  filter(!LZD_route == \"0\") |>\n",
    "  filter(patient_age >= 18) |>\n",
    "  filter(LZD_duration >= 3) |>\n",
    "  filter(complete.cases(across(starts_with(\"comed\")))) |>\n",
    "  filter(\n",
    "    site == \"ND1\" &\n",
    "      (between(LZD_start, as_date(\"2021-05-01\"), as_date(\"2021-12-31\")) |\n",
    "        between(LZD_end, as_date(\"2021-05-01\"), as_date(\"2021-12-31\"))) |\n",
    "      site == \"ND2\" &\n",
    "        (between(LZD_start, as_date(\"2022-04-01\"), as_date(\"2022-09-30\")) |\n",
    "          between(LZD_end, as_date(\"2022-04-01\"), as_date(\"2022-09-30\"))) |\n",
    "      site == \"BM1\" &\n",
    "        (between(LZD_start, as_date(\"2019-11-01\"), as_date(\"2019-12-31\")) |\n",
    "          between(LZD_end, as_date(\"2019-11-01\"), as_date(\"2019-12-31\"))) |\n",
    "      site == \"BM2\" &\n",
    "        (between(LZD_start, as_date(\"2022-12-01\"), as_date(\"2023-03-31\")) |\n",
    "          between(LZD_end, as_date(\"2022-12-01\"), as_date(\"2023-03-31\"))) |\n",
    "      site == \"TN1\" &\n",
    "        (between(LZD_start, as_date(\"2020-01-01\"), as_date(\"2020-06-30\")) |\n",
    "          between(LZD_end, as_date(\"2020-01-01\"), as_date(\"2020-06-30\"))) |\n",
    "      site == \"TN2\" &\n",
    "        (between(LZD_start, as_date(\"2022-09-01\"), as_date(\"2023-02-28\")) |\n",
    "          between(LZD_end, as_date(\"2022-09-01\"), as_date(\"2023-02-28\")))\n",
    "  ) |>\n",
    "  filter(!str_detect(patient_ID, \"_2\")) |>\n",
    "  filter(!comorb_hematological & !comorb_SLE & !disorder_out)\n"
   ],
   "id": "ff40d9c5-676c-47c1-94e9-06b2d20ef534"
  },
  {
   "cell_type": "markdown",
   "metadata": {},
   "source": [
    "This code filters the ‘inputs_labs_general’ data frame.\n",
    "\n",
    "1.  Remove rows with LZD use duration less than 3 days.\n",
    "2.  Remove second LZD episode.\n",
    "3.  Keeps only the rows with the minimum ‘test_PLT’ for each ‘test_date’ in each ‘patient_ID’"
   ],
   "id": "7d30ab3f-b2b2-491e-a4ee-7f2d72ccae9f"
  },
  {
   "cell_type": "code",
   "execution_count": null,
   "metadata": {},
   "outputs": [
    {
     "output_type": "stream",
     "name": "stderr",
     "text": [
      "Warning: There were 450 warnings in `filter()`.\n",
      "The first warning was:\n",
      "ℹ In argument: `test_PLT == min(test_PLT, na.rm = TRUE)`.\n",
      "ℹ In group 3: `patient_ID = \"000847\"` and `test_date = 2020-06-09`.\n",
      "Caused by warning in `min()`:\n",
      "! no non-missing arguments to min; returning Inf\n",
      "ℹ Run `dplyr::last_dplyr_warnings()` to see the 449 remaining warnings."
     ]
    }
   ],
   "source": [
    "inputs_labs_pipe_1 <- inputs_labs_general |>\n",
    "  filter(LZD_end - LZD_start >= 2) |>\n",
    "  filter(!str_detect(patient_ID, \"_2\")) |>\n",
    "  group_by(patient_ID, test_date) |>\n",
    "  filter(test_PLT == min(test_PLT, na.rm = TRUE)) |>\n",
    "  mutate(test_PLT = na_if(test_PLT, Inf)) |>\n",
    "  ungroup()\n"
   ],
   "id": "7d56964e-4fde-400e-b5f0-6fc4331f47f0"
  },
  {
   "cell_type": "markdown",
   "metadata": {},
   "source": [
    "This code remove ‘patient_ID’ that has no valid ‘test_PLT’ either in 7 days prior to ‘LZD_start’ or during LZD use.\n",
    "\n",
    "1.  Two rows are added to each ‘patient_ID’ to ensure there is at least one row in both time periods of each patient that can be used for flagging.\n",
    "2.  ‘flag_post_start’ is used to separate two time periods for each ‘patient_ID’. The first period is 7 days prior to ‘LZD_start’ and the second period is during LZD use.\n",
    "3.  ‘flag_too_early’ and ‘flag_post_end’ are used to flag observations that are before 7 days prior to ‘LZD_start’ or after ‘LZD_end’, so ‘test_PLT’ in these periods will not be valid.\n",
    "4.  ‘flag_remove_check’ is used to check if all ‘test_PLT’ values are NAs in each time periods of each ‘patient_ID’. If any time period initially had no rows, the new row added in step 1 will be used. That group will have only one ‘test_PLT’ with the value NA and so the flag will be TRUE. The ‘test_PLT’ in ‘flag_too_early’ and ‘flag_post_end’ periods are not included in the check as they are not valid.\n",
    "5.  For each ‘patient_ID’, if any ‘flag_remove_check’ is TRUE, all rows of that ‘patient_ID’ will be removed.\n",
    "6.  Finally, rows with ‘flag_temp’ as TRUE are removed. These rows were added in step 1 and are no longer needed. The column itself is also removed."
   ],
   "id": "1bc6a86d-3be8-42a2-a464-755598b8a57e"
  },
  {
   "cell_type": "code",
   "execution_count": null,
   "metadata": {},
   "outputs": [],
   "source": [
    "# Helper function to add new rows to each group in a data frame.\n",
    "# reframe() generate new rows where its arguments are variables in the data frame.\n",
    "# bind_rows() bind the new rows to the original data frame.\n",
    "# group_modify() apply the previous functions to each group in a data frame.\n",
    "add_reframe_rows <- function(.data, ...) {\n",
    "  group_modify(.data, function(x, y) {\n",
    "    bind_rows(x, reframe(x, ...))\n",
    "  })\n",
    "}\n",
    "\n",
    "inputs_labs_cleaned <- inputs_labs_pipe_1 |>\n",
    "  group_by(patient_ID) |>\n",
    "  arrange(test_date, .by_group = TRUE) |>\n",
    "  add_reframe_rows(test_date = min(test_date) - 100, LZD_start = min(LZD_start), flag_temp = TRUE) |>\n",
    "  add_reframe_rows(test_date = max(test_date) + 100, LZD_start = max(LZD_start), flag_temp = TRUE) |>\n",
    "  mutate(\n",
    "    flag_too_early = test_date <= LZD_start - 8,\n",
    "    flag_post_start = test_date >= LZD_start + 1,\n",
    "    flag_post_end = test_date >= LZD_end + 1\n",
    "  ) |>\n",
    "  group_by(patient_ID, flag_post_start) |>\n",
    "  mutate(flag_remove_check = all(is.na(test_PLT[which((!flag_too_early & !flag_post_end) | flag_temp)]))) |>\n",
    "  group_by(patient_ID) |>\n",
    "  filter(!any(flag_remove_check)) |>\n",
    "  filter(is.na(flag_temp)) |>\n",
    "  select(-flag_temp)\n"
   ],
   "id": "15362f4d-cee9-48ac-8443-8d967653c158"
  },
  {
   "cell_type": "markdown",
   "metadata": {},
   "source": [
    "inner_join() keeps only patients present in both data frames, essentially removing patients without lab tests or other comorbidity/medication data."
   ],
   "id": "52a95d66-0ae0-4ce1-a4bd-0ec983b7b4ac"
  },
  {
   "cell_type": "code",
   "execution_count": null,
   "metadata": {},
   "outputs": [
    {
     "output_type": "stream",
     "name": "stderr",
     "text": [
      "Joining with `by = join_by(patient_ID, LZD_start, LZD_end)`"
     ]
    }
   ],
   "source": [
    "inputs_cleaned_joined <-\n",
    "  inner_join(inputs_cleaned, inputs_labs_cleaned)\n"
   ],
   "id": "0aabf039-48e7-4a2b-a098-125c688fdf32"
  },
  {
   "cell_type": "markdown",
   "metadata": {},
   "source": [
    "## Mutating\n",
    "\n",
    "This code flags ‘patient_ID’ that had at least one thrombocytopenia event during LZD use.\n",
    "\n",
    "Thrombocytopenia is defined as follows:\n",
    "\n",
    "1.  If baseline PLT is normal (150-450), then thrombocytopenia is defined as PLT \\< 112.5.\n",
    "2.  If baseline PLT is low (\\< 150), then thrombocytopenia is defined as PLT \\<= 75% of baseline.\n",
    "\n",
    "Baseline date is defined as the latest ‘test_date’ before ‘LZD_start’ that has a non-NA ‘test_PLT.’\n",
    "\n",
    "This ‘test_date’ must be within 7 days before ‘LZD_start’, which means ‘flag_too_early’ must be FALSE.\n",
    "\n",
    "The code performs the following operations: 1. Groups the data by ‘patient_ID’. 2. Flags all ‘test_date’ after the baseline date. Baseline is defined above. 3. Flags all ‘test_date’ that meet the thrombocytopenia definition. This is an ADR event. 4. Flags all ‘patient_ID’ that have at least one thrombocytopenia ADR event during LZD use.\n",
    "\n",
    "Notes: max(which()) finds the index of the last TRUE value in a logical vector.\n",
    "\n",
    "while which.max() finds the index of the first TRUE value in a logical vector."
   ],
   "id": "0fd1a6f8-2a5c-4791-9cca-f10801dffef4"
  },
  {
   "cell_type": "code",
   "execution_count": null,
   "metadata": {},
   "outputs": [],
   "source": [
    "inputs_analyze_1 <- inputs_cleaned_joined |>\n",
    "  group_by(patient_ID) |>\n",
    "  mutate(\n",
    "    flag_too_late = test_date >= LZD_end + 6,\n",
    "    flag_post_baseline = test_date >= test_date[max(which(test_date <= LZD_start & !is.na(test_PLT) & !flag_too_early))],\n",
    "    test_ADR_TP = flag_post_baseline & !flag_too_late & (\n",
    "      (test_PLT[which.max(flag_post_baseline)] >= 150 & test_PLT <= 112.5) |\n",
    "        (test_PLT[which.max(flag_post_baseline)] < 150 & test_PLT <= 0.75 * test_PLT[which.max(flag_post_baseline)])\n",
    "    ),\n",
    "    flag_ADR_TP_ID = any(test_ADR_TP, na.rm = TRUE)\n",
    "  )\n"
   ],
   "id": "b76e767c-b513-4adb-b042-a8673c46e889"
  },
  {
   "cell_type": "markdown",
   "metadata": {},
   "source": [
    "This code adds a new column ‘test_CTCAE’ based on the Common Terminology Criteria for Adverse Events (CTCAE) for decreased platelet count.\n",
    "\n",
    "If ‘test_ADR_TP’ is TRUE, it assigns a value to ‘test_CTCAE’ based on the ‘test_PLT’ column.\n",
    "\n",
    "1.  If ‘test_PLT’ is less than 25, ‘test_CTCAE’ is assigned a value of 4.\n",
    "2.  If ‘test_PLT’ is between 25 and 50, ‘test_CTCAE’ is assigned a value of 3.\n",
    "3.  If ‘test_PLT’ is between 50 and 75, ‘test_CTCAE’ is assigned a value of 2.\n",
    "4.  If ‘test_PLT’ is between 75 and 150, ‘test_CTCAE’ is assigned a value of 1.\n",
    "\n",
    "If ‘test_ADR_TP’ is FALSE, ‘test_CTCAE’ is assigned NA.\n",
    "\n",
    "Finally, ‘test_CTCAE_max’ is assigned the maximum value of ‘test_CTCAE’ for each ‘patient_ID’."
   ],
   "id": "1c41335f-4f47-495c-9967-7125702700a1"
  },
  {
   "cell_type": "code",
   "execution_count": null,
   "metadata": {},
   "outputs": [
    {
     "output_type": "stream",
     "name": "stderr",
     "text": [
      "Warning: There were 614 warnings in `mutate()`.\n",
      "The first warning was:\n",
      "ℹ In argument: `ADR_CTCAE_max = max(test_CTCAE, na.rm = TRUE)`.\n",
      "ℹ In group 1: `patient_ID = \"000847\"`.\n",
      "Caused by warning in `max()`:\n",
      "! no non-missing arguments to max; returning -Inf\n",
      "ℹ Run `dplyr::last_dplyr_warnings()` to see the 613 remaining warnings."
     ]
    }
   ],
   "source": [
    "inputs_analyze_2 <- inputs_analyze_1 |>\n",
    "  mutate(\n",
    "    test_CTCAE =\n",
    "      if_else(\n",
    "        test_ADR_TP,\n",
    "        case_when(\n",
    "          test_PLT < 25 ~ 4,\n",
    "          test_PLT < 50 ~ 3,\n",
    "          test_PLT < 75 ~ 2,\n",
    "          test_PLT < 150 ~ 1\n",
    "        ),\n",
    "        NA_real_\n",
    "      ),\n",
    "    ADR_CTCAE_max = max(test_CTCAE, na.rm = TRUE),\n",
    "    ADR_CTCAE_max = na_if(ADR_CTCAE_max, -Inf)\n",
    "  )\n"
   ],
   "id": "171f7c01-f6c1-4d54-9011-9fe345ae4394"
  },
  {
   "cell_type": "markdown",
   "metadata": {},
   "source": [
    "This code adds a new column ‘test_onset’, which is the number of days from ‘LZD_start’ to the thrombocytopenia event.\n",
    "\n",
    "If ‘test_ADR_TP’ is TRUE, ‘test_onset’ is assigned the value of ‘test_date’ minus ‘LZD_start’.\n",
    "\n",
    "If ‘test_ADR_TP’ is FALSE, ‘test_onset’ is assigned NA.\n",
    "\n",
    "Finally, ‘test_onset_first’ is assigned the first non-NA value of ‘test_onset’ for each ‘patient_ID’."
   ],
   "id": "ed048b83-e668-4e1a-92bc-a65e8b50e87f"
  },
  {
   "cell_type": "code",
   "execution_count": null,
   "metadata": {},
   "outputs": [],
   "source": [
    "inputs_analyze_3 <- inputs_analyze_2 |>\n",
    "  mutate(\n",
    "    ADR_onset =\n",
    "      if_else(\n",
    "        test_ADR_TP,\n",
    "        as.double(test_date - LZD_start),\n",
    "        NA_real_\n",
    "      ),\n",
    "    ADR_onset_first = first(na.omit(ADR_onset))\n",
    "  )\n"
   ],
   "id": "f43e6926-3cc1-460c-a447-9276c6ecf636"
  },
  {
   "cell_type": "markdown",
   "metadata": {},
   "source": [
    "This code adds a new column ‘test_PLT_ratio’, which is the ratio of the minimum ‘test_PLT’ to the baseline ‘test_PLT’.\n",
    "\n",
    "If ‘flag_ADR_TP_ID’ is TRUE, ‘test_PLT_ratio’ is assigned the value of the ratio.\n",
    "\n",
    "If ‘flag_ADR_TP_ID’ is FALSE, ‘test_PLT_ratio’ is assigned NA."
   ],
   "id": "68b72a93-4a1c-4524-8f17-2a5167a3c97e"
  },
  {
   "cell_type": "code",
   "execution_count": null,
   "metadata": {},
   "outputs": [],
   "source": [
    "inputs_analyze_4 <- inputs_analyze_3 |>\n",
    "  mutate(\n",
    "    ADR_PLT_ratio =\n",
    "      if_else(\n",
    "        flag_ADR_TP_ID,\n",
    "        test_PLT[which.min(test_PLT)] / test_PLT[which.max(flag_post_baseline)],\n",
    "        NA_real_\n",
    "      )\n",
    "  )\n"
   ],
   "id": "2ccc5d84-1c1c-4655-9fb9-8402b4ddde87"
  },
  {
   "cell_type": "markdown",
   "metadata": {},
   "source": [
    "Changes existing data to get values from data_lab_test instead of relying on data_patient The code also removes duplicates and sorts the data by ‘site’ and ‘patient_ID’."
   ],
   "id": "4e07460e-c09c-4bb3-a77c-62de985be5a4"
  },
  {
   "cell_type": "code",
   "execution_count": null,
   "metadata": {},
   "outputs": [],
   "source": [
    "inputs_analyze_5 <- inputs_analyze_4 |>\n",
    "  mutate(\n",
    "    LZD_duration = as.numeric(LZD_end - LZD_start) + 1,\n",
    "    baseline_date = test_date[which.max(flag_post_baseline)],\n",
    "    baseline_PLT = test_PLT[which.max(flag_post_baseline)],\n",
    "    baseline_HGB = test_HGB[which.max(flag_post_baseline)],\n",
    "    baseline_WBC = test_WBC[which.max(flag_post_baseline)],\n",
    "    ADR_PLT_min = min(test_PLT[which.max(flag_post_baseline) + 1:max(which(flag_post_baseline))], na.rm = TRUE),\n",
    "    dept_ICU_ER = if_else(dept_ICU | dept_ER, TRUE, FALSE)\n",
    "  ) \n"
   ],
   "id": "9c2fb11e-868d-41ec-ac7f-0112a8399179"
  },
  {
   "cell_type": "markdown",
   "metadata": {},
   "source": [
    "## Outputs\n",
    "\n",
    "This code prepares the final data for analysis and exports it to the ‘data-cleaned’ directory.\n",
    "\n",
    "1.  The ‘data_patient_complete’ data frame contains only the first complete row of each ‘patient_ID’ in ‘data_complete’.\n",
    "\n",
    "-   Patients with any missing initial data are removed.\n",
    "-   Patients with baseline PLT \\> 450 are removed.\n",
    "-   The ‘data_patient_complete’ data frame is used for patient-level analysis.\n",
    "\n",
    "1.  The ‘data_complete’ data frame contains all the cleaned and filtered data.\n",
    "\n",
    "-   The ‘data_complete’ data frame is used for event-level analysis."
   ],
   "id": "f212fc9f-1b53-418c-bda6-d757e919c2de"
  },
  {
   "cell_type": "code",
   "execution_count": null,
   "metadata": {},
   "outputs": [],
   "source": [
    "data_patient_complete <- inputs_analyze_5 |>\n",
    "  arrange(site, patient_ID) |>\n",
    "  slice_head(n = 1) |>\n",
    "  select(-starts_with(\"test\")) |>\n",
    "  filter(complete.cases(across(-starts_with(\"ADR\")))) |>\n",
    "  filter(baseline_PLT <= 450) |>\n",
    "  ungroup()\n",
    "\n",
    "data_complete <- inputs_analyze_5 |>\n",
    "  filter(patient_ID %in% data_patient_complete$patient_ID) |>\n",
    "  ungroup()\n",
    "\n",
    "write_csv(data_complete, \"data/data-cleaned/data-complete.csv\")\n",
    "write_csv(data_patient_complete, \"data/data-cleaned/data-patient-complete.csv\")\n",
    "\n",
    "save(data_complete, data_patient_complete, file = \"data/data-cleaned/data-cleaned.rda\")\n"
   ],
   "id": "f8510ea3-528d-4e73-af01-c531c9ce5c7d"
  },
  {
   "cell_type": "markdown",
   "metadata": {},
   "source": [
    "# For ND site"
   ],
   "id": "36aa0874-1551-4c99-a431-94b9a80bd737"
  },
  {
   "cell_type": "code",
   "execution_count": null,
   "metadata": {},
   "outputs": [],
   "source": [
    "# data_patient_complete_ND <- data_patient_complete |>\n",
    "#   filter(baseline_PLT <= 450 & site %in% c(\"ND1\", \"ND2\"))\n",
    "\n",
    "# data_complete_ND <- data_complete |>\n",
    "#   group_by(patient_ID) |>\n",
    "#   filter(patient_ID %in% data_patient_complete_ND$patient_ID) |>\n",
    "#   ungroup()\n",
    "\n",
    "# write_csv(data_complete_ND, \"data/data-cleaned/data-complete-ND.csv\")\n",
    "# write_csv(data_patient_complete_ND, \"data/data-cleaned/data-patient-complete-ND.csv\")\n",
    "\n",
    "# save(data_complete_ND, data_patient_complete_ND, file = \"data/data-cleaned/data-cleaned-ND.rda\")\n"
   ],
   "id": "b89189fd-f435-49f2-b89e-da54dd732561"
  }
 ],
 "nbformat": 4,
 "nbformat_minor": 5,
 "metadata": {}
}
